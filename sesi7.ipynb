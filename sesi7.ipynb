{
 "cells": [
  {
   "cell_type": "markdown",
   "metadata": {},
   "source": [
    "# Machine Learning\n",
    "Teknik untuk bisa membuat prediksi berdasarkan data dan algoritma.\n",
    "\n",
    "Kita berikan data kepada python, kita pilih algoritma yang mau digunakan, kita latih \"model\" nya, lalu kita bisa pakai \"model\" yang sudah dilatih ini untuk membuat prediksi\n",
    "\n",
    "## Supervised\n",
    "teknik machine learning untuk membuat prediksi dari data\n",
    "\n",
    "### Regression\n",
    "saat kita mau membuat prediksi sebuah angka yang continuous, terus berjalan, seperti berat badan, tinggi badan, harga, waktu, dan lainnya\n",
    "\n",
    "algoritma pilihan ada banyak:\n",
    "- linear regression\n",
    "- polynomial regression\n",
    "- dan lainnya\n",
    "\n",
    "### Classification\n",
    "saat kita mau membuat prediksi untuk hal hal yang fix, discrete, seperti menebak ini gambar kucing atau kelinci (2 pilihan), lemparan dadu berikutnya akan dapat angka berapa? (1,2,3,4,5,6 --> enam pilihan), restoran ini bagus/ tidak? (2 pilihan)\n",
    "\n",
    "algoritma pilihan ada banyak:\n",
    "- logistic regression\n",
    "- naive bayes\n",
    "- decision tree\n",
    "- random forest\n",
    "- support vector machine\n",
    "- dan lainnya\n",
    "\n",
    "\n",
    "## Unsupervised\n",
    "teknik machine learning untuk merapikan data, misalnya:\n",
    "\n",
    "### Clustering\n",
    "mengelompokkan data berdasarkan yang mirip mirip\n",
    "\n",
    "### Dimensionality Reduction\n",
    "mengurangi dimensi sebuah data"
   ]
  },
  {
   "cell_type": "code",
   "execution_count": 84,
   "metadata": {},
   "outputs": [],
   "source": [
    "# import package\n",
    "import numpy as np\n",
    "import pandas as pd\n",
    "\n",
    "%matplotlib inline\n",
    "import matplotlib as mpl\n",
    "import matplotlib.pyplot as plt\n",
    "mpl.style.use([\"ggplot\"])\n",
    "\n",
    "# Linear Regression\n",
    "from sklearn.linear_model import LinearRegression\n",
    "\n",
    "# encoding\n",
    "from sklearn.preprocessing import LabelEncoder\n",
    "\n",
    "# Poynomial Regression\n",
    "from sklearn.preprocessing import PolynomialFeatures"
   ]
  },
  {
   "cell_type": "code",
   "execution_count": 6,
   "metadata": {},
   "outputs": [
    {
     "data": {
      "text/html": [
       "<div>\n",
       "<style scoped>\n",
       "    .dataframe tbody tr th:only-of-type {\n",
       "        vertical-align: middle;\n",
       "    }\n",
       "\n",
       "    .dataframe tbody tr th {\n",
       "        vertical-align: top;\n",
       "    }\n",
       "\n",
       "    .dataframe thead th {\n",
       "        text-align: right;\n",
       "    }\n",
       "</style>\n",
       "<table border=\"1\" class=\"dataframe\">\n",
       "  <thead>\n",
       "    <tr style=\"text-align: right;\">\n",
       "      <th></th>\n",
       "      <th>luas tanah</th>\n",
       "      <th>harga rumah</th>\n",
       "    </tr>\n",
       "  </thead>\n",
       "  <tbody>\n",
       "    <tr>\n",
       "      <th>0</th>\n",
       "      <td>5</td>\n",
       "      <td>5</td>\n",
       "    </tr>\n",
       "    <tr>\n",
       "      <th>1</th>\n",
       "      <td>15</td>\n",
       "      <td>20</td>\n",
       "    </tr>\n",
       "    <tr>\n",
       "      <th>2</th>\n",
       "      <td>25</td>\n",
       "      <td>14</td>\n",
       "    </tr>\n",
       "    <tr>\n",
       "      <th>3</th>\n",
       "      <td>35</td>\n",
       "      <td>32</td>\n",
       "    </tr>\n",
       "    <tr>\n",
       "      <th>4</th>\n",
       "      <td>45</td>\n",
       "      <td>22</td>\n",
       "    </tr>\n",
       "    <tr>\n",
       "      <th>5</th>\n",
       "      <td>55</td>\n",
       "      <td>38</td>\n",
       "    </tr>\n",
       "  </tbody>\n",
       "</table>\n",
       "</div>"
      ],
      "text/plain": [
       "   luas tanah  harga rumah\n",
       "0           5            5\n",
       "1          15           20\n",
       "2          25           14\n",
       "3          35           32\n",
       "4          45           22\n",
       "5          55           38"
      ]
     },
     "execution_count": 6,
     "metadata": {},
     "output_type": "execute_result"
    }
   ],
   "source": [
    "# import data\n",
    "x = np.array([5, 15, 25, 35, 45, 55]).reshape((-1, 1))\n",
    "y = np.array([5, 20, 14, 32, 22, 38])\n",
    "\n",
    "df = pd.DataFrame({\"luas tanah\":x.reshape(6), \"harga rumah\":y})\n",
    "df"
   ]
  },
  {
   "cell_type": "code",
   "execution_count": 7,
   "metadata": {},
   "outputs": [
    {
     "data": {
      "text/plain": [
       "<AxesSubplot:xlabel='luas tanah', ylabel='harga rumah'>"
      ]
     },
     "execution_count": 7,
     "metadata": {},
     "output_type": "execute_result"
    },
    {
     "data": {
      "image/png": "[encoded data removed]",
      "text/plain": [
       "<Figure size 432x288 with 1 Axes>"
      ]
     },
     "metadata": {},
     "output_type": "display_data"
    }
   ],
   "source": [
    "df.plot(kind=\"scatter\", x=\"luas tanah\", y=\"harga rumah\")"
   ]
  },
  {
   "cell_type": "code",
   "execution_count": 8,
   "metadata": {},
   "outputs": [
    {
     "data": {
      "text/plain": [
       "0.8460943291075494"
      ]
     },
     "execution_count": 8,
     "metadata": {},
     "output_type": "execute_result"
    }
   ],
   "source": [
    "df[\"luas tanah\"].corr(df[\"harga rumah\"])"
   ]
  },
  {
   "cell_type": "code",
   "execution_count": 13,
   "metadata": {},
   "outputs": [
    {
     "data": {
      "text/plain": [
       "LinearRegression()"
      ]
     },
     "execution_count": 13,
     "metadata": {},
     "output_type": "execute_result"
    }
   ],
   "source": [
    "# bagaimana cara membuat prediksi untuk menebak berapa harga rumah saat luas tanahnya 100\n",
    "# pakai teknik machine learning\n",
    "# 1. Data Collection --> selesai, kita sudah siapkan data dummy df\n",
    "# 2. Data Preparation --> selesai, tidak ada yg perlu dirapikan dari data dummy yang kita buat\n",
    "# fitur adalah data yang digunakan sebagai input\n",
    "# target adalah data yang digunakan sebagai output\n",
    "\n",
    "# misalkan kita mau menebak \"harga rumah\" dari \"luas rumah\", \n",
    "# artinya \"harga rumah\" = target\n",
    "# \"luas rumah\" = fitur --> 1 fitur, 1 kolom\n",
    "\n",
    "# misalkan kita mau menebak \"harga rumah\" dari \"luas rumah\" dan \"lokasi\", \n",
    "# artinya \"harga rumah\" = target\n",
    "# \"luas rumah\" dan \"lokasi\" = fitur --> ada 2 fitur, 2 kolom\n",
    "\n",
    "# jumlah fitur tidak dibatasi, bisa 1,2,3,... ratusan ribuan juga bisa\n",
    "\n",
    "#*notes kalau fitur harus dalam bentuk 2D, setiap fitur 1 kolom\n",
    "fitur = df[[\"luas tanah\"]]\n",
    "target = df[\"harga rumah\"]\n",
    "\n",
    "# 3. training\n",
    "\n",
    "# training, buat model lalu masukkan datanya\n",
    "model = LinearRegression()\n",
    "model.fit(fitur, target)"
   ]
  },
  {
   "cell_type": "code",
   "execution_count": 30,
   "metadata": {},
   "outputs": [
    {
     "name": "stderr",
     "output_type": "stream",
     "text": [
      "c:\\Users\\stefa\\anaconda3\\lib\\site-packages\\sklearn\\base.py:450: UserWarning: X does not have valid feature names, but LinearRegression was fitted with feature names\n",
      "  warnings.warn(\n"
     ]
    },
    {
     "data": {
      "text/plain": [
       "Text(0.5, 1.0, 'skor model:0.7158756137479542')"
      ]
     },
     "execution_count": 30,
     "metadata": {},
     "output_type": "execute_result"
    },
    {
     "data": {
      "image/png": "[encoded data removed]",
      "text/plain": [
       "<Figure size 432x288 with 1 Axes>"
      ]
     },
     "metadata": {},
     "output_type": "display_data"
    }
   ],
   "source": [
    "# 4. evaluasi\n",
    "# seberapa akurat model ini?\n",
    "\n",
    "# lihat hasil prediksi\n",
    "# hasil prediksi harga rumah di saat luas tanah 1-60\n",
    "x_dummy = np.arange(1,61).reshape((-1,1))\n",
    "y_pred = model.predict(x_dummy)\n",
    "\n",
    "# cek skor\n",
    "skor = model.score(fitur, target)\n",
    "\n",
    "# plot (optional)\n",
    "df.plot(kind=\"scatter\", x=\"luas tanah\", y=\"harga rumah\")\n",
    "plt.plot(x_dummy, y_pred)\n",
    "plt.title(\"skor model:\" + str(skor))"
   ]
  },
  {
   "cell_type": "code",
   "execution_count": 31,
   "metadata": {},
   "outputs": [],
   "source": [
    "# 5. tuning"
   ]
  },
  {
   "cell_type": "code",
   "execution_count": 32,
   "metadata": {},
   "outputs": [
    {
     "name": "stderr",
     "output_type": "stream",
     "text": [
      "c:\\Users\\stefa\\anaconda3\\lib\\site-packages\\sklearn\\base.py:450: UserWarning: X does not have valid feature names, but LinearRegression was fitted with feature names\n",
      "  warnings.warn(\n"
     ]
    },
    {
     "data": {
      "text/plain": [
       "array([59.63333333])"
      ]
     },
     "execution_count": 32,
     "metadata": {},
     "output_type": "execute_result"
    }
   ],
   "source": [
    "# menggunakan model untuk prediksi.\n",
    "# luas tanah 100 harga rumah berapa?\n",
    "model.predict([[100]])"
   ]
  },
  {
   "cell_type": "code",
   "execution_count": 37,
   "metadata": {},
   "outputs": [
    {
     "name": "stdout",
     "output_type": "stream",
     "text": [
      "<class 'pandas.core.frame.DataFrame'>\n",
      "RangeIndex: 126314 entries, 0 to 126313\n",
      "Data columns (total 23 columns):\n",
      " #   Column         Non-Null Count   Dtype  \n",
      "---  ------         --------------   -----  \n",
      " 0   gameorder      126314 non-null  int64  \n",
      " 1   game_id        126314 non-null  object \n",
      " 2   lg_id          126314 non-null  object \n",
      " 3   _iscopy        126314 non-null  int64  \n",
      " 4   year_id        126314 non-null  int64  \n",
      " 5   date_game      126314 non-null  object \n",
      " 6   seasongame     126314 non-null  int64  \n",
      " 7   is_playoffs    126314 non-null  int64  \n",
      " 8   team_id        126314 non-null  object \n",
      " 9   fran_id        126314 non-null  object \n",
      " 10  pts            126314 non-null  int64  \n",
      " 11  elo_i          126314 non-null  float64\n",
      " 12  elo_n          126314 non-null  float64\n",
      " 13  win_equiv      126314 non-null  float64\n",
      " 14  opp_id         126314 non-null  object \n",
      " 15  opp_fran       126314 non-null  object \n",
      " 16  opp_pts        126314 non-null  int64  \n",
      " 17  opp_elo_i      126314 non-null  float64\n",
      " 18  opp_elo_n      126314 non-null  float64\n",
      " 19  game_location  126314 non-null  object \n",
      " 20  game_result    126314 non-null  object \n",
      " 21  forecast       126314 non-null  float64\n",
      " 22  notes          5424 non-null    object \n",
      "dtypes: float64(6), int64(7), object(10)\n",
      "memory usage: 22.2+ MB\n"
     ]
    }
   ],
   "source": [
    "# contoh lain linear regression, dengan data nbaallelo.csv\n",
    "# 1. import data\n",
    "\n",
    "df_nba = pd.read_csv(\"dataset/nbaallelo.csv\")\n",
    "df_nba.info()"
   ]
  },
  {
   "cell_type": "code",
   "execution_count": 38,
   "metadata": {},
   "outputs": [
    {
     "data": {
      "text/plain": [
       "Index(['gameorder', 'game_id', 'lg_id', '_iscopy', 'year_id', 'date_game',\n",
       "       'seasongame', 'is_playoffs', 'team_id', 'fran_id', 'pts', 'elo_i',\n",
       "       'elo_n', 'win_equiv', 'opp_id', 'opp_fran', 'opp_pts', 'opp_elo_i',\n",
       "       'opp_elo_n', 'game_location', 'game_result', 'forecast', 'notes'],\n",
       "      dtype='object')"
      ]
     },
     "execution_count": 38,
     "metadata": {},
     "output_type": "execute_result"
    }
   ],
   "source": [
    "# 2. rapiin data\n",
    "# hapus kolom yang tidak dipakai\n",
    "\n",
    "df_nba.columns"
   ]
  },
  {
   "cell_type": "code",
   "execution_count": 39,
   "metadata": {},
   "outputs": [],
   "source": [
    "df_nba = df_nba.drop(columns=['gameorder', 'game_id', 'lg_id', '_iscopy', 'year_id',\n",
    "       'seasongame', 'is_playoffs', 'fran_id', 'elo_i',\n",
    "       'elo_n', 'win_equiv', 'opp_fran', 'opp_elo_i',\n",
    "       'opp_elo_n', 'game_location', 'forecast', 'notes'])"
   ]
  },
  {
   "cell_type": "code",
   "execution_count": 40,
   "metadata": {},
   "outputs": [
    {
     "data": {
      "text/html": [
       "<div>\n",
       "<style scoped>\n",
       "    .dataframe tbody tr th:only-of-type {\n",
       "        vertical-align: middle;\n",
       "    }\n",
       "\n",
       "    .dataframe tbody tr th {\n",
       "        vertical-align: top;\n",
       "    }\n",
       "\n",
       "    .dataframe thead th {\n",
       "        text-align: right;\n",
       "    }\n",
       "</style>\n",
       "<table border=\"1\" class=\"dataframe\">\n",
       "  <thead>\n",
       "    <tr style=\"text-align: right;\">\n",
       "      <th></th>\n",
       "      <th>date_game</th>\n",
       "      <th>team_id</th>\n",
       "      <th>pts</th>\n",
       "      <th>opp_id</th>\n",
       "      <th>opp_pts</th>\n",
       "      <th>game_result</th>\n",
       "    </tr>\n",
       "  </thead>\n",
       "  <tbody>\n",
       "    <tr>\n",
       "      <th>0</th>\n",
       "      <td>11/1/1946</td>\n",
       "      <td>TRH</td>\n",
       "      <td>66</td>\n",
       "      <td>NYK</td>\n",
       "      <td>68</td>\n",
       "      <td>L</td>\n",
       "    </tr>\n",
       "    <tr>\n",
       "      <th>1</th>\n",
       "      <td>11/1/1946</td>\n",
       "      <td>NYK</td>\n",
       "      <td>68</td>\n",
       "      <td>TRH</td>\n",
       "      <td>66</td>\n",
       "      <td>W</td>\n",
       "    </tr>\n",
       "    <tr>\n",
       "      <th>2</th>\n",
       "      <td>11/2/1946</td>\n",
       "      <td>CHS</td>\n",
       "      <td>63</td>\n",
       "      <td>NYK</td>\n",
       "      <td>47</td>\n",
       "      <td>W</td>\n",
       "    </tr>\n",
       "    <tr>\n",
       "      <th>3</th>\n",
       "      <td>11/2/1946</td>\n",
       "      <td>NYK</td>\n",
       "      <td>47</td>\n",
       "      <td>CHS</td>\n",
       "      <td>63</td>\n",
       "      <td>L</td>\n",
       "    </tr>\n",
       "    <tr>\n",
       "      <th>4</th>\n",
       "      <td>11/2/1946</td>\n",
       "      <td>DTF</td>\n",
       "      <td>33</td>\n",
       "      <td>WSC</td>\n",
       "      <td>50</td>\n",
       "      <td>L</td>\n",
       "    </tr>\n",
       "  </tbody>\n",
       "</table>\n",
       "</div>"
      ],
      "text/plain": [
       "   date_game team_id  pts opp_id  opp_pts game_result\n",
       "0  11/1/1946     TRH   66    NYK       68           L\n",
       "1  11/1/1946     NYK   68    TRH       66           W\n",
       "2  11/2/1946     CHS   63    NYK       47           W\n",
       "3  11/2/1946     NYK   47    CHS       63           L\n",
       "4  11/2/1946     DTF   33    WSC       50           L"
      ]
     },
     "execution_count": 40,
     "metadata": {},
     "output_type": "execute_result"
    }
   ],
   "source": [
    "df_nba.head()"
   ]
  },
  {
   "cell_type": "code",
   "execution_count": 53,
   "metadata": {},
   "outputs": [
    {
     "data": {
      "text/html": [
       "<div>\n",
       "<style scoped>\n",
       "    .dataframe tbody tr th:only-of-type {\n",
       "        vertical-align: middle;\n",
       "    }\n",
       "\n",
       "    .dataframe tbody tr th {\n",
       "        vertical-align: top;\n",
       "    }\n",
       "\n",
       "    .dataframe thead th {\n",
       "        text-align: right;\n",
       "    }\n",
       "</style>\n",
       "<table border=\"1\" class=\"dataframe\">\n",
       "  <thead>\n",
       "    <tr style=\"text-align: right;\">\n",
       "      <th></th>\n",
       "      <th>team_id</th>\n",
       "    </tr>\n",
       "  </thead>\n",
       "  <tbody>\n",
       "    <tr>\n",
       "      <th>0</th>\n",
       "      <td>ANA</td>\n",
       "    </tr>\n",
       "    <tr>\n",
       "      <th>1</th>\n",
       "      <td>AND</td>\n",
       "    </tr>\n",
       "    <tr>\n",
       "      <th>2</th>\n",
       "      <td>ATL</td>\n",
       "    </tr>\n",
       "    <tr>\n",
       "      <th>3</th>\n",
       "      <td>BAL</td>\n",
       "    </tr>\n",
       "    <tr>\n",
       "      <th>4</th>\n",
       "      <td>BLB</td>\n",
       "    </tr>\n",
       "    <tr>\n",
       "      <th>...</th>\n",
       "      <td>...</td>\n",
       "    </tr>\n",
       "    <tr>\n",
       "      <th>99</th>\n",
       "      <td>WAS</td>\n",
       "    </tr>\n",
       "    <tr>\n",
       "      <th>100</th>\n",
       "      <td>WAT</td>\n",
       "    </tr>\n",
       "    <tr>\n",
       "      <th>101</th>\n",
       "      <td>WSA</td>\n",
       "    </tr>\n",
       "    <tr>\n",
       "      <th>102</th>\n",
       "      <td>WSB</td>\n",
       "    </tr>\n",
       "    <tr>\n",
       "      <th>103</th>\n",
       "      <td>WSC</td>\n",
       "    </tr>\n",
       "  </tbody>\n",
       "</table>\n",
       "<p>104 rows × 1 columns</p>\n",
       "</div>"
      ],
      "text/plain": [
       "    team_id\n",
       "0       ANA\n",
       "1       AND\n",
       "2       ATL\n",
       "3       BAL\n",
       "4       BLB\n",
       "..      ...\n",
       "99      WAS\n",
       "100     WAT\n",
       "101     WSA\n",
       "102     WSB\n",
       "103     WSC\n",
       "\n",
       "[104 rows x 1 columns]"
      ]
     },
     "execution_count": 53,
     "metadata": {},
     "output_type": "execute_result"
    }
   ],
   "source": [
    "# menebak pts yang didapat sebuah tim\n",
    "# fitur team_id\n",
    "# target pts\n",
    "\n",
    "# model machine learning hanya menerima data bersifat numerik\n",
    "# untuk data tipe string, kita akan ubah jadi numerik menggunakan encoding\n",
    "le = LabelEncoder()\n",
    "team_encoded = le.fit_transform(df_nba[\"team_id\"])\n",
    "\n",
    "\n",
    "le.classes_\n",
    "\n",
    "df_team_code = pd.DataFrame({\"team_id\":le.classes_})\n",
    "df_team_code"
   ]
  },
  {
   "cell_type": "code",
   "execution_count": 54,
   "metadata": {},
   "outputs": [
    {
     "data": {
      "text/html": [
       "<div>\n",
       "<style scoped>\n",
       "    .dataframe tbody tr th:only-of-type {\n",
       "        vertical-align: middle;\n",
       "    }\n",
       "\n",
       "    .dataframe tbody tr th {\n",
       "        vertical-align: top;\n",
       "    }\n",
       "\n",
       "    .dataframe thead th {\n",
       "        text-align: right;\n",
       "    }\n",
       "</style>\n",
       "<table border=\"1\" class=\"dataframe\">\n",
       "  <thead>\n",
       "    <tr style=\"text-align: right;\">\n",
       "      <th></th>\n",
       "      <th>team_id</th>\n",
       "    </tr>\n",
       "  </thead>\n",
       "  <tbody>\n",
       "    <tr>\n",
       "      <th>0</th>\n",
       "      <td>93</td>\n",
       "    </tr>\n",
       "    <tr>\n",
       "      <th>1</th>\n",
       "      <td>63</td>\n",
       "    </tr>\n",
       "    <tr>\n",
       "      <th>2</th>\n",
       "      <td>15</td>\n",
       "    </tr>\n",
       "    <tr>\n",
       "      <th>3</th>\n",
       "      <td>63</td>\n",
       "    </tr>\n",
       "    <tr>\n",
       "      <th>4</th>\n",
       "      <td>27</td>\n",
       "    </tr>\n",
       "    <tr>\n",
       "      <th>...</th>\n",
       "      <td>...</td>\n",
       "    </tr>\n",
       "    <tr>\n",
       "      <th>126309</th>\n",
       "      <td>18</td>\n",
       "    </tr>\n",
       "    <tr>\n",
       "      <th>126310</th>\n",
       "      <td>30</td>\n",
       "    </tr>\n",
       "    <tr>\n",
       "      <th>126311</th>\n",
       "      <td>18</td>\n",
       "    </tr>\n",
       "    <tr>\n",
       "      <th>126312</th>\n",
       "      <td>18</td>\n",
       "    </tr>\n",
       "    <tr>\n",
       "      <th>126313</th>\n",
       "      <td>30</td>\n",
       "    </tr>\n",
       "  </tbody>\n",
       "</table>\n",
       "<p>126314 rows × 1 columns</p>\n",
       "</div>"
      ],
      "text/plain": [
       "        team_id\n",
       "0            93\n",
       "1            63\n",
       "2            15\n",
       "3            63\n",
       "4            27\n",
       "...         ...\n",
       "126309       18\n",
       "126310       30\n",
       "126311       18\n",
       "126312       18\n",
       "126313       30\n",
       "\n",
       "[126314 rows x 1 columns]"
      ]
     },
     "execution_count": 54,
     "metadata": {},
     "output_type": "execute_result"
    }
   ],
   "source": [
    "fitur = pd.DataFrame({\"team_id\":team_encoded})\n",
    "\n",
    "fitur"
   ]
  },
  {
   "cell_type": "code",
   "execution_count": 55,
   "metadata": {},
   "outputs": [
    {
     "data": {
      "text/plain": [
       "0          66\n",
       "1          68\n",
       "2          63\n",
       "3          47\n",
       "4          33\n",
       "         ... \n",
       "126309     82\n",
       "126310    104\n",
       "126311     91\n",
       "126312     97\n",
       "126313    105\n",
       "Name: pts, Length: 126314, dtype: int64"
      ]
     },
     "execution_count": 55,
     "metadata": {},
     "output_type": "execute_result"
    }
   ],
   "source": [
    "target = df_nba[\"pts\"]\n",
    "\n",
    "target"
   ]
  },
  {
   "cell_type": "code",
   "execution_count": 56,
   "metadata": {},
   "outputs": [
    {
     "data": {
      "text/plain": [
       "LinearRegression()"
      ]
     },
     "execution_count": 56,
     "metadata": {},
     "output_type": "execute_result"
    }
   ],
   "source": [
    "# 3. training\n",
    "model = LinearRegression()\n",
    "model.fit(fitur, target)"
   ]
  },
  {
   "cell_type": "code",
   "execution_count": 59,
   "metadata": {},
   "outputs": [
    {
     "name": "stderr",
     "output_type": "stream",
     "text": [
      "c:\\Users\\stefa\\anaconda3\\lib\\site-packages\\sklearn\\base.py:450: UserWarning: X does not have valid feature names, but LinearRegression was fitted with feature names\n",
      "  warnings.warn(\n"
     ]
    },
    {
     "data": {
      "text/plain": [
       "array([102.70203863])"
      ]
     },
     "execution_count": 59,
     "metadata": {},
     "output_type": "execute_result"
    }
   ],
   "source": [
    "# buat prediksi\n",
    "# tim MMS kira2 skor nya berapa di sebuah game?\n",
    "\n",
    "# df_team_code.loc[50] # tim MMS ada di code nomor 50\n",
    "model.predict([[50]])"
   ]
  },
  {
   "cell_type": "code",
   "execution_count": 66,
   "metadata": {},
   "outputs": [
    {
     "name": "stderr",
     "output_type": "stream",
     "text": [
      "c:\\Users\\stefa\\anaconda3\\lib\\site-packages\\sklearn\\base.py:450: UserWarning: X does not have valid feature names, but LinearRegression was fitted with feature names\n",
      "  warnings.warn(\n"
     ]
    },
    {
     "data": {
      "text/plain": [
       "array([103.16788708])"
      ]
     },
     "execution_count": 66,
     "metadata": {},
     "output_type": "execute_result"
    }
   ],
   "source": [
    "# tim BOS kira2 skor nya berapa di sebuah game?\n",
    "df_team_code[df_team_code[\"team_id\"]==\"BOS\"]\n",
    "\n",
    "model.predict([[5]])\n"
   ]
  },
  {
   "cell_type": "code",
   "execution_count": 67,
   "metadata": {},
   "outputs": [
    {
     "data": {
      "text/plain": [
       "0.0004040106797249532"
      ]
     },
     "execution_count": 67,
     "metadata": {},
     "output_type": "execute_result"
    }
   ],
   "source": [
    "# 4. evaluasi\n",
    "\n",
    "model.score(fitur, target)"
   ]
  },
  {
   "cell_type": "code",
   "execution_count": null,
   "metadata": {},
   "outputs": [],
   "source": [
    "# skor yang sangat rendah ini artinya model tidak bisa memprediksi dengan baik\n",
    "# biasanya skor kita mau di 60-80% 0.6-0.8"
   ]
  },
  {
   "cell_type": "code",
   "execution_count": 68,
   "metadata": {},
   "outputs": [],
   "source": [
    "# 5. tuning"
   ]
  },
  {
   "cell_type": "code",
   "execution_count": 70,
   "metadata": {},
   "outputs": [
    {
     "data": {
      "text/html": [
       "<div>\n",
       "<style scoped>\n",
       "    .dataframe tbody tr th:only-of-type {\n",
       "        vertical-align: middle;\n",
       "    }\n",
       "\n",
       "    .dataframe tbody tr th {\n",
       "        vertical-align: top;\n",
       "    }\n",
       "\n",
       "    .dataframe thead th {\n",
       "        text-align: right;\n",
       "    }\n",
       "</style>\n",
       "<table border=\"1\" class=\"dataframe\">\n",
       "  <thead>\n",
       "    <tr style=\"text-align: right;\">\n",
       "      <th></th>\n",
       "      <th>date_game</th>\n",
       "      <th>team_id</th>\n",
       "      <th>pts</th>\n",
       "      <th>opp_id</th>\n",
       "      <th>opp_pts</th>\n",
       "      <th>game_result</th>\n",
       "    </tr>\n",
       "  </thead>\n",
       "  <tbody>\n",
       "    <tr>\n",
       "      <th>0</th>\n",
       "      <td>1946-11-01</td>\n",
       "      <td>TRH</td>\n",
       "      <td>66</td>\n",
       "      <td>NYK</td>\n",
       "      <td>68</td>\n",
       "      <td>L</td>\n",
       "    </tr>\n",
       "    <tr>\n",
       "      <th>1</th>\n",
       "      <td>1946-11-01</td>\n",
       "      <td>NYK</td>\n",
       "      <td>68</td>\n",
       "      <td>TRH</td>\n",
       "      <td>66</td>\n",
       "      <td>W</td>\n",
       "    </tr>\n",
       "    <tr>\n",
       "      <th>2</th>\n",
       "      <td>1946-11-02</td>\n",
       "      <td>CHS</td>\n",
       "      <td>63</td>\n",
       "      <td>NYK</td>\n",
       "      <td>47</td>\n",
       "      <td>W</td>\n",
       "    </tr>\n",
       "    <tr>\n",
       "      <th>3</th>\n",
       "      <td>1946-11-02</td>\n",
       "      <td>NYK</td>\n",
       "      <td>47</td>\n",
       "      <td>CHS</td>\n",
       "      <td>63</td>\n",
       "      <td>L</td>\n",
       "    </tr>\n",
       "    <tr>\n",
       "      <th>4</th>\n",
       "      <td>1946-11-02</td>\n",
       "      <td>DTF</td>\n",
       "      <td>33</td>\n",
       "      <td>WSC</td>\n",
       "      <td>50</td>\n",
       "      <td>L</td>\n",
       "    </tr>\n",
       "    <tr>\n",
       "      <th>...</th>\n",
       "      <td>...</td>\n",
       "      <td>...</td>\n",
       "      <td>...</td>\n",
       "      <td>...</td>\n",
       "      <td>...</td>\n",
       "      <td>...</td>\n",
       "    </tr>\n",
       "    <tr>\n",
       "      <th>126309</th>\n",
       "      <td>2015-06-11</td>\n",
       "      <td>CLE</td>\n",
       "      <td>82</td>\n",
       "      <td>GSW</td>\n",
       "      <td>103</td>\n",
       "      <td>L</td>\n",
       "    </tr>\n",
       "    <tr>\n",
       "      <th>126310</th>\n",
       "      <td>2015-06-14</td>\n",
       "      <td>GSW</td>\n",
       "      <td>104</td>\n",
       "      <td>CLE</td>\n",
       "      <td>91</td>\n",
       "      <td>W</td>\n",
       "    </tr>\n",
       "    <tr>\n",
       "      <th>126311</th>\n",
       "      <td>2015-06-14</td>\n",
       "      <td>CLE</td>\n",
       "      <td>91</td>\n",
       "      <td>GSW</td>\n",
       "      <td>104</td>\n",
       "      <td>L</td>\n",
       "    </tr>\n",
       "    <tr>\n",
       "      <th>126312</th>\n",
       "      <td>2015-06-16</td>\n",
       "      <td>CLE</td>\n",
       "      <td>97</td>\n",
       "      <td>GSW</td>\n",
       "      <td>105</td>\n",
       "      <td>L</td>\n",
       "    </tr>\n",
       "    <tr>\n",
       "      <th>126313</th>\n",
       "      <td>2015-06-16</td>\n",
       "      <td>GSW</td>\n",
       "      <td>105</td>\n",
       "      <td>CLE</td>\n",
       "      <td>97</td>\n",
       "      <td>W</td>\n",
       "    </tr>\n",
       "  </tbody>\n",
       "</table>\n",
       "<p>126314 rows × 6 columns</p>\n",
       "</div>"
      ],
      "text/plain": [
       "        date_game team_id  pts opp_id  opp_pts game_result\n",
       "0      1946-11-01     TRH   66    NYK       68           L\n",
       "1      1946-11-01     NYK   68    TRH       66           W\n",
       "2      1946-11-02     CHS   63    NYK       47           W\n",
       "3      1946-11-02     NYK   47    CHS       63           L\n",
       "4      1946-11-02     DTF   33    WSC       50           L\n",
       "...           ...     ...  ...    ...      ...         ...\n",
       "126309 2015-06-11     CLE   82    GSW      103           L\n",
       "126310 2015-06-14     GSW  104    CLE       91           W\n",
       "126311 2015-06-14     CLE   91    GSW      104           L\n",
       "126312 2015-06-16     CLE   97    GSW      105           L\n",
       "126313 2015-06-16     GSW  105    CLE       97           W\n",
       "\n",
       "[126314 rows x 6 columns]"
      ]
     },
     "execution_count": 70,
     "metadata": {},
     "output_type": "execute_result"
    }
   ],
   "source": [
    "# ulang lagi, tapi kali ini kita masukkan juga fitur lainnya\n",
    "\n",
    "# 3 fitur:\n",
    "# tahun pertandingan\n",
    "# tim kita\n",
    "# tim lawan\n",
    "\n",
    "# target:\n",
    "# pts\n",
    "\n",
    "# convert date_game jadi tipe data datetime lalu buat kolom baru untuk tahun\n",
    "df_nba[\"date_game\"] = pd.to_datetime(df_nba[\"date_game\"])\n",
    "\n",
    "df_nba"
   ]
  },
  {
   "cell_type": "code",
   "execution_count": 71,
   "metadata": {},
   "outputs": [],
   "source": [
    "df_nba[\"year\"] = df_nba[\"date_game\"].dt.year"
   ]
  },
  {
   "cell_type": "code",
   "execution_count": 72,
   "metadata": {},
   "outputs": [
    {
     "data": {
      "text/html": [
       "<div>\n",
       "<style scoped>\n",
       "    .dataframe tbody tr th:only-of-type {\n",
       "        vertical-align: middle;\n",
       "    }\n",
       "\n",
       "    .dataframe tbody tr th {\n",
       "        vertical-align: top;\n",
       "    }\n",
       "\n",
       "    .dataframe thead th {\n",
       "        text-align: right;\n",
       "    }\n",
       "</style>\n",
       "<table border=\"1\" class=\"dataframe\">\n",
       "  <thead>\n",
       "    <tr style=\"text-align: right;\">\n",
       "      <th></th>\n",
       "      <th>date_game</th>\n",
       "      <th>team_id</th>\n",
       "      <th>pts</th>\n",
       "      <th>opp_id</th>\n",
       "      <th>opp_pts</th>\n",
       "      <th>game_result</th>\n",
       "      <th>year</th>\n",
       "    </tr>\n",
       "  </thead>\n",
       "  <tbody>\n",
       "    <tr>\n",
       "      <th>0</th>\n",
       "      <td>1946-11-01</td>\n",
       "      <td>TRH</td>\n",
       "      <td>66</td>\n",
       "      <td>NYK</td>\n",
       "      <td>68</td>\n",
       "      <td>L</td>\n",
       "      <td>1946</td>\n",
       "    </tr>\n",
       "    <tr>\n",
       "      <th>1</th>\n",
       "      <td>1946-11-01</td>\n",
       "      <td>NYK</td>\n",
       "      <td>68</td>\n",
       "      <td>TRH</td>\n",
       "      <td>66</td>\n",
       "      <td>W</td>\n",
       "      <td>1946</td>\n",
       "    </tr>\n",
       "    <tr>\n",
       "      <th>2</th>\n",
       "      <td>1946-11-02</td>\n",
       "      <td>CHS</td>\n",
       "      <td>63</td>\n",
       "      <td>NYK</td>\n",
       "      <td>47</td>\n",
       "      <td>W</td>\n",
       "      <td>1946</td>\n",
       "    </tr>\n",
       "    <tr>\n",
       "      <th>3</th>\n",
       "      <td>1946-11-02</td>\n",
       "      <td>NYK</td>\n",
       "      <td>47</td>\n",
       "      <td>CHS</td>\n",
       "      <td>63</td>\n",
       "      <td>L</td>\n",
       "      <td>1946</td>\n",
       "    </tr>\n",
       "    <tr>\n",
       "      <th>4</th>\n",
       "      <td>1946-11-02</td>\n",
       "      <td>DTF</td>\n",
       "      <td>33</td>\n",
       "      <td>WSC</td>\n",
       "      <td>50</td>\n",
       "      <td>L</td>\n",
       "      <td>1946</td>\n",
       "    </tr>\n",
       "  </tbody>\n",
       "</table>\n",
       "</div>"
      ],
      "text/plain": [
       "   date_game team_id  pts opp_id  opp_pts game_result  year\n",
       "0 1946-11-01     TRH   66    NYK       68           L  1946\n",
       "1 1946-11-01     NYK   68    TRH       66           W  1946\n",
       "2 1946-11-02     CHS   63    NYK       47           W  1946\n",
       "3 1946-11-02     NYK   47    CHS       63           L  1946\n",
       "4 1946-11-02     DTF   33    WSC       50           L  1946"
      ]
     },
     "execution_count": 72,
     "metadata": {},
     "output_type": "execute_result"
    }
   ],
   "source": [
    "df_nba.head()"
   ]
  },
  {
   "cell_type": "code",
   "execution_count": 73,
   "metadata": {},
   "outputs": [
    {
     "data": {
      "text/html": [
       "<div>\n",
       "<style scoped>\n",
       "    .dataframe tbody tr th:only-of-type {\n",
       "        vertical-align: middle;\n",
       "    }\n",
       "\n",
       "    .dataframe tbody tr th {\n",
       "        vertical-align: top;\n",
       "    }\n",
       "\n",
       "    .dataframe thead th {\n",
       "        text-align: right;\n",
       "    }\n",
       "</style>\n",
       "<table border=\"1\" class=\"dataframe\">\n",
       "  <thead>\n",
       "    <tr style=\"text-align: right;\">\n",
       "      <th></th>\n",
       "      <th>team_id</th>\n",
       "      <th>opp_id</th>\n",
       "    </tr>\n",
       "  </thead>\n",
       "  <tbody>\n",
       "    <tr>\n",
       "      <th>0</th>\n",
       "      <td>ANA</td>\n",
       "      <td>ANA</td>\n",
       "    </tr>\n",
       "    <tr>\n",
       "      <th>1</th>\n",
       "      <td>AND</td>\n",
       "      <td>AND</td>\n",
       "    </tr>\n",
       "    <tr>\n",
       "      <th>2</th>\n",
       "      <td>ATL</td>\n",
       "      <td>ATL</td>\n",
       "    </tr>\n",
       "    <tr>\n",
       "      <th>3</th>\n",
       "      <td>BAL</td>\n",
       "      <td>BAL</td>\n",
       "    </tr>\n",
       "    <tr>\n",
       "      <th>4</th>\n",
       "      <td>BLB</td>\n",
       "      <td>BLB</td>\n",
       "    </tr>\n",
       "    <tr>\n",
       "      <th>...</th>\n",
       "      <td>...</td>\n",
       "      <td>...</td>\n",
       "    </tr>\n",
       "    <tr>\n",
       "      <th>99</th>\n",
       "      <td>WAS</td>\n",
       "      <td>WAS</td>\n",
       "    </tr>\n",
       "    <tr>\n",
       "      <th>100</th>\n",
       "      <td>WAT</td>\n",
       "      <td>WAT</td>\n",
       "    </tr>\n",
       "    <tr>\n",
       "      <th>101</th>\n",
       "      <td>WSA</td>\n",
       "      <td>WSA</td>\n",
       "    </tr>\n",
       "    <tr>\n",
       "      <th>102</th>\n",
       "      <td>WSB</td>\n",
       "      <td>WSB</td>\n",
       "    </tr>\n",
       "    <tr>\n",
       "      <th>103</th>\n",
       "      <td>WSC</td>\n",
       "      <td>WSC</td>\n",
       "    </tr>\n",
       "  </tbody>\n",
       "</table>\n",
       "<p>104 rows × 2 columns</p>\n",
       "</div>"
      ],
      "text/plain": [
       "    team_id opp_id\n",
       "0       ANA    ANA\n",
       "1       AND    AND\n",
       "2       ATL    ATL\n",
       "3       BAL    BAL\n",
       "4       BLB    BLB\n",
       "..      ...    ...\n",
       "99      WAS    WAS\n",
       "100     WAT    WAT\n",
       "101     WSA    WSA\n",
       "102     WSB    WSB\n",
       "103     WSC    WSC\n",
       "\n",
       "[104 rows x 2 columns]"
      ]
     },
     "execution_count": 73,
     "metadata": {},
     "output_type": "execute_result"
    }
   ],
   "source": [
    "# encoding team_id dan opp_id\n",
    "\n",
    "le = LabelEncoder()\n",
    "encoded_team_id = le.fit_transform(df_nba[\"team_id\"])\n",
    "encoding_key = pd.DataFrame({\"team_id\":le.classes_})\n",
    "\n",
    "\n",
    "encoded_opp_id = le.fit_transform(df_nba[\"opp_id\"])\n",
    "encoding_key[\"opp_id\"] = le.classes_\n",
    "\n",
    "encoding_key"
   ]
  },
  {
   "cell_type": "code",
   "execution_count": 74,
   "metadata": {},
   "outputs": [
    {
     "data": {
      "text/html": [
       "<div>\n",
       "<style scoped>\n",
       "    .dataframe tbody tr th:only-of-type {\n",
       "        vertical-align: middle;\n",
       "    }\n",
       "\n",
       "    .dataframe tbody tr th {\n",
       "        vertical-align: top;\n",
       "    }\n",
       "\n",
       "    .dataframe thead th {\n",
       "        text-align: right;\n",
       "    }\n",
       "</style>\n",
       "<table border=\"1\" class=\"dataframe\">\n",
       "  <thead>\n",
       "    <tr style=\"text-align: right;\">\n",
       "      <th></th>\n",
       "      <th>team_id</th>\n",
       "      <th>opp_id</th>\n",
       "      <th>year</th>\n",
       "    </tr>\n",
       "  </thead>\n",
       "  <tbody>\n",
       "    <tr>\n",
       "      <th>0</th>\n",
       "      <td>93</td>\n",
       "      <td>63</td>\n",
       "      <td>1946</td>\n",
       "    </tr>\n",
       "    <tr>\n",
       "      <th>1</th>\n",
       "      <td>63</td>\n",
       "      <td>93</td>\n",
       "      <td>1946</td>\n",
       "    </tr>\n",
       "    <tr>\n",
       "      <th>2</th>\n",
       "      <td>15</td>\n",
       "      <td>63</td>\n",
       "      <td>1946</td>\n",
       "    </tr>\n",
       "    <tr>\n",
       "      <th>3</th>\n",
       "      <td>63</td>\n",
       "      <td>15</td>\n",
       "      <td>1946</td>\n",
       "    </tr>\n",
       "    <tr>\n",
       "      <th>4</th>\n",
       "      <td>27</td>\n",
       "      <td>103</td>\n",
       "      <td>1946</td>\n",
       "    </tr>\n",
       "    <tr>\n",
       "      <th>...</th>\n",
       "      <td>...</td>\n",
       "      <td>...</td>\n",
       "      <td>...</td>\n",
       "    </tr>\n",
       "    <tr>\n",
       "      <th>126309</th>\n",
       "      <td>18</td>\n",
       "      <td>30</td>\n",
       "      <td>2015</td>\n",
       "    </tr>\n",
       "    <tr>\n",
       "      <th>126310</th>\n",
       "      <td>30</td>\n",
       "      <td>18</td>\n",
       "      <td>2015</td>\n",
       "    </tr>\n",
       "    <tr>\n",
       "      <th>126311</th>\n",
       "      <td>18</td>\n",
       "      <td>30</td>\n",
       "      <td>2015</td>\n",
       "    </tr>\n",
       "    <tr>\n",
       "      <th>126312</th>\n",
       "      <td>18</td>\n",
       "      <td>30</td>\n",
       "      <td>2015</td>\n",
       "    </tr>\n",
       "    <tr>\n",
       "      <th>126313</th>\n",
       "      <td>30</td>\n",
       "      <td>18</td>\n",
       "      <td>2015</td>\n",
       "    </tr>\n",
       "  </tbody>\n",
       "</table>\n",
       "<p>126314 rows × 3 columns</p>\n",
       "</div>"
      ],
      "text/plain": [
       "        team_id  opp_id  year\n",
       "0            93      63  1946\n",
       "1            63      93  1946\n",
       "2            15      63  1946\n",
       "3            63      15  1946\n",
       "4            27     103  1946\n",
       "...         ...     ...   ...\n",
       "126309       18      30  2015\n",
       "126310       30      18  2015\n",
       "126311       18      30  2015\n",
       "126312       18      30  2015\n",
       "126313       30      18  2015\n",
       "\n",
       "[126314 rows x 3 columns]"
      ]
     },
     "execution_count": 74,
     "metadata": {},
     "output_type": "execute_result"
    }
   ],
   "source": [
    "fitur = pd.DataFrame({\n",
    "    \"team_id\":encoded_team_id, \n",
    "    \"opp_id\":encoded_opp_id, \n",
    "    \"year\":df_nba[\"year\"]\n",
    "    })\n",
    "\n",
    "fitur"
   ]
  },
  {
   "cell_type": "code",
   "execution_count": 75,
   "metadata": {},
   "outputs": [
    {
     "data": {
      "text/plain": [
       "0          66\n",
       "1          68\n",
       "2          63\n",
       "3          47\n",
       "4          33\n",
       "         ... \n",
       "126309     82\n",
       "126310    104\n",
       "126311     91\n",
       "126312     97\n",
       "126313    105\n",
       "Name: pts, Length: 126314, dtype: int64"
      ]
     },
     "execution_count": 75,
     "metadata": {},
     "output_type": "execute_result"
    }
   ],
   "source": [
    "target"
   ]
  },
  {
   "cell_type": "code",
   "execution_count": 76,
   "metadata": {},
   "outputs": [
    {
     "data": {
      "text/plain": [
       "LinearRegression()"
      ]
     },
     "execution_count": 76,
     "metadata": {},
     "output_type": "execute_result"
    }
   ],
   "source": [
    "# 3. latih model\n",
    "model = LinearRegression()\n",
    "model.fit(fitur, target)"
   ]
  },
  {
   "cell_type": "code",
   "execution_count": 77,
   "metadata": {},
   "outputs": [
    {
     "data": {
      "text/plain": [
       "0.016098339431526387"
      ]
     },
     "execution_count": 77,
     "metadata": {},
     "output_type": "execute_result"
    }
   ],
   "source": [
    "# 4. evaluasi model\n",
    "model.score(fitur, target)"
   ]
  },
  {
   "cell_type": "code",
   "execution_count": 78,
   "metadata": {},
   "outputs": [],
   "source": [
    "# kemungkinan besar algoritma ML yang kita gunakan tidak cocok untuk\n",
    "# memprediksi data seperti ini\n",
    "\n",
    "# karena itu kita tidak bisa bergantung pada satu saja algoritma ML\n",
    "# kita perlu pelajari algoritma ML lainnya\n",
    "# cari algoritma yang paling cocok, paling bisa membuat prediksi untuk setiap data berbeda\n",
    "\n"
   ]
  },
  {
   "cell_type": "markdown",
   "metadata": {},
   "source": [
    "# Polynomial Regression\n",
    "mirip Linear Regression tapi dengan perubahan garis nya tidak Linear, garisnya bisa belok belok menggunakan formula matematika Polynomial"
   ]
  },
  {
   "cell_type": "code",
   "execution_count": 80,
   "metadata": {},
   "outputs": [
    {
     "data": {
      "text/html": [
       "<div>\n",
       "<style scoped>\n",
       "    .dataframe tbody tr th:only-of-type {\n",
       "        vertical-align: middle;\n",
       "    }\n",
       "\n",
       "    .dataframe tbody tr th {\n",
       "        vertical-align: top;\n",
       "    }\n",
       "\n",
       "    .dataframe thead th {\n",
       "        text-align: right;\n",
       "    }\n",
       "</style>\n",
       "<table border=\"1\" class=\"dataframe\">\n",
       "  <thead>\n",
       "    <tr style=\"text-align: right;\">\n",
       "      <th></th>\n",
       "      <th>luas tanah</th>\n",
       "      <th>harga rumah</th>\n",
       "    </tr>\n",
       "  </thead>\n",
       "  <tbody>\n",
       "    <tr>\n",
       "      <th>0</th>\n",
       "      <td>5</td>\n",
       "      <td>5</td>\n",
       "    </tr>\n",
       "    <tr>\n",
       "      <th>1</th>\n",
       "      <td>15</td>\n",
       "      <td>20</td>\n",
       "    </tr>\n",
       "    <tr>\n",
       "      <th>2</th>\n",
       "      <td>25</td>\n",
       "      <td>14</td>\n",
       "    </tr>\n",
       "    <tr>\n",
       "      <th>3</th>\n",
       "      <td>35</td>\n",
       "      <td>32</td>\n",
       "    </tr>\n",
       "    <tr>\n",
       "      <th>4</th>\n",
       "      <td>45</td>\n",
       "      <td>22</td>\n",
       "    </tr>\n",
       "    <tr>\n",
       "      <th>5</th>\n",
       "      <td>55</td>\n",
       "      <td>38</td>\n",
       "    </tr>\n",
       "  </tbody>\n",
       "</table>\n",
       "</div>"
      ],
      "text/plain": [
       "   luas tanah  harga rumah\n",
       "0           5            5\n",
       "1          15           20\n",
       "2          25           14\n",
       "3          35           32\n",
       "4          45           22\n",
       "5          55           38"
      ]
     },
     "execution_count": 80,
     "metadata": {},
     "output_type": "execute_result"
    }
   ],
   "source": [
    "# import data\n",
    "x = np.array([5, 15, 25, 35, 45, 55]).reshape((-1, 1))\n",
    "y = np.array([5, 20, 14, 32, 22, 38])\n",
    "\n",
    "df = pd.DataFrame({\"luas tanah\":x.reshape(6), \"harga rumah\":y})\n",
    "df"
   ]
  },
  {
   "cell_type": "code",
   "execution_count": 82,
   "metadata": {},
   "outputs": [
    {
     "data": {
      "text/plain": [
       "<AxesSubplot:xlabel='luas tanah', ylabel='harga rumah'>"
      ]
     },
     "execution_count": 82,
     "metadata": {},
     "output_type": "execute_result"
    },
    {
     "data": {
      "image/png": "[encoded data removed]",
      "text/plain": [
       "<Figure size 432x288 with 1 Axes>"
      ]
     },
     "metadata": {},
     "output_type": "display_data"
    }
   ],
   "source": [
    "df.plot(kind=\"scatter\", x=\"luas tanah\", y=\"harga rumah\")"
   ]
  },
  {
   "cell_type": "code",
   "execution_count": 100,
   "metadata": {},
   "outputs": [
    {
     "data": {
      "text/html": [
       "<div>\n",
       "<style scoped>\n",
       "    .dataframe tbody tr th:only-of-type {\n",
       "        vertical-align: middle;\n",
       "    }\n",
       "\n",
       "    .dataframe tbody tr th {\n",
       "        vertical-align: top;\n",
       "    }\n",
       "\n",
       "    .dataframe thead th {\n",
       "        text-align: right;\n",
       "    }\n",
       "</style>\n",
       "<table border=\"1\" class=\"dataframe\">\n",
       "  <thead>\n",
       "    <tr style=\"text-align: right;\">\n",
       "      <th></th>\n",
       "      <th>luas tanah</th>\n",
       "    </tr>\n",
       "  </thead>\n",
       "  <tbody>\n",
       "    <tr>\n",
       "      <th>0</th>\n",
       "      <td>5</td>\n",
       "    </tr>\n",
       "    <tr>\n",
       "      <th>1</th>\n",
       "      <td>15</td>\n",
       "    </tr>\n",
       "    <tr>\n",
       "      <th>2</th>\n",
       "      <td>25</td>\n",
       "    </tr>\n",
       "    <tr>\n",
       "      <th>3</th>\n",
       "      <td>35</td>\n",
       "    </tr>\n",
       "    <tr>\n",
       "      <th>4</th>\n",
       "      <td>45</td>\n",
       "    </tr>\n",
       "    <tr>\n",
       "      <th>5</th>\n",
       "      <td>55</td>\n",
       "    </tr>\n",
       "  </tbody>\n",
       "</table>\n",
       "</div>"
      ],
      "text/plain": [
       "   luas tanah\n",
       "0           5\n",
       "1          15\n",
       "2          25\n",
       "3          35\n",
       "4          45\n",
       "5          55"
      ]
     },
     "metadata": {},
     "output_type": "display_data"
    },
    {
     "data": {
      "text/plain": [
       "array([[   5.,   25.],\n",
       "       [  15.,  225.],\n",
       "       [  25.,  625.],\n",
       "       [  35., 1225.],\n",
       "       [  45., 2025.],\n",
       "       [  55., 3025.]])"
      ]
     },
     "execution_count": 100,
     "metadata": {},
     "output_type": "execute_result"
    }
   ],
   "source": [
    "# siapin data\n",
    "fitur = df[[\"luas tanah\"]]\n",
    "display(fitur)\n",
    "\n",
    "target = df[\"harga rumah\"]\n",
    "\n",
    "# data untuk polynomial regresison kita ubah jadi bentuk polynomial dulu\n",
    "# degree 1 --> tidak belok, Linear Regression\n",
    "# degree 2 --> belok 1 kali\n",
    "# degree 3 --> belok 2 kali\n",
    "transformer = PolynomialFeatures(degree=2, include_bias=False)\n",
    "transformer.fit(fitur)\n",
    "\n",
    "fitur_poly = transformer.transform(fitur)\n",
    "fitur_poly"
   ]
  },
  {
   "cell_type": "code",
   "execution_count": 101,
   "metadata": {},
   "outputs": [
    {
     "data": {
      "text/plain": [
       "LinearRegression()"
      ]
     },
     "execution_count": 101,
     "metadata": {},
     "output_type": "execute_result"
    }
   ],
   "source": [
    "# latih model\n",
    "model = LinearRegression()\n",
    "model.fit(fitur_poly, target)"
   ]
  },
  {
   "cell_type": "code",
   "execution_count": 102,
   "metadata": {},
   "outputs": [
    {
     "data": {
      "text/plain": [
       "Text(0.5, 1.0, 'skor model:0.7178963893249607')"
      ]
     },
     "execution_count": 102,
     "metadata": {},
     "output_type": "execute_result"
    },
    {
     "data": {
      "image/png": "[encoded data removed]",
      "text/plain": [
       "<Figure size 432x288 with 1 Axes>"
      ]
     },
     "metadata": {},
     "output_type": "display_data"
    }
   ],
   "source": [
    "# lihat hasil prediksi\n",
    "# hasil prediksi harga rumah di saat luas tanah 1-60\n",
    "x_dummy = np.arange(1,61).reshape((-1,1))\n",
    "# ubah dummy data jadi bentuk polynomial juga\n",
    "x_dummy_poly = transformer.fit_transform(x_dummy)\n",
    "\n",
    "y_pred = model.predict(x_dummy_poly)\n",
    "\n",
    "# cek skor\n",
    "skor = model.score(fitur_poly, target)\n",
    "\n",
    "# plot (optional)\n",
    "df.plot(kind=\"scatter\", x=\"luas tanah\", y=\"harga rumah\")\n",
    "plt.plot(x_dummy, y_pred)\n",
    "plt.title(\"skor model:\" + str(skor))"
   ]
  },
  {
   "cell_type": "code",
   "execution_count": 103,
   "metadata": {},
   "outputs": [
    {
     "data": {
      "text/plain": [
       "array([50.58125])"
      ]
     },
     "execution_count": 103,
     "metadata": {},
     "output_type": "execute_result"
    }
   ],
   "source": [
    "# kalau menggunakan model polynomial regression\n",
    "# data fitur yang mau kita masukkan untuk di prediksi\n",
    "# perlu diubah jadi bentuk polynomial dulu\n",
    "# contoh: luas tanah 100 harga rumahnya berapa?\n",
    "\n",
    "luas_tanah = [[100]]\n",
    "luas_tanah_poly = transformer.fit_transform(luas_tanah)\n",
    "model.predict(luas_tanah_poly)"
   ]
  },
  {
   "cell_type": "code",
   "execution_count": 106,
   "metadata": {},
   "outputs": [
    {
     "name": "stdout",
     "output_type": "stream",
     "text": [
      "[[ 5]\n",
      " [15]\n",
      " [25]\n",
      " [35]\n",
      " [45]\n",
      " [55]]\n",
      "[15 11  2  8 25 32]\n"
     ]
    },
    {
     "data": {
      "text/plain": [
       "<matplotlib.collections.PathCollection at 0x22317e6b7f0>"
      ]
     },
     "execution_count": 106,
     "metadata": {},
     "output_type": "execute_result"
    },
    {
     "data": {
      "image/png": "[encoded data removed]",
      "text/plain": [
       "<Figure size 432x288 with 1 Axes>"
      ]
     },
     "metadata": {},
     "output_type": "display_data"
    }
   ],
   "source": [
    "# Polynomial Regression\n",
    "\n",
    "# siapin data\n",
    "x = np.array([5, 15, 25, 35, 45, 55]).reshape((-1, 1))\n",
    "y = np.array([15, 11, 2, 8, 25, 32])\n",
    "print(x)\n",
    "print(y)\n",
    "plt.scatter(x=x, y=y)"
   ]
  },
  {
   "cell_type": "code",
   "execution_count": 107,
   "metadata": {},
   "outputs": [
    {
     "name": "stdout",
     "output_type": "stream",
     "text": [
      "[[   5.   25.]\n",
      " [  15.  225.]\n",
      " [  25.  625.]\n",
      " [  35. 1225.]\n",
      " [  45. 2025.]\n",
      " [  55. 3025.]]\n",
      "[15 11  2  8 25 32]\n"
     ]
    }
   ],
   "source": [
    "# rapiin data\n",
    "fitur = x\n",
    "target = y\n",
    "\n",
    "transformer = PolynomialFeatures(degree=2, include_bias=False)\n",
    "fitur_poly = transformer.fit_transform(x)\n",
    "\n",
    "print(fitur_poly)\n",
    "print(target)"
   ]
  },
  {
   "cell_type": "code",
   "execution_count": 108,
   "metadata": {},
   "outputs": [
    {
     "data": {
      "text/plain": [
       "LinearRegression()"
      ]
     },
     "execution_count": 108,
     "metadata": {},
     "output_type": "execute_result"
    }
   ],
   "source": [
    "# latih model\n",
    "model = LinearRegression()\n",
    "model.fit(fitur_poly, target)"
   ]
  },
  {
   "cell_type": "code",
   "execution_count": 109,
   "metadata": {},
   "outputs": [
    {
     "data": {
      "text/plain": [
       "0.8908516262498563"
      ]
     },
     "execution_count": 109,
     "metadata": {},
     "output_type": "execute_result"
    }
   ],
   "source": [
    "# evaluasi\n",
    "model.score(fitur_poly, target)"
   ]
  },
  {
   "cell_type": "code",
   "execution_count": 112,
   "metadata": {},
   "outputs": [
    {
     "data": {
      "text/plain": [
       "Text(0, 0.5, 'Harga Rumah')"
      ]
     },
     "execution_count": 112,
     "metadata": {},
     "output_type": "execute_result"
    },
    {
     "data": {
      "image/png": "[encoded data removed]",
      "text/plain": [
       "<Figure size 432x288 with 1 Axes>"
      ]
     },
     "metadata": {},
     "output_type": "display_data"
    }
   ],
   "source": [
    "# optional - visualisasi\n",
    "\n",
    "# data awal\n",
    "plt.scatter(x=x, y=y, color=\"blue\")\n",
    "\n",
    "# data dummy dari x = 1 sampai x = 60\n",
    "x_dummy = np.arange(1,61).reshape((-1,1))\n",
    "x_dummy_poly = transformer.fit_transform(x_dummy)\n",
    "\n",
    "y_pred = model.predict(x_dummy_poly)\n",
    "\n",
    "# data prediksi untuk x = 1 sampai x= 60, y nya berapa\n",
    "plt.plot(x_dummy, y_pred, color=\"orange\")\n",
    "\n",
    "plt.title(\"Polynomial Regression\")\n",
    "plt.xlabel(\"Luas Bangunan\")\n",
    "plt.ylabel(\"Harga Rumah\")"
   ]
  },
  {
   "cell_type": "code",
   "execution_count": 114,
   "metadata": {},
   "outputs": [
    {
     "name": "stdout",
     "output_type": "stream",
     "text": [
      "<class 'pandas.core.frame.DataFrame'>\n",
      "RangeIndex: 12748 entries, 0 to 12747\n",
      "Data columns (total 9 columns):\n",
      " #   Column          Non-Null Count  Dtype  \n",
      "---  ------          --------------  -----  \n",
      " 0   category        12748 non-null  object \n",
      " 1   room_count      12748 non-null  float64\n",
      " 2   bathroom_count  12748 non-null  float64\n",
      " 3   size            12748 non-null  float64\n",
      " 4   type            12748 non-null  object \n",
      " 5   price           12748 non-null  float64\n",
      " 6   city            12748 non-null  object \n",
      " 7   region          12748 non-null  object \n",
      " 8   log_price       12748 non-null  float64\n",
      "dtypes: float64(5), object(4)\n",
      "memory usage: 896.5+ KB\n"
     ]
    }
   ],
   "source": [
    "# mencoba polynomial regression dengan data asli\n",
    "# import data\n",
    "df_tun = pd.read_csv(\"dataset/Tunisia.csv\")\n",
    "df_tun.info()"
   ]
  },
  {
   "cell_type": "code",
   "execution_count": 128,
   "metadata": {},
   "outputs": [
    {
     "data": {
      "text/html": [
       "<div>\n",
       "<style scoped>\n",
       "    .dataframe tbody tr th:only-of-type {\n",
       "        vertical-align: middle;\n",
       "    }\n",
       "\n",
       "    .dataframe tbody tr th {\n",
       "        vertical-align: top;\n",
       "    }\n",
       "\n",
       "    .dataframe thead th {\n",
       "        text-align: right;\n",
       "    }\n",
       "</style>\n",
       "<table border=\"1\" class=\"dataframe\">\n",
       "  <thead>\n",
       "    <tr style=\"text-align: right;\">\n",
       "      <th></th>\n",
       "      <th>city</th>\n",
       "    </tr>\n",
       "  </thead>\n",
       "  <tbody>\n",
       "    <tr>\n",
       "      <th>0</th>\n",
       "      <td>Ariana</td>\n",
       "    </tr>\n",
       "    <tr>\n",
       "      <th>1</th>\n",
       "      <td>Ben arous</td>\n",
       "    </tr>\n",
       "    <tr>\n",
       "      <th>2</th>\n",
       "      <td>Bizerte</td>\n",
       "    </tr>\n",
       "    <tr>\n",
       "      <th>3</th>\n",
       "      <td>Béja</td>\n",
       "    </tr>\n",
       "    <tr>\n",
       "      <th>4</th>\n",
       "      <td>Gabès</td>\n",
       "    </tr>\n",
       "    <tr>\n",
       "      <th>5</th>\n",
       "      <td>Gafsa</td>\n",
       "    </tr>\n",
       "    <tr>\n",
       "      <th>6</th>\n",
       "      <td>Jendouba</td>\n",
       "    </tr>\n",
       "    <tr>\n",
       "      <th>7</th>\n",
       "      <td>Kairouan</td>\n",
       "    </tr>\n",
       "    <tr>\n",
       "      <th>8</th>\n",
       "      <td>Kasserine</td>\n",
       "    </tr>\n",
       "    <tr>\n",
       "      <th>9</th>\n",
       "      <td>Kébili</td>\n",
       "    </tr>\n",
       "    <tr>\n",
       "      <th>10</th>\n",
       "      <td>La manouba</td>\n",
       "    </tr>\n",
       "    <tr>\n",
       "      <th>11</th>\n",
       "      <td>Le kef</td>\n",
       "    </tr>\n",
       "    <tr>\n",
       "      <th>12</th>\n",
       "      <td>Mahdia</td>\n",
       "    </tr>\n",
       "    <tr>\n",
       "      <th>13</th>\n",
       "      <td>Monastir</td>\n",
       "    </tr>\n",
       "    <tr>\n",
       "      <th>14</th>\n",
       "      <td>Médenine</td>\n",
       "    </tr>\n",
       "    <tr>\n",
       "      <th>15</th>\n",
       "      <td>Nabeul</td>\n",
       "    </tr>\n",
       "    <tr>\n",
       "      <th>16</th>\n",
       "      <td>Sfax</td>\n",
       "    </tr>\n",
       "    <tr>\n",
       "      <th>17</th>\n",
       "      <td>Sidi bouzid</td>\n",
       "    </tr>\n",
       "    <tr>\n",
       "      <th>18</th>\n",
       "      <td>Siliana</td>\n",
       "    </tr>\n",
       "    <tr>\n",
       "      <th>19</th>\n",
       "      <td>Sousse</td>\n",
       "    </tr>\n",
       "    <tr>\n",
       "      <th>20</th>\n",
       "      <td>Tataouine</td>\n",
       "    </tr>\n",
       "    <tr>\n",
       "      <th>21</th>\n",
       "      <td>Tozeur</td>\n",
       "    </tr>\n",
       "    <tr>\n",
       "      <th>22</th>\n",
       "      <td>Tunis</td>\n",
       "    </tr>\n",
       "    <tr>\n",
       "      <th>23</th>\n",
       "      <td>Zaghouan</td>\n",
       "    </tr>\n",
       "  </tbody>\n",
       "</table>\n",
       "</div>"
      ],
      "text/plain": [
       "           city\n",
       "0        Ariana\n",
       "1     Ben arous\n",
       "2       Bizerte\n",
       "3          Béja\n",
       "4         Gabès\n",
       "5         Gafsa\n",
       "6      Jendouba\n",
       "7      Kairouan\n",
       "8     Kasserine\n",
       "9        Kébili\n",
       "10   La manouba\n",
       "11       Le kef\n",
       "12       Mahdia\n",
       "13     Monastir\n",
       "14     Médenine\n",
       "15       Nabeul\n",
       "16         Sfax\n",
       "17  Sidi bouzid\n",
       "18      Siliana\n",
       "19       Sousse\n",
       "20    Tataouine\n",
       "21       Tozeur\n",
       "22        Tunis\n",
       "23     Zaghouan"
      ]
     },
     "metadata": {},
     "output_type": "display_data"
    },
    {
     "data": {
      "text/html": [
       "<div>\n",
       "<style scoped>\n",
       "    .dataframe tbody tr th:only-of-type {\n",
       "        vertical-align: middle;\n",
       "    }\n",
       "\n",
       "    .dataframe tbody tr th {\n",
       "        vertical-align: top;\n",
       "    }\n",
       "\n",
       "    .dataframe thead th {\n",
       "        text-align: right;\n",
       "    }\n",
       "</style>\n",
       "<table border=\"1\" class=\"dataframe\">\n",
       "  <thead>\n",
       "    <tr style=\"text-align: right;\">\n",
       "      <th></th>\n",
       "      <th>region</th>\n",
       "    </tr>\n",
       "  </thead>\n",
       "  <tbody>\n",
       "    <tr>\n",
       "      <th>0</th>\n",
       "      <td>Agareb</td>\n",
       "    </tr>\n",
       "    <tr>\n",
       "      <th>1</th>\n",
       "      <td>Agba</td>\n",
       "    </tr>\n",
       "    <tr>\n",
       "      <th>2</th>\n",
       "      <td>Ain Draham</td>\n",
       "    </tr>\n",
       "    <tr>\n",
       "      <th>3</th>\n",
       "      <td>Akouda</td>\n",
       "    </tr>\n",
       "    <tr>\n",
       "      <th>4</th>\n",
       "      <td>Amdoun</td>\n",
       "    </tr>\n",
       "    <tr>\n",
       "      <th>...</th>\n",
       "      <td>...</td>\n",
       "    </tr>\n",
       "    <tr>\n",
       "      <th>252</th>\n",
       "      <td>Zaghouan</td>\n",
       "    </tr>\n",
       "    <tr>\n",
       "      <th>253</th>\n",
       "      <td>Zaouit-Ksibat Thrayett</td>\n",
       "    </tr>\n",
       "    <tr>\n",
       "      <th>254</th>\n",
       "      <td>Zarzis</td>\n",
       "    </tr>\n",
       "    <tr>\n",
       "      <th>255</th>\n",
       "      <td>Zarzouna</td>\n",
       "    </tr>\n",
       "    <tr>\n",
       "      <th>256</th>\n",
       "      <td>Zéramdine</td>\n",
       "    </tr>\n",
       "  </tbody>\n",
       "</table>\n",
       "<p>257 rows × 1 columns</p>\n",
       "</div>"
      ],
      "text/plain": [
       "                     region\n",
       "0                    Agareb\n",
       "1                      Agba\n",
       "2                Ain Draham\n",
       "3                    Akouda\n",
       "4                    Amdoun\n",
       "..                      ...\n",
       "252                Zaghouan\n",
       "253  Zaouit-Ksibat Thrayett\n",
       "254                  Zarzis\n",
       "255                Zarzouna\n",
       "256               Zéramdine\n",
       "\n",
       "[257 rows x 1 columns]"
      ]
     },
     "metadata": {},
     "output_type": "display_data"
    },
    {
     "name": "stdout",
     "output_type": "stream",
     "text": [
      "[ 0  0  0 ... 22 22 22]\n",
      "[187   7   7 ... 136 136 217]\n"
     ]
    }
   ],
   "source": [
    "# encode city dan region\n",
    "le = LabelEncoder()\n",
    "encoded_city = le.fit_transform(df_tun[\"city\"])\n",
    "df_key_city = pd.DataFrame({\"city\":le.classes_})\n",
    "\n",
    "encoded_region = le.fit_transform(df_tun[\"region\"])\n",
    "df_key_region = pd.DataFrame({\"region\":le.classes_})\n",
    "\n",
    "display(df_key_city)\n",
    "display(df_key_region)\n",
    "print(encoded_city)\n",
    "print(encoded_region)"
   ]
  },
  {
   "cell_type": "code",
   "execution_count": 158,
   "metadata": {},
   "outputs": [
    {
     "name": "stdout",
     "output_type": "stream",
     "text": [
      "[[-1.00000000e+00  0.00000000e+00  1.87000000e+02 ...  0.00000000e+00\n",
      "   0.00000000e+00  2.28669390e+11]\n",
      " [-1.00000000e+00  0.00000000e+00  7.00000000e+00 ...  0.00000000e+00\n",
      "   0.00000000e+00  1.68070000e+04]\n",
      " [ 8.00000000e+01  0.00000000e+00  7.00000000e+00 ...  0.00000000e+00\n",
      "   0.00000000e+00  1.68070000e+04]\n",
      " ...\n",
      " [ 7.60000000e+02  2.20000000e+01  1.36000000e+02 ...  1.21748070e+09\n",
      "   7.52624435e+09  4.65258742e+10]\n",
      " [ 1.90000000e+02  2.20000000e+01  1.36000000e+02 ...  1.21748070e+09\n",
      "   7.52624435e+09  4.65258742e+10]\n",
      " [ 7.00000000e+01  2.20000000e+01  2.17000000e+02 ...  4.94566349e+09\n",
      "   4.87822263e+10  4.81170141e+11]]\n",
      "(12748, 55)\n",
      "0         100000.0\n",
      "1         316000.0\n",
      "2            380.0\n",
      "3             70.0\n",
      "4         170000.0\n",
      "           ...    \n",
      "12743    3200000.0\n",
      "12744        600.0\n",
      "12745    1950000.0\n",
      "12746     240000.0\n",
      "12747        500.0\n",
      "Name: price, Length: 12748, dtype: float64\n",
      "(12748,)\n"
     ]
    }
   ],
   "source": [
    "# siapin data\n",
    "size = df_tun[\"size\"]\n",
    "\n",
    "fitur = pd.DataFrame({\"size\":size, \"city\":encoded_city, \"region\":encoded_region})\n",
    "\n",
    "transformer = PolynomialFeatures(degree =5, include_bias=False)\n",
    "\n",
    "fitur_poly = transformer.fit_transform(fitur)\n",
    "\n",
    "target = df_tun[\"price\"]\n",
    "\n",
    "print(fitur_poly)\n",
    "print(fitur_poly.shape)\n",
    "print(target)\n",
    "print(target.shape)"
   ]
  },
  {
   "cell_type": "code",
   "execution_count": 159,
   "metadata": {},
   "outputs": [
    {
     "data": {
      "text/plain": [
       "LinearRegression()"
      ]
     },
     "execution_count": 159,
     "metadata": {},
     "output_type": "execute_result"
    }
   ],
   "source": [
    "# bikin model, latih model\n",
    "model = LinearRegression()\n",
    "model.fit(fitur_poly, target)"
   ]
  },
  {
   "cell_type": "code",
   "execution_count": 160,
   "metadata": {},
   "outputs": [
    {
     "data": {
      "text/plain": [
       "0.005244043245529739"
      ]
     },
     "execution_count": 160,
     "metadata": {},
     "output_type": "execute_result"
    }
   ],
   "source": [
    "# evaluasi\n",
    "model.score(fitur_poly, target)"
   ]
  },
  {
   "cell_type": "code",
   "execution_count": null,
   "metadata": {},
   "outputs": [],
   "source": []
  }
 ],
 "metadata": {
  "interpreter": {
   "hash": "4f523f7c76dd18e7ed336217f32f6f704c23c323644912475b9d3570cf04b060"
  },
  "kernelspec": {
   "display_name": "Python 3.9.7 ('base')",
   "language": "python",
   "name": "python3"
  },
  "language_info": {
   "codemirror_mode": {
    "name": "ipython",
    "version": 3
   },
   "file_extension": ".py",
   "mimetype": "text/x-python",
   "name": "python",
   "nbconvert_exporter": "python",
   "pygments_lexer": "ipython3",
   "version": "3.9.7"
  },
  "orig_nbformat": 4
 },
 "nbformat": 4,
 "nbformat_minor": 2
}
