{
 "cells": [
  {
   "cell_type": "markdown",
   "metadata": {},
   "source": [
    "# Function, Module, Package\n",
    "## Function\n",
    "untuk mengelompokkan code jadi satu, punya nama, bisa panggil function untuk menjalankan blok kode di dalamnya\n",
    "\n",
    "## Module\n",
    "file terpisah \".py\"   \n",
    "isinya bisa ada variable, function, code lainnya, class\n",
    "\n",
    "## Package\n",
    "sebuah folder berisi banyak file module"
   ]
  },
  {
   "cell_type": "code",
   "execution_count": 1,
   "metadata": {},
   "outputs": [],
   "source": [
    "def grading():\n",
    "    nilai_andi = 95\n",
    "    print(\"nilai Andi adalah\", nilai_andi)\n",
    "\n",
    "    grade = \"\"\n",
    "    if (nilai_andi >= 100):\n",
    "        grade = \"A+\"\n",
    "    elif (nilai_andi >= 90):\n",
    "        grade = \"A\"        \n",
    "    elif (nilai_andi >= 80):\n",
    "        grade = \"B\"        \n",
    "    elif (nilai_andi >= 70):\n",
    "        grade = \"C\"        \n",
    "    else:\n",
    "        grade = \"D\"\n",
    "\n",
    "\n",
    "    print(\"grade yang didapat adalah \" + grade)"
   ]
  },
  {
   "cell_type": "code",
   "execution_count": 3,
   "metadata": {},
   "outputs": [
    {
     "name": "stdout",
     "output_type": "stream",
     "text": [
      "nilai Andi adalah 95\n",
      "grade yang didapat adalah A\n"
     ]
    }
   ],
   "source": [
    "grading()"
   ]
  },
  {
   "cell_type": "code",
   "execution_count": 4,
   "metadata": {},
   "outputs": [
    {
     "name": "stdout",
     "output_type": "stream",
     "text": [
      "nilai Andi adalah 95\n",
      "grade yang didapat adalah A\n",
      "nilai Andi adalah 95\n",
      "grade yang didapat adalah A\n",
      "nilai Andi adalah 95\n",
      "grade yang didapat adalah A\n"
     ]
    }
   ],
   "source": [
    "grading()\n",
    "grading()\n",
    "grading()"
   ]
  },
  {
   "cell_type": "code",
   "execution_count": 5,
   "metadata": {},
   "outputs": [],
   "source": [
    "# argumen/ parameter/ variable spesial milik function\n",
    "def grading(nilai):\n",
    "    print(\"nilai Andi adalah\", nilai)\n",
    "\n",
    "    grade = \"\"\n",
    "    if (nilai >= 100):\n",
    "        grade = \"A+\"\n",
    "    elif (nilai >= 90):\n",
    "        grade = \"A\"        \n",
    "    elif (nilai >= 80):\n",
    "        grade = \"B\"        \n",
    "    elif (nilai >= 70):\n",
    "        grade = \"C\"        \n",
    "    else:\n",
    "        grade = \"D\"\n",
    "\n",
    "\n",
    "    print(\"grade yang didapat adalah \" + grade)"
   ]
  },
  {
   "cell_type": "code",
   "execution_count": 7,
   "metadata": {},
   "outputs": [
    {
     "name": "stdout",
     "output_type": "stream",
     "text": [
      "nilai Andi adalah 50\n",
      "grade yang didapat adalah D\n"
     ]
    }
   ],
   "source": [
    "grading(50)"
   ]
  },
  {
   "cell_type": "code",
   "execution_count": 8,
   "metadata": {},
   "outputs": [
    {
     "name": "stdout",
     "output_type": "stream",
     "text": [
      "nilai Andi adalah 50\n",
      "grade yang didapat adalah D\n"
     ]
    }
   ],
   "source": [
    "grading(nilai=50)"
   ]
  },
  {
   "cell_type": "code",
   "execution_count": 9,
   "metadata": {},
   "outputs": [
    {
     "name": "stdout",
     "output_type": "stream",
     "text": [
      "nilai Andi adalah 60\n",
      "grade yang didapat adalah D\n",
      "nilai Andi adalah 70\n",
      "grade yang didapat adalah C\n",
      "nilai Andi adalah 80\n",
      "grade yang didapat adalah B\n"
     ]
    }
   ],
   "source": [
    "# contoh, kita punya 3 murid nilainya 60 70 80\n",
    "grading(60)\n",
    "grading(70)\n",
    "grading(80)"
   ]
  },
  {
   "cell_type": "code",
   "execution_count": 19,
   "metadata": {},
   "outputs": [],
   "source": [
    "# lebih dari satu argumen/ parameter/ variable spesial milik function\n",
    "def grading(nilai, murid):\n",
    "    # print(\"nilai\", murid, \"adalah\", nilai)\n",
    "    print(\"nilai \" + str(murid) + \" adalah \" + str(nilai))\n",
    "\n",
    "    if (type(nilai) == type(0)):\n",
    "        grade = \"\"\n",
    "        if (nilai >= 100):\n",
    "            grade = \"A+\"\n",
    "        elif (nilai >= 90):\n",
    "            grade = \"A\"\n",
    "        elif (nilai >= 80):\n",
    "            grade = \"B\"\n",
    "        elif (nilai >= 70):\n",
    "            grade = \"C\"\n",
    "        else:\n",
    "            grade = \"D\"\n",
    "\n",
    "        print(\"grade yang didapat adalah \" + grade)\n",
    "    else:\n",
    "        print(\"nilai tidak valid, harus tipe integer\")\n"
   ]
  },
  {
   "cell_type": "code",
   "execution_count": 16,
   "metadata": {},
   "outputs": [
    {
     "name": "stdout",
     "output_type": "stream",
     "text": [
      "nilai Henry adalah 100\n",
      "grade yang didapat adalah A+\n"
     ]
    }
   ],
   "source": [
    "grading(100, \"Henry\")"
   ]
  },
  {
   "cell_type": "code",
   "execution_count": 17,
   "metadata": {},
   "outputs": [
    {
     "name": "stdout",
     "output_type": "stream",
     "text": [
      "nilai Henry adalah 100\n",
      "grade yang didapat adalah A+\n",
      "nilai Henry adalah 100\n",
      "grade yang didapat adalah A+\n"
     ]
    }
   ],
   "source": [
    "grading(nilai=100, murid=\"Henry\")\n",
    "\n",
    "grading(murid=\"Henry\", nilai=100)"
   ]
  },
  {
   "cell_type": "code",
   "execution_count": 20,
   "metadata": {},
   "outputs": [
    {
     "name": "stdout",
     "output_type": "stream",
     "text": [
      "nilai 100 adalah Henry\n",
      "nilai tidak valid, harus tipe integer\n"
     ]
    }
   ],
   "source": [
    "grading(\"Henry\", 100)"
   ]
  },
  {
   "cell_type": "markdown",
   "metadata": {},
   "source": [
    "## latihan membuat function\n",
    "- buat function untuk mengecek apakah seseorang sudah dewasa\n",
    "- 17+ sudah dewasa\n",
    "- di bawah 17 tahun masih anak kecil\n",
    "- print hasil pengecekannya \"dewasa\" atau \"anak kecil\"\n",
    "- kalau sudah berhasil, tambahkan input untuk nama orang tersebut\n",
    "- output tambahkan \"(nama) sudah dewasa\" atau masih anak kecil"
   ]
  },
  {
   "cell_type": "code",
   "execution_count": null,
   "metadata": {},
   "outputs": [],
   "source": []
  },
  {
   "cell_type": "code",
   "execution_count": 21,
   "metadata": {},
   "outputs": [],
   "source": [
    "# pass by reference\n",
    "# data tidak di duplikat, punya banyak nama yang semuanya mengacu ke data yang sama\n",
    "\n",
    "buah_buahan = [\"apel\", \"jeruk\", \"pisang\"]\n",
    "\n",
    "copy_buah = buah_buahan\n",
    "\n",
    "copy_buah.append(\"melon\")"
   ]
  },
  {
   "cell_type": "code",
   "execution_count": 22,
   "metadata": {},
   "outputs": [
    {
     "name": "stdout",
     "output_type": "stream",
     "text": [
      "['apel', 'jeruk', 'pisang', 'melon']\n"
     ]
    }
   ],
   "source": [
    "print(copy_buah)"
   ]
  },
  {
   "cell_type": "code",
   "execution_count": 23,
   "metadata": {},
   "outputs": [
    {
     "name": "stdout",
     "output_type": "stream",
     "text": [
      "['apel', 'jeruk', 'pisang', 'melon']\n"
     ]
    }
   ],
   "source": [
    "print(buah_buahan)"
   ]
  },
  {
   "cell_type": "code",
   "execution_count": 24,
   "metadata": {},
   "outputs": [
    {
     "name": "stdout",
     "output_type": "stream",
     "text": [
      "andi\n",
      "pass\n"
     ]
    }
   ],
   "source": [
    "# tidak baik untuk pass by reference saat membuat function\n",
    "andi = [\"andi\", 100]\n",
    "\n",
    "def grading(murid):\n",
    "    print(murid[0])\n",
    "\n",
    "    if (murid[1] > 50):\n",
    "        print(\"pass\")\n",
    "    else:\n",
    "        print(\"fail\")\n",
    "\n",
    "    murid.remove(murid[0])\n",
    "\n",
    "grading(andi)"
   ]
  },
  {
   "cell_type": "code",
   "execution_count": 25,
   "metadata": {},
   "outputs": [
    {
     "name": "stdout",
     "output_type": "stream",
     "text": [
      "[100]\n"
     ]
    }
   ],
   "source": [
    "print(andi)"
   ]
  },
  {
   "cell_type": "code",
   "execution_count": 26,
   "metadata": {},
   "outputs": [],
   "source": [
    "# data awal kita yang tidak sengaja berubah, terhapus, teredit hanya karena melewati function\n",
    "# itu sangat berbahaya\n",
    "\n",
    "# jadi kita perlu tambahkan 1 step supaya hal ini tidak terjadi"
   ]
  },
  {
   "cell_type": "code",
   "execution_count": 27,
   "metadata": {},
   "outputs": [
    {
     "name": "stdout",
     "output_type": "stream",
     "text": [
      "['apel', 'jeruk', 'pisang', 'melon']\n",
      "['apel', 'jeruk', 'pisang']\n"
     ]
    }
   ],
   "source": [
    "buah_buahan = [\"apel\", \"jeruk\", \"pisang\"]\n",
    "\n",
    "copy_buah = buah_buahan.copy()\n",
    "\n",
    "copy_buah.append(\"melon\")\n",
    "\n",
    "print(copy_buah)\n",
    "print(buah_buahan)"
   ]
  },
  {
   "cell_type": "code",
   "execution_count": 30,
   "metadata": {},
   "outputs": [
    {
     "name": "stdout",
     "output_type": "stream",
     "text": [
      "andi\n",
      "pass\n"
     ]
    }
   ],
   "source": [
    "andi = [\"andi\", 100]\n",
    "\n",
    "def grading(murid):\n",
    "    murid = murid.copy()\n",
    "    print(murid[0])\n",
    "\n",
    "    if (murid[1] > 50):\n",
    "        print(\"pass\")\n",
    "    else:\n",
    "        print(\"fail\")\n",
    "\n",
    "    murid.remove(murid[0])\n",
    "\n",
    "grading(andi)"
   ]
  },
  {
   "cell_type": "code",
   "execution_count": 31,
   "metadata": {},
   "outputs": [
    {
     "name": "stdout",
     "output_type": "stream",
     "text": [
      "['andi', 100]\n"
     ]
    }
   ],
   "source": [
    "print(andi)"
   ]
  },
  {
   "cell_type": "code",
   "execution_count": 33,
   "metadata": {},
   "outputs": [
    {
     "name": "stdout",
     "output_type": "stream",
     "text": [
      "10 30\n"
     ]
    }
   ],
   "source": [
    "# khusus untuk tipe data list, tuple, dictionary, dan tipe data structured lainnya\n",
    "# untuk integer, string, float, boolean, tidak akan kena, mereka pass by value\n",
    "\n",
    "n = 10\n",
    "\n",
    "m = n\n",
    "\n",
    "m = m + 20\n",
    "\n",
    "print(n, m)"
   ]
  },
  {
   "cell_type": "code",
   "execution_count": 34,
   "metadata": {},
   "outputs": [
    {
     "name": "stdout",
     "output_type": "stream",
     "text": [
      "hai hai halo\n"
     ]
    }
   ],
   "source": [
    "n = \"hai\"\n",
    "\n",
    "m = n\n",
    "\n",
    "m = m + \" halo\"\n",
    "\n",
    "print(n, m)"
   ]
  },
  {
   "cell_type": "code",
   "execution_count": 35,
   "metadata": {},
   "outputs": [],
   "source": [
    "# return\n",
    "# mengembalikan value setelah menjalankan function"
   ]
  },
  {
   "cell_type": "code",
   "execution_count": 38,
   "metadata": {},
   "outputs": [
    {
     "name": "stdout",
     "output_type": "stream",
     "text": [
      "ana\n",
      "pass\n"
     ]
    }
   ],
   "source": [
    "hasil = grading([\"ana\", 95])"
   ]
  },
  {
   "cell_type": "code",
   "execution_count": 39,
   "metadata": {},
   "outputs": [
    {
     "name": "stdout",
     "output_type": "stream",
     "text": [
      "None\n"
     ]
    }
   ],
   "source": [
    "print(hasil)"
   ]
  },
  {
   "cell_type": "code",
   "execution_count": 40,
   "metadata": {},
   "outputs": [],
   "source": [
    "def grading(murid):\n",
    "    murid = murid.copy()\n",
    "\n",
    "    if (murid[1] > 50):\n",
    "        return murid[0] + \" pass\"\n",
    "    else:\n",
    "        return murid[0] + \" fail\""
   ]
  },
  {
   "cell_type": "code",
   "execution_count": 41,
   "metadata": {},
   "outputs": [],
   "source": [
    "hasil = grading([\"ana\", 95])"
   ]
  },
  {
   "cell_type": "code",
   "execution_count": 42,
   "metadata": {},
   "outputs": [
    {
     "name": "stdout",
     "output_type": "stream",
     "text": [
      "ana pass\n"
     ]
    }
   ],
   "source": [
    "print(hasil)"
   ]
  },
  {
   "cell_type": "code",
   "execution_count": 43,
   "metadata": {},
   "outputs": [],
   "source": [
    "def grading(murid):\n",
    "    murid = murid.copy()\n",
    "\n",
    "    hasil = murid[0] + \" \"\n",
    "\n",
    "    if (murid[1] > 50):\n",
    "        hasil += \"pass\"\n",
    "    else:\n",
    "        hasil += \"fail\"\n",
    "\n",
    "    return hasil"
   ]
  },
  {
   "cell_type": "code",
   "execution_count": 45,
   "metadata": {},
   "outputs": [],
   "source": [
    "hasil = grading([\"Budi\", 89])"
   ]
  },
  {
   "cell_type": "code",
   "execution_count": 46,
   "metadata": {},
   "outputs": [
    {
     "name": "stdout",
     "output_type": "stream",
     "text": [
      "Budi pass\n"
     ]
    }
   ],
   "source": [
    "print(hasil)"
   ]
  },
  {
   "cell_type": "code",
   "execution_count": 49,
   "metadata": {},
   "outputs": [],
   "source": [
    "kelas = [\n",
    "    [\"Budi\", 80],\n",
    "    [\"Cindy\", 30],\n",
    "    [\"Denisa\", 40],\n",
    "    [\"Erika\", 105],\n",
    "    [\"Fin\", 72],\n",
    "    ]\n",
    "\n",
    "kelas_graded = []\n",
    "for murid in kelas:\n",
    "    kelas_graded.append(grading(murid))"
   ]
  },
  {
   "cell_type": "code",
   "execution_count": 50,
   "metadata": {},
   "outputs": [
    {
     "name": "stdout",
     "output_type": "stream",
     "text": [
      "['Budi pass', 'Cindy fail', 'Denisa fail', 'Erika pass', 'Fin pass']\n"
     ]
    }
   ],
   "source": [
    "print(kelas_graded)"
   ]
  },
  {
   "cell_type": "code",
   "execution_count": 51,
   "metadata": {},
   "outputs": [],
   "source": [
    "# default argumen\n",
    "# argumen yang ada default value\n",
    "\n",
    "def menyapa(waktu=\"pagi\", nama=\"pak/bu\"):\n",
    "    print(\"selamat\", waktu, nama)"
   ]
  },
  {
   "cell_type": "code",
   "execution_count": 52,
   "metadata": {},
   "outputs": [
    {
     "name": "stdout",
     "output_type": "stream",
     "text": [
      "selamat pagi pak/bu\n",
      "selamat sore pak/bu\n",
      "selamat pagi Andi\n",
      "selamat malam Budi\n",
      "selamat siang pak/bu\n"
     ]
    }
   ],
   "source": [
    "menyapa()\n",
    "menyapa(waktu=\"sore\")\n",
    "menyapa(nama=\"Andi\")\n",
    "menyapa(\"malam\", \"Budi\")\n",
    "menyapa(\"siang\")"
   ]
  },
  {
   "cell_type": "code",
   "execution_count": 58,
   "metadata": {},
   "outputs": [],
   "source": [
    "extra = \"!!\"\n",
    "\n",
    "def menyapa(sapaan, waktu=\"pagi\", nama=\"pak/bu\"):\n",
    "    print(sapaan, waktu, nama, extra)\n",
    "    nama = \"aku\""
   ]
  },
  {
   "cell_type": "code",
   "execution_count": 59,
   "metadata": {},
   "outputs": [
    {
     "name": "stdout",
     "output_type": "stream",
     "text": [
      "halo pagi pak/bu !!\n",
      "hey sore pak/bu !!\n",
      "selamat pagi Andi !!\n",
      "yoo malam Budi !!\n",
      "salam siang pak/bu !!\n"
     ]
    }
   ],
   "source": [
    "menyapa(\"halo\")\n",
    "menyapa(\"hey\", waktu=\"sore\")\n",
    "menyapa(\"selamat\", nama=\"Andi\")\n",
    "menyapa(\"yoo\", \"malam\", \"Budi\")\n",
    "menyapa(\"salam\", \"siang\")"
   ]
  },
  {
   "cell_type": "code",
   "execution_count": 60,
   "metadata": {},
   "outputs": [],
   "source": [
    "# nama\n",
    "# tidak bisa digunakan karena pembuatan variable nama ada di dalam function"
   ]
  },
  {
   "cell_type": "markdown",
   "metadata": {},
   "source": [
    "# module\n",
    "sekumpulan code python di sebuah file terpisah \".py\""
   ]
  },
  {
   "cell_type": "code",
   "execution_count": 62,
   "metadata": {},
   "outputs": [
    {
     "name": "stdout",
     "output_type": "stream",
     "text": [
      "halo pagi pak/bu !!\n",
      "hey sore pak/bu !!\n",
      "selamat pagi Andi !!\n",
      "yoo malam Budi !!\n",
      "salam siang pak/bu !!\n"
     ]
    }
   ],
   "source": [
    "import mod"
   ]
  },
  {
   "cell_type": "code",
   "execution_count": 75,
   "metadata": {},
   "outputs": [
    {
     "data": {
      "text/plain": [
       "<module 'andi' from 'c:\\\\Users\\\\stefa\\\\hacktiv\\\\PYTN\\\\pytn-pkj-3\\\\andi.py'>"
      ]
     },
     "execution_count": 75,
     "metadata": {},
     "output_type": "execute_result"
    }
   ],
   "source": [
    "import andi\n",
    "\n",
    "import importlib\n",
    "importlib.reload(andi)"
   ]
  },
  {
   "cell_type": "code",
   "execution_count": 71,
   "metadata": {},
   "outputs": [
    {
     "data": {
      "text/plain": [
       "0"
      ]
     },
     "execution_count": 71,
     "metadata": {},
     "output_type": "execute_result"
    }
   ],
   "source": [
    "andi.counter_makan"
   ]
  },
  {
   "cell_type": "code",
   "execution_count": 76,
   "metadata": {},
   "outputs": [
    {
     "name": "stdout",
     "output_type": "stream",
     "text": [
      "Andhika Widjaja sudah makan 0 kali\n"
     ]
    }
   ],
   "source": [
    "andi.makan()"
   ]
  },
  {
   "cell_type": "code",
   "execution_count": 77,
   "metadata": {},
   "outputs": [],
   "source": [
    "andi.counter_makan = 10"
   ]
  },
  {
   "cell_type": "code",
   "execution_count": 78,
   "metadata": {},
   "outputs": [
    {
     "name": "stdout",
     "output_type": "stream",
     "text": [
      "Andhika Widjaja sudah makan 10 kali\n"
     ]
    }
   ],
   "source": [
    "andi.makan()"
   ]
  },
  {
   "cell_type": "code",
   "execution_count": 79,
   "metadata": {},
   "outputs": [],
   "source": [
    "import andi as andhika"
   ]
  },
  {
   "cell_type": "code",
   "execution_count": 80,
   "metadata": {},
   "outputs": [
    {
     "data": {
      "text/plain": [
       "10"
      ]
     },
     "execution_count": 80,
     "metadata": {},
     "output_type": "execute_result"
    }
   ],
   "source": [
    "andhika.counter_makan"
   ]
  },
  {
   "cell_type": "markdown",
   "metadata": {},
   "source": [
    "# Package\n",
    "beberapa file module di dalam sebuah folder\n",
    "\n",
    "note: kita tidak bisa import package, cuma bisa import module nya saja"
   ]
  },
  {
   "cell_type": "code",
   "execution_count": 81,
   "metadata": {},
   "outputs": [],
   "source": [
    "import kelas"
   ]
  },
  {
   "cell_type": "code",
   "execution_count": 82,
   "metadata": {},
   "outputs": [
    {
     "data": {
      "text/plain": [
       "<module 'kelas' (namespace)>"
      ]
     },
     "execution_count": 82,
     "metadata": {},
     "output_type": "execute_result"
    }
   ],
   "source": [
    "kelas"
   ]
  },
  {
   "cell_type": "code",
   "execution_count": 84,
   "metadata": {},
   "outputs": [],
   "source": [
    "# kelas.budi.menyapa()\n",
    "# error"
   ]
  },
  {
   "cell_type": "code",
   "execution_count": 85,
   "metadata": {},
   "outputs": [],
   "source": [
    "import kelas.budi"
   ]
  },
  {
   "cell_type": "code",
   "execution_count": 86,
   "metadata": {},
   "outputs": [
    {
     "name": "stdout",
     "output_type": "stream",
     "text": [
      "Yoo salam! Saya Budi\n"
     ]
    }
   ],
   "source": [
    "kelas.budi.menyapa()"
   ]
  },
  {
   "cell_type": "code",
   "execution_count": 87,
   "metadata": {},
   "outputs": [],
   "source": [
    "import kelas.cindy as kc"
   ]
  },
  {
   "cell_type": "code",
   "execution_count": 88,
   "metadata": {},
   "outputs": [
    {
     "name": "stdout",
     "output_type": "stream",
     "text": [
      "Selamat siang, salam kenal, saya Cindy\n"
     ]
    }
   ],
   "source": [
    "kc.menyapa()"
   ]
  },
  {
   "cell_type": "code",
   "execution_count": null,
   "metadata": {},
   "outputs": [],
   "source": [
    "# latihan: buat file module, coba import, jalankan function module nya\n",
    "# latihan: buat bbrp file module, jadikan package, coba import, jalankan function module nya"
   ]
  }
 ],
 "metadata": {
  "interpreter": {
   "hash": "4f523f7c76dd18e7ed336217f32f6f704c23c323644912475b9d3570cf04b060"
  },
  "kernelspec": {
   "display_name": "Python 3.9.7 ('base')",
   "language": "python",
   "name": "python3"
  },
  "language_info": {
   "codemirror_mode": {
    "name": "ipython",
    "version": 3
   },
   "file_extension": ".py",
   "mimetype": "text/x-python",
   "name": "python",
   "nbconvert_exporter": "python",
   "pygments_lexer": "ipython3",
   "version": "3.9.7"
  },
  "orig_nbformat": 4
 },
 "nbformat": 4,
 "nbformat_minor": 2
}
