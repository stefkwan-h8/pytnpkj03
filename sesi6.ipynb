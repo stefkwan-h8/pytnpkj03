{
 "cells": [
  {
   "cell_type": "markdown",
   "metadata": {},
   "source": [
    "# Inferential Statistics\n",
    "statistik yang BUKAN digunakan untuk mendeskripsikan data, tapi untuk mengambil konklusi dari data. untuk membuat pernyataan tentang data. contoh:\n",
    "- kemungkinan ketemu murid yang beratnya 50-60kg di kampus tersebut adalah 17% --> probability distribution\n",
    "- kampus tersebut berat baran muridnya ada di antara 45-65kg --> confidence interval\n",
    "- rata-rata berat badan murid di kampus tersebut sekarang sekarang dibandingkan dengan 10 tahun yang lalu --> hypothesis testing\n",
    "\n",
    "## Probability Distribution\n",
    "- histogram untuk visualisasi\n",
    "\n",
    "### continuous\n",
    "angkanya berjalan terus, seperti waktu, berat, tinggi, uang, Rp.1 dan Rp.0.1 berbeda Rp.1.001, Rp.1.002, 50.001kg\n",
    "\n",
    "angka angka yang poin desimal tergantung kekuatan alat yang kita gunakan untuk mengukur angka tersebut. kalau kita pakai timbangan jelek beratnya cuma terlihat per 500gr 50kg, 50.5kg tapi kita ganti timbangan digital tiba2 kita bisa dapat angka lebih spesifik 50.02kg dan 50.87kg, misal kita ganti timbangan kue yang lebih spesifik lagi, kita bisa dapat angka beda lagi\n",
    "50.021kg dan 50.874kg, ini dinamakan angka yang continuous\n",
    "\n",
    "tidak ada pembatas antara 1 angka dengan angka lainnya\n",
    "\n",
    "- misalkan kita punya data berat badan murid kampus A, berapa kemungkinan ketemu orang yang berat badannya 50kg? 0%\n",
    "- angka kita continuous, kita buat range (bin) satu keranjang untuk semua angka continuous di ukuran tersebut, masuk keranjang (bin) itu. misalakan binnya 40-50kg, 50-60kg, 60-70kg. kalau kita dapat orang yang beratnya 50.2kg --> masuk bin 50-60kg. kalau kita dapat orang yang beratnya 49.877kg --> masuk bin 40-50kg. kita hitung setiap bin ada berapa orang. total orang yang kita ukur ada berapa. baru dapat % per bin.\n",
    "- kalau hasil bin bin dan % di gambar, kita dapat histogram\n",
    "\n",
    "### discrete\n",
    "angka bulat pas\n",
    "\n",
    "misalnya jumlah murid di kelas 32, 17, 13, 40\n",
    "misalnya hasil lempar dadu 1,2,3,4,5,6\n",
    "\n",
    "- untuk setiap kemungkinan hasil sebuah angka, kita catat dari data kita, muncul berapa kali\n",
    "- misalkan kita lempar dadu 100 kali, ada berapa 1 yang muncul, 2 yang muncul, 3 ... masing2 angka hasil lempar dadu muncul berapa kali?\n",
    "- kita visualisasikan dengan histogram, 1 bin adalah 1 angka dadu\n",
    "\n",
    "### Bentuk bentuk distribusi data\n",
    "- uniform (semua hasil kemungkinan dapatanya sama, misal lempar dadu)\n",
    "- normal (hasil yang mendekati rata2 kemungkinan paling tinggi, yang menjauh dari rata2 kemungkinan semakin kecil)\n",
    "- ... ada jenis lainnya\n",
    "\n",
    "untuk konsep2 berikut kita asumsikan kalau datanya normal semua\n",
    "\n",
    "## Confidence Interval\n",
    "- untuk angka rata2nya, misalkan \"rata2 berat badan murid di kampus A adalah [45-65kg]\"\n",
    "- untuk proporsi/ persentase, misalkan \"[60-70%] murid di kampus A mempunyai berat badan di atas 50kg\"\n",
    "*hanya 95% yakin\n",
    "**dan tergantung data\n",
    "\n",
    "## Hypothesis Testing\n",
    "- bikin statement, alternate hypothesis, rata2 berat badan murid kampus A sekarang lebih tinggi dibanding 10 tahun yang lalu\n",
    "- bikin statement terbalik, H0 null hypothesis, asumsi yang sekarang sedang kita gunakan yaitu\n",
    "    \"rata2 berat badan murid kampus A sekarang TIDAK ADA BEDANYA dengan rata2 berat badan murid kampus A 10 tahun yang lalu\"\n",
    "- H0 nya di test, kita dapat \"p-value\"\n",
    "- kalau p-value di bawah 5% kita bisa bilang kalau H0 kita REJECT, artinya \n",
    "    \"rata2 berat badan murid kampus A sekarang ADA BEDA SIGNIFIKAN dengan rata2 berat badan murid kampus A 10 tahun yang lalu\"\n",
    "    jadi\n",
    "    kemungkinan statement awal yang mau kita buat itu benar\n",
    "- kalau p-value 5% keatas, kita bisa bilang kalau kita GAGAL REJECT H0, FAIL TO REJECT asumsi kita,\n",
    "    \"rata2 berat badan murid kampus A sekarang BEDANYA TIDAK SIGNIFIKAN dengan rata2 berat badan murid kampus A 10 tahun yang lalu\"\n",
    "    tidak ada yang kita yakinkan\n",
    "    kemungkinan statement kita salah\n",
    "\n",
    "*hanya 95% yakin\n",
    "**dan tergantung data"
   ]
  },
  {
   "cell_type": "code",
   "execution_count": 11,
   "metadata": {},
   "outputs": [
    {
     "name": "stderr",
     "output_type": "stream",
     "text": [
      "c:\\Users\\stefa\\anaconda3\\lib\\site-packages\\statsmodels\\tsa\\base\\tsa_model.py:7: FutureWarning: pandas.Int64Index is deprecated and will be removed from pandas in a future version. Use pandas.Index with the appropriate dtype instead.\n",
      "  from pandas import (to_datetime, Int64Index, DatetimeIndex, Period,\n",
      "c:\\Users\\stefa\\anaconda3\\lib\\site-packages\\statsmodels\\tsa\\base\\tsa_model.py:7: FutureWarning: pandas.Float64Index is deprecated and will be removed from pandas in a future version. Use pandas.Index with the appropriate dtype instead.\n",
      "  from pandas import (to_datetime, Int64Index, DatetimeIndex, Period,\n"
     ]
    }
   ],
   "source": [
    "# import package dulu\n",
    "# olah data\n",
    "import numpy as np\n",
    "import pandas as pd\n",
    "\n",
    "# visualisasi\n",
    "%matplotlib inline\n",
    "import matplotlib as mpl\n",
    "import matplotlib.pyplot as plt\n",
    "mpl.style.use([\"ggplot\"])\n",
    "\n",
    "# statistik\n",
    "import statsmodels.api as sm"
   ]
  },
  {
   "cell_type": "code",
   "execution_count": 2,
   "metadata": {},
   "outputs": [
    {
     "name": "stdout",
     "output_type": "stream",
     "text": [
      "<class 'pandas.core.frame.DataFrame'>\n",
      "RangeIndex: 126314 entries, 0 to 126313\n",
      "Data columns (total 5 columns):\n",
      " #   Column     Non-Null Count   Dtype \n",
      "---  ------     --------------   ----- \n",
      " 0   date_game  126314 non-null  object\n",
      " 1   team_id    126314 non-null  object\n",
      " 2   pts        126314 non-null  int64 \n",
      " 3   opp_id     126314 non-null  object\n",
      " 4   opp_pts    126314 non-null  int64 \n",
      "dtypes: int64(2), object(3)\n",
      "memory usage: 4.8+ MB\n"
     ]
    }
   ],
   "source": [
    "# import data\n",
    "df_nba = pd.read_csv(\"dataset/nbaallelo.csv\")\n",
    "df_nba = df_nba.drop(columns=['gameorder', 'game_id', 'lg_id', '_iscopy', 'year_id',\n",
    "       'seasongame', 'is_playoffs', 'fran_id', 'elo_i',\n",
    "       'elo_n', 'win_equiv',  'opp_fran',  'opp_elo_i',\n",
    "       'opp_elo_n', 'game_location', 'game_result', 'forecast', 'notes'])\n",
    "\n",
    "df_nba.info()"
   ]
  },
  {
   "cell_type": "code",
   "execution_count": 3,
   "metadata": {},
   "outputs": [
    {
     "data": {
      "text/html": [
       "<div>\n",
       "<style scoped>\n",
       "    .dataframe tbody tr th:only-of-type {\n",
       "        vertical-align: middle;\n",
       "    }\n",
       "\n",
       "    .dataframe tbody tr th {\n",
       "        vertical-align: top;\n",
       "    }\n",
       "\n",
       "    .dataframe thead th {\n",
       "        text-align: right;\n",
       "    }\n",
       "</style>\n",
       "<table border=\"1\" class=\"dataframe\">\n",
       "  <thead>\n",
       "    <tr style=\"text-align: right;\">\n",
       "      <th></th>\n",
       "      <th>date_game</th>\n",
       "      <th>team_id</th>\n",
       "      <th>pts</th>\n",
       "      <th>opp_id</th>\n",
       "      <th>opp_pts</th>\n",
       "    </tr>\n",
       "  </thead>\n",
       "  <tbody>\n",
       "    <tr>\n",
       "      <th>0</th>\n",
       "      <td>11/1/1946</td>\n",
       "      <td>TRH</td>\n",
       "      <td>66</td>\n",
       "      <td>NYK</td>\n",
       "      <td>68</td>\n",
       "    </tr>\n",
       "    <tr>\n",
       "      <th>1</th>\n",
       "      <td>11/1/1946</td>\n",
       "      <td>NYK</td>\n",
       "      <td>68</td>\n",
       "      <td>TRH</td>\n",
       "      <td>66</td>\n",
       "    </tr>\n",
       "    <tr>\n",
       "      <th>2</th>\n",
       "      <td>11/2/1946</td>\n",
       "      <td>CHS</td>\n",
       "      <td>63</td>\n",
       "      <td>NYK</td>\n",
       "      <td>47</td>\n",
       "    </tr>\n",
       "    <tr>\n",
       "      <th>3</th>\n",
       "      <td>11/2/1946</td>\n",
       "      <td>NYK</td>\n",
       "      <td>47</td>\n",
       "      <td>CHS</td>\n",
       "      <td>63</td>\n",
       "    </tr>\n",
       "    <tr>\n",
       "      <th>4</th>\n",
       "      <td>11/2/1946</td>\n",
       "      <td>DTF</td>\n",
       "      <td>33</td>\n",
       "      <td>WSC</td>\n",
       "      <td>50</td>\n",
       "    </tr>\n",
       "    <tr>\n",
       "      <th>...</th>\n",
       "      <td>...</td>\n",
       "      <td>...</td>\n",
       "      <td>...</td>\n",
       "      <td>...</td>\n",
       "      <td>...</td>\n",
       "    </tr>\n",
       "    <tr>\n",
       "      <th>126309</th>\n",
       "      <td>6/11/2015</td>\n",
       "      <td>CLE</td>\n",
       "      <td>82</td>\n",
       "      <td>GSW</td>\n",
       "      <td>103</td>\n",
       "    </tr>\n",
       "    <tr>\n",
       "      <th>126310</th>\n",
       "      <td>6/14/2015</td>\n",
       "      <td>GSW</td>\n",
       "      <td>104</td>\n",
       "      <td>CLE</td>\n",
       "      <td>91</td>\n",
       "    </tr>\n",
       "    <tr>\n",
       "      <th>126311</th>\n",
       "      <td>6/14/2015</td>\n",
       "      <td>CLE</td>\n",
       "      <td>91</td>\n",
       "      <td>GSW</td>\n",
       "      <td>104</td>\n",
       "    </tr>\n",
       "    <tr>\n",
       "      <th>126312</th>\n",
       "      <td>6/16/2015</td>\n",
       "      <td>CLE</td>\n",
       "      <td>97</td>\n",
       "      <td>GSW</td>\n",
       "      <td>105</td>\n",
       "    </tr>\n",
       "    <tr>\n",
       "      <th>126313</th>\n",
       "      <td>6/16/2015</td>\n",
       "      <td>GSW</td>\n",
       "      <td>105</td>\n",
       "      <td>CLE</td>\n",
       "      <td>97</td>\n",
       "    </tr>\n",
       "  </tbody>\n",
       "</table>\n",
       "<p>126314 rows × 5 columns</p>\n",
       "</div>"
      ],
      "text/plain": [
       "        date_game team_id  pts opp_id  opp_pts\n",
       "0       11/1/1946     TRH   66    NYK       68\n",
       "1       11/1/1946     NYK   68    TRH       66\n",
       "2       11/2/1946     CHS   63    NYK       47\n",
       "3       11/2/1946     NYK   47    CHS       63\n",
       "4       11/2/1946     DTF   33    WSC       50\n",
       "...           ...     ...  ...    ...      ...\n",
       "126309  6/11/2015     CLE   82    GSW      103\n",
       "126310  6/14/2015     GSW  104    CLE       91\n",
       "126311  6/14/2015     CLE   91    GSW      104\n",
       "126312  6/16/2015     CLE   97    GSW      105\n",
       "126313  6/16/2015     GSW  105    CLE       97\n",
       "\n",
       "[126314 rows x 5 columns]"
      ]
     },
     "execution_count": 3,
     "metadata": {},
     "output_type": "execute_result"
    }
   ],
   "source": [
    "df_nba"
   ]
  },
  {
   "cell_type": "code",
   "execution_count": 4,
   "metadata": {},
   "outputs": [
    {
     "name": "stdout",
     "output_type": "stream",
     "text": [
      "104.46623311655829\n"
     ]
    },
    {
     "data": {
      "text/plain": [
       "Text(0.5, 1.0, 'Distribusi probabilitas tim BOS skor berapa poin dalam 1 game')"
      ]
     },
     "execution_count": 4,
     "metadata": {},
     "output_type": "execute_result"
    },
    {
     "data": {
      "image/png": "[encoded data removed]",
      "text/plain": [
       "<Figure size 432x288 with 1 Axes>"
      ]
     },
     "metadata": {},
     "output_type": "display_data"
    }
   ],
   "source": [
    "# tim BOS biasanya skor berapa poin? buat distribusi\n",
    "df_bos = df_nba[df_nba[\"team_id\"]==\"BOS\"]\n",
    "\n",
    "print(df_bos[\"pts\"].mean())\n",
    "\n",
    "df_bos[\"pts\"].plot(kind=\"hist\")\n",
    "plt.title(\"Distribusi probabilitas tim BOS skor berapa poin dalam 1 game\")"
   ]
  },
  {
   "cell_type": "code",
   "execution_count": 5,
   "metadata": {},
   "outputs": [
    {
     "name": "stdout",
     "output_type": "stream",
     "text": [
      "104.46623311655829 mean\n",
      "16.054123830415808 std\n"
     ]
    },
    {
     "data": {
      "text/plain": [
       "Text(0.5, 1.0, 'Distribusi probabilitas tim BOS skor berapa poin dalam 1 game')"
      ]
     },
     "execution_count": 5,
     "metadata": {},
     "output_type": "execute_result"
    },
    {
     "data": {
      "image/png": "[encoded data removed]",
      "text/plain": [
       "<Figure size 864x432 with 1 Axes>"
      ]
     },
     "metadata": {},
     "output_type": "display_data"
    }
   ],
   "source": [
    "# pakai numpy untuk pasin garis x ticks dengan bin\n",
    "df = df_bos[\"pts\"] # data\n",
    "n = 20 # jumlah bins\n",
    "\n",
    "count, bin_edges = np.histogram(df, bins=n)\n",
    "\n",
    "print(df.mean(), \"mean\")\n",
    "print(df.std(), \"std\")\n",
    "\n",
    "df.plot(kind=\"hist\", bins=n, xticks=bin_edges, figsize=(12,6))\n",
    "plt.title(\"Distribusi probabilitas tim BOS skor berapa poin dalam 1 game\")"
   ]
  },
  {
   "cell_type": "code",
   "execution_count": 6,
   "metadata": {},
   "outputs": [],
   "source": [
    "# Confidence Interval untuk rata2 skor tim BOS per game berapa\n",
    "mean = 104.4\n",
    "std = 16.0\n",
    "\n",
    "# Confidence Interval dihitung dengan \n",
    "# Best Estimate +- margin of error"
   ]
  },
  {
   "cell_type": "markdown",
   "metadata": {},
   "source": [
    "# Confidence Interval dihitung dengan \n",
    "- Best Estimate +- margin of error\n",
    "- Margin of Error = z * standard error\n",
    "- z = 1.96 untuk menunjukkan level keyakinan 95%\n",
    "\n",
    "biasanya ditulis dengan format dari angka kecil - angka besar   \n",
    "\n",
    "dari (Best Estimate - margin of error) sampai (Best Estimate + margin of error)   \n",
    "\n",
    "\n",
    "## CI mean\n",
    "confidence interval mean\n",
    "\n",
    "\"rata2 berat badan murid di kampus A adalah [45-65kg]\"   \n",
    "confidence interval 45-55 artinya punya best estimate 55kg +- margin error 10kg\n",
    "\n",
    "- Best Estimate = mean\n",
    "- Margin of Error = z * standard error\n",
    "- z = 1.96\n",
    "- standard error = std / np.sqrt(jumlah_data)\n",
    "\n",
    "## CI persentase/proporsi\n",
    "confidence interval proporsi\n",
    "\n",
    "\"[60-70%] murid di kampus A mempunyai berat badan di atas 50kg\"\n",
    "confidence interval 60-70% artinya proporsi/persentase awal adalah 65%, margin error 5%, jadi 65% +- 5%\n",
    "\n",
    "- Best Estimate = proporsi = p\n",
    "- Margin of Error = z * standard error\n",
    "- z = 1.96\n",
    "- standard error = np.sqrt(p * (1-p) / jumlah_data)"
   ]
  },
  {
   "cell_type": "code",
   "execution_count": 7,
   "metadata": {},
   "outputs": [
    {
     "name": "stdout",
     "output_type": "stream",
     "text": [
      "[104.0599061411236, 104.87256009199297]\n"
     ]
    }
   ],
   "source": [
    "# Confidence Interval untuk rata2 skor tim BOS per game berapa\n",
    "df = df_bos[\"pts\"]  # data\n",
    "\n",
    "mean = df.mean()\n",
    "std = df.std()\n",
    "jumlah_data = len(df)\n",
    "\n",
    "be = mean\n",
    "\n",
    "z = 1.96\n",
    "se = std / np.sqrt(jumlah_data)\n",
    "\n",
    "me = z * se\n",
    "\n",
    "print([be - me, be + me])"
   ]
  },
  {
   "cell_type": "code",
   "execution_count": 8,
   "metadata": {},
   "outputs": [],
   "source": [
    "# tim BOS biasanya skor 104 - 105 per game"
   ]
  },
  {
   "cell_type": "code",
   "execution_count": 12,
   "metadata": {},
   "outputs": [
    {
     "name": "stdout",
     "output_type": "stream",
     "text": [
      "5997\n",
      "0.6101384025346006\n",
      "0.5977943302487082 0.622482474820493\n"
     ]
    }
   ],
   "source": [
    "# Confidence Interval untuk tim BOS bisa skor lebih dari 100 poin di sebuah game basket NBA\n",
    "df = df_bos[\"pts\"] # data\n",
    "\n",
    "# yang lebih dari 100 ada berapa persen?\n",
    "lebih_dari_100 = len(df[df > 100])\n",
    "jumlah_data = len(df)\n",
    "print(jumlah_data)\n",
    "\n",
    "p = lebih_dari_100 / jumlah_data\n",
    "print(p)\n",
    "\n",
    "be = p\n",
    "z = 1.96\n",
    "se = np.sqrt(p * (1-p) / jumlah_data)\n",
    "me = z * se\n",
    "\n",
    "print(be-me, be+me)"
   ]
  },
  {
   "cell_type": "code",
   "execution_count": 10,
   "metadata": {},
   "outputs": [],
   "source": [
    "# 60-62% kemungkinan kalau tim BOS skor diatas 100 di sebuah game NBA"
   ]
  },
  {
   "cell_type": "markdown",
   "metadata": {},
   "source": [
    "# Hypothesis Testing"
   ]
  },
  {
   "cell_type": "code",
   "execution_count": 18,
   "metadata": {},
   "outputs": [
    {
     "name": "stdout",
     "output_type": "stream",
     "text": [
      "0.05617653469375571\n",
      "FAIL to REJECT null hypothesis, tidak ada konklusi\n"
     ]
    }
   ],
   "source": [
    "# One Population Proportion\n",
    "# membandingkan proporsi satu populasi dulu dan sekarang apakah berbeda secara signifikan\n",
    "\n",
    "# dulu lebih dari 60% game skor nya diatas 100\n",
    "# sekarang 61%, dari 5997 game\n",
    "# apakah sekarang > dulu persentase kemungkinan dapat skor diatas 100?\n",
    "\n",
    "# H1: p > 0.6\n",
    "# H9: p = 0.6\n",
    "\n",
    "n = 5997\n",
    "pnull = 0.60\n",
    "phat = 0.61\n",
    "\n",
    "zstat, pvalue = sm.stats.proportions_ztest(phat * n, n, pnull, alternative='larger')\n",
    "print(pvalue)\n",
    "\n",
    "# pilih error rate nya, biasanya di 5% yaitu 0.05. alpha nya 0.05\n",
    "alpha = 0.05\n",
    "\n",
    "if (pvalue < alpha):\n",
    "    print(\"REJECT null hypothesis, ada perbedaan signifikan antara proporsi dulu dan sekarang\")\n",
    "else:\n",
    "    print(\"FAIL to REJECT null hypothesis, tidak ada konklusi\")"
   ]
  },
  {
   "cell_type": "code",
   "execution_count": 24,
   "metadata": {},
   "outputs": [],
   "source": [
    "# Difference in Population Means\n",
    "# apakah ada perbedaan rata-rata antara dua populasi\n",
    "\n",
    "# rata2 skor tim BOS dan LAL apakah berbeda?\n",
    "df_bos_pts = df_bos['pts']\n",
    "df_lal = df_nba[df_nba[\"team_id\"]==\"LAL\"]\n",
    "df_lal_pts = df_lal['pts']\n",
    "\n",
    "# df_bos_pts\n",
    "# df_lal_pts\n"
   ]
  },
  {
   "cell_type": "code",
   "execution_count": 25,
   "metadata": {},
   "outputs": [
    {
     "name": "stdout",
     "output_type": "stream",
     "text": [
      "104.46623311655829\n",
      "5997\n",
      "16.054123830415808\n"
     ]
    }
   ],
   "source": [
    "# BOS\n",
    "# rata2\n",
    "# jumlah data\n",
    "# std dev\n",
    "\n",
    "print(df_bos_pts.mean())\n",
    "print(len(df_bos_pts))\n",
    "print(df_bos_pts.std())"
   ]
  },
  {
   "cell_type": "code",
   "execution_count": 26,
   "metadata": {},
   "outputs": [
    {
     "name": "stdout",
     "output_type": "stream",
     "text": [
      "108.15576998818432\n",
      "5078\n",
      "13.829997013734864\n"
     ]
    }
   ],
   "source": [
    "# LAL\n",
    "# rata2\n",
    "# jumlah data\n",
    "# std dev\n",
    "\n",
    "print(df_lal_pts.mean())\n",
    "print(len(df_lal_pts))\n",
    "print(df_lal_pts.std())"
   ]
  },
  {
   "cell_type": "code",
   "execution_count": 29,
   "metadata": {},
   "outputs": [
    {
     "name": "stdout",
     "output_type": "stream",
     "text": [
      "1.0617188006764025e-37\n",
      "REJECT null hypothesis, ada perbedaan signifikan antara rata rata skor tim BOS dan LAL\n"
     ]
    }
   ],
   "source": [
    "zstat, pvalue = sm.stats.ztest(df_bos_pts, df_lal_pts, alternative=\"two-sided\")\n",
    "print(pvalue)\n",
    "\n",
    "# pilih error rate nya, biasanya di 5% yaitu 0.05. alpha nya 0.05\n",
    "alpha = 0.05\n",
    "\n",
    "if (pvalue < alpha):\n",
    "    print(\"REJECT null hypothesis, ada perbedaan signifikan antara rata rata skor tim BOS dan LAL\")\n",
    "else:\n",
    "    print(\"FAIL to REJECT null hypothesis, tidak ada konklusi\")"
   ]
  },
  {
   "cell_type": "code",
   "execution_count": null,
   "metadata": {},
   "outputs": [],
   "source": []
  }
 ],
 "metadata": {
  "interpreter": {
   "hash": "4f523f7c76dd18e7ed336217f32f6f704c23c323644912475b9d3570cf04b060"
  },
  "kernelspec": {
   "display_name": "Python 3.9.7 ('base')",
   "language": "python",
   "name": "python3"
  },
  "language_info": {
   "codemirror_mode": {
    "name": "ipython",
    "version": 3
   },
   "file_extension": ".py",
   "mimetype": "text/x-python",
   "name": "python",
   "nbconvert_exporter": "python",
   "pygments_lexer": "ipython3",
   "version": "3.9.7"
  },
  "orig_nbformat": 4
 },
 "nbformat": 4,
 "nbformat_minor": 2
}
