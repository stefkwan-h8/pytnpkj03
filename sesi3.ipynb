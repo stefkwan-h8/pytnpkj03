{
 "cells": [
  {
   "cell_type": "code",
   "execution_count": 1,
   "metadata": {},
   "outputs": [],
   "source": [
    "# Numpy"
   ]
  },
  {
   "cell_type": "code",
   "execution_count": 2,
   "metadata": {},
   "outputs": [],
   "source": [
    "import numpy as np"
   ]
  },
  {
   "cell_type": "code",
   "execution_count": 3,
   "metadata": {},
   "outputs": [],
   "source": [
    "# Tipe Data\n",
    "# Numpy Array\n",
    "\n",
    "# mirip list, tapi dia bisa handle data tipe numerik\n",
    "# isinya data tipe numerik saja\n",
    "\n",
    "# CRUD - create read update delete"
   ]
  },
  {
   "cell_type": "code",
   "execution_count": 6,
   "metadata": {},
   "outputs": [
    {
     "name": "stdout",
     "output_type": "stream",
     "text": [
      "[83, 31, 47, 57, 60]\n",
      "[83 31 47 57 60]\n",
      "<class 'numpy.ndarray'>\n"
     ]
    }
   ],
   "source": [
    "# create\n",
    "# np.array()\n",
    "\n",
    "# contoh data 1 dimensi, dalam list/array langsung angka nya\n",
    "nilai = [83,31,47,57,60]\n",
    "print(nilai)\n",
    "\n",
    "arr = np.array(nilai)\n",
    "print(arr)\n",
    "print(type(arr))"
   ]
  },
  {
   "cell_type": "code",
   "execution_count": 10,
   "metadata": {},
   "outputs": [
    {
     "data": {
      "text/plain": [
       "[83, 31, 47, 57, 60]"
      ]
     },
     "execution_count": 10,
     "metadata": {},
     "output_type": "execute_result"
    }
   ],
   "source": [
    "nilai"
   ]
  },
  {
   "cell_type": "code",
   "execution_count": 7,
   "metadata": {},
   "outputs": [
    {
     "data": {
      "text/plain": [
       "array([83, 31, 47, 57, 60])"
      ]
     },
     "execution_count": 7,
     "metadata": {},
     "output_type": "execute_result"
    }
   ],
   "source": [
    "arr"
   ]
  },
  {
   "cell_type": "code",
   "execution_count": 11,
   "metadata": {},
   "outputs": [
    {
     "name": "stdout",
     "output_type": "stream",
     "text": [
      "[[83, 31, 47, 57, 60], [45, 35, 78, 89, 45], [56, 78, 89, 45, 21]]\n",
      "[[83 31 47 57 60]\n",
      " [45 35 78 89 45]\n",
      " [56 78 89 45 21]]\n"
     ]
    }
   ],
   "source": [
    "# contoh data 2 dimensi, dalam list/array ada list/array lagi, baru isinya angka nya\n",
    "nilai = [\n",
    "    [83,31,47,57,60],\n",
    "    [45,35,78,89,45],\n",
    "    [56,78,89,45,21],\n",
    "    ]\n",
    "\n",
    "arr = np.array(nilai)\n",
    "\n",
    "print(nilai)\n",
    "print(arr)"
   ]
  },
  {
   "cell_type": "code",
   "execution_count": 12,
   "metadata": {},
   "outputs": [],
   "source": [
    "# numpy array 2 dimensi isinya angka semua => matrix"
   ]
  },
  {
   "cell_type": "code",
   "execution_count": 19,
   "metadata": {},
   "outputs": [
    {
     "name": "stdout",
     "output_type": "stream",
     "text": [
      "[0. 0. 0. 0. 0. 0. 0. 0. 0. 0.]\n",
      "[1. 1. 1. 1. 1. 1. 1. 1. 1. 1. 1. 1.]\n",
      "[ 0  1  2  3  4  5  6  7  8  9 10 11 12 13 14 15 16 17 18 19]\n",
      "[0.53782529 0.18070257 0.93667861 0.45673946 0.29752862]\n"
     ]
    }
   ],
   "source": [
    "# create\n",
    "# selain np.array() yang bisa convert list isi angka ke bentuk numpy array\n",
    "# ada juga cara lain untuk buat numpy array dari:\n",
    "# isi nya angka 0 semua\n",
    "arr = np.zeros(10)\n",
    "print(arr)\n",
    "\n",
    "# isi nya angka 1 semua\n",
    "arr = np.ones(12)\n",
    "print(arr)\n",
    "\n",
    "# isi nya angka urut\n",
    "arr = np.arange(20)\n",
    "print(arr)\n",
    "\n",
    "# isi nya angka random\n",
    "arr = np.random.random(5)\n",
    "print(arr)"
   ]
  },
  {
   "cell_type": "code",
   "execution_count": 21,
   "metadata": {},
   "outputs": [
    {
     "name": "stdout",
     "output_type": "stream",
     "text": [
      "[ 0  1  2  3  4  5  6  7  8  9 10 11 12 13 14 15 16 17 18 19]\n",
      "[20 21 22 23 24 25 26 27 28 29 30 31 32 33 34 35 36 37 38 39 40 41 42 43\n",
      " 44 45 46 47 48 49]\n",
      "[ 20  55  90 125 160 195]\n"
     ]
    }
   ],
   "source": [
    "# 0,1,2,3,... angka terakhir -1\n",
    "arr = np.arange(20)\n",
    "print(arr)\n",
    "\n",
    "# 20,21,22,... angka terakhir -1\n",
    "arr = np.arange(20, 50)\n",
    "print(arr)\n",
    "\n",
    "# 20, 55, 90, ... maksimal angka terakhir -1\n",
    "arr = np.arange(20, 200, 35)\n",
    "print(arr)"
   ]
  },
  {
   "cell_type": "code",
   "execution_count": 23,
   "metadata": {},
   "outputs": [
    {
     "name": "stdout",
     "output_type": "stream",
     "text": [
      "[ 20  55  90 125 160 195]\n",
      "(6,)\n"
     ]
    }
   ],
   "source": [
    "# read\n",
    "# shape sebuah numpy array\n",
    "\n",
    "print(arr)\n",
    "print(arr.shape)"
   ]
  },
  {
   "cell_type": "code",
   "execution_count": 24,
   "metadata": {},
   "outputs": [
    {
     "name": "stdout",
     "output_type": "stream",
     "text": [
      "[[83 31 47 57 60]\n",
      " [45 35 78 89 45]\n",
      " [56 78 89 45 21]]\n",
      "(3, 5)\n"
     ]
    }
   ],
   "source": [
    "nilai = [\n",
    "    [83,31,47,57,60],\n",
    "    [45,35,78,89,45],\n",
    "    [56,78,89,45,21],\n",
    "    ]\n",
    "\n",
    "arr = np.array(nilai)\n",
    "\n",
    "print(arr)\n",
    "print(arr.shape)"
   ]
  },
  {
   "cell_type": "code",
   "execution_count": 25,
   "metadata": {},
   "outputs": [
    {
     "name": "stdout",
     "output_type": "stream",
     "text": [
      "[[0. 0. 0. 0. 0.]\n",
      " [0. 0. 0. 0. 0.]\n",
      " [0. 0. 0. 0. 0.]]\n",
      "[[1. 1. 1. 1.]\n",
      " [1. 1. 1. 1.]\n",
      " [1. 1. 1. 1.]]\n",
      "[[ 0  1  2  3  4  5  6  7  8  9]\n",
      " [10 11 12 13 14 15 16 17 18 19]]\n",
      "[[0.02970601]\n",
      " [0.34005753]\n",
      " [0.4085912 ]\n",
      " [0.71624415]\n",
      " [0.26297881]]\n"
     ]
    }
   ],
   "source": [
    "# reshape mengubah bentuk\n",
    "\n",
    "# balik ke create sebentar untuk menunjukkan cara membuat np array 2d dari teknik berikut\n",
    "# isi nya angka 0 semua\n",
    "arr = np.zeros((3, 5))\n",
    "print(arr)\n",
    "\n",
    "# isi nya angka 1 semua\n",
    "arr = np.ones((3, 4))\n",
    "print(arr)\n",
    "\n",
    "# isi nya angka urut\n",
    "arr = np.arange(20).reshape((2,10))\n",
    "print(arr)\n",
    "\n",
    "# isi nya angka random\n",
    "arr = np.random.random(5).reshape((5,1))\n",
    "print(arr)"
   ]
  },
  {
   "cell_type": "code",
   "execution_count": 27,
   "metadata": {},
   "outputs": [
    {
     "name": "stdout",
     "output_type": "stream",
     "text": [
      "[[0.02970601]\n",
      " [0.34005753]\n",
      " [0.4085912 ]\n",
      " [0.71624415]\n",
      " [0.26297881]]\n",
      "(5, 1)\n"
     ]
    }
   ],
   "source": [
    "# read\n",
    "# size sebuah numpy array\n",
    "# total angka yang ada di sebuah numpy array, tidak peduli dimensinya\n",
    "print(arr)\n",
    "print(arr.shape)"
   ]
  },
  {
   "cell_type": "code",
   "execution_count": 28,
   "metadata": {},
   "outputs": [
    {
     "name": "stdout",
     "output_type": "stream",
     "text": [
      "5\n"
     ]
    }
   ],
   "source": [
    "\n",
    "print(arr.size)"
   ]
  },
  {
   "cell_type": "code",
   "execution_count": 29,
   "metadata": {},
   "outputs": [
    {
     "name": "stdout",
     "output_type": "stream",
     "text": [
      "[[ 0  1  2  3  4  5  6  7  8  9]\n",
      " [10 11 12 13 14 15 16 17 18 19]]\n",
      "(2, 10)\n",
      "20\n"
     ]
    }
   ],
   "source": [
    "arr = np.arange(20).reshape((2,10))\n",
    "print(arr)\n",
    "print(arr.shape)\n",
    "print(arr.size)"
   ]
  },
  {
   "cell_type": "code",
   "execution_count": 33,
   "metadata": {},
   "outputs": [
    {
     "name": "stdout",
     "output_type": "stream",
     "text": [
      "[  50 3000  900]\n"
     ]
    }
   ],
   "source": [
    "# cara buat numpy array dari: list, 0, 1, random, urut\n",
    "# cara baca numpy array dari: shape, size\n",
    "\n",
    "# update\n",
    "# aritmatika + - * / ** %\n",
    "\n",
    "# jualan kardus\n",
    "panjang = [5, 10, 15]\n",
    "lebar = [2, 30, 12]\n",
    "tinggi = [5, 10, 5]\n",
    "\n",
    "# volume kardusnya berapa?\n",
    "arr_p = np.array(panjang)\n",
    "arr_l = np.array(lebar)\n",
    "arr_t = np.array(tinggi)\n",
    "\n",
    "print(arr_p * arr_l * arr_t)\n"
   ]
  },
  {
   "cell_type": "code",
   "execution_count": 34,
   "metadata": {},
   "outputs": [
    {
     "data": {
      "text/plain": [
       "array([10, 20, 30])"
      ]
     },
     "execution_count": 34,
     "metadata": {},
     "output_type": "execute_result"
    }
   ],
   "source": [
    "# coba membuat numpy array lalu lakukan teknik aritmatika\n",
    "# aritmatik antara 2 numpy array, kedua numpy array tersebut bentuk (shape) harus sama\n",
    "\n",
    "# broadcasting\n",
    "# satu numpy array langsung aritmatik dengan angka\n",
    "arr_p * 2"
   ]
  },
  {
   "cell_type": "code",
   "execution_count": 35,
   "metadata": {},
   "outputs": [
    {
     "data": {
      "text/plain": [
       "[5, 10, 15, 5, 10, 15]"
      ]
     },
     "execution_count": 35,
     "metadata": {},
     "output_type": "execute_result"
    }
   ],
   "source": [
    "panjang * 2"
   ]
  },
  {
   "cell_type": "code",
   "execution_count": 42,
   "metadata": {},
   "outputs": [],
   "source": [
    "arr_n = np.array(nilai)\n",
    "edited_arr = (arr_n * 10 / 3 + 90 - 50) **2"
   ]
  },
  {
   "cell_type": "code",
   "execution_count": 44,
   "metadata": {},
   "outputs": [
    {
     "data": {
      "text/plain": [
       "array([[10,  2,  3,  5,  5],\n",
       "       [ 3,  2,  9, 11,  3],\n",
       "       [ 5,  9, 11,  3,  1]])"
      ]
     },
     "execution_count": 44,
     "metadata": {},
     "output_type": "execute_result"
    }
   ],
   "source": [
    "# convert ke integer\n",
    "(edited_arr / 10000).astype(int)"
   ]
  },
  {
   "cell_type": "code",
   "execution_count": 45,
   "metadata": {},
   "outputs": [
    {
     "name": "stdout",
     "output_type": "stream",
     "text": [
      "[11500. 17250. 23000.]\n"
     ]
    }
   ],
   "source": [
    "arr_harga = np.array([10000,15000,20000])\n",
    "\n",
    "# harga naik 15%\n",
    "\n",
    "arr_harga =  arr_harga * 1.15\n",
    "print(arr_harga)"
   ]
  },
  {
   "cell_type": "code",
   "execution_count": 49,
   "metadata": {},
   "outputs": [
    {
     "name": "stdout",
     "output_type": "stream",
     "text": [
      "[[7500 8500 8000]]\n"
     ]
    }
   ],
   "source": [
    "# Matrix\n",
    "# numpy array 2 dimensi\n",
    "# isi angka semua\n",
    "# jumlah data di setiap baris sama\n",
    "\n",
    "arr_harga = np.array([\n",
    "    [7500,8500,8000],\n",
    "])\n",
    "\n",
    "print(arr_harga)"
   ]
  },
  {
   "cell_type": "code",
   "execution_count": 50,
   "metadata": {},
   "outputs": [
    {
     "name": "stdout",
     "output_type": "stream",
     "text": [
      "[[ 12  10   9  20  50]\n",
      " [  1   3   5   1  10]\n",
      " [ 32  54  12  70 100]]\n"
     ]
    }
   ],
   "source": [
    "arr_penjualan = np.array([\n",
    "    [12,10,9,20,50],\n",
    "    [1,3,5,1,10],\n",
    "    [32,54,12,70,100],\n",
    "])\n",
    "print(arr_penjualan)"
   ]
  },
  {
   "cell_type": "code",
   "execution_count": 51,
   "metadata": {},
   "outputs": [
    {
     "data": {
      "text/plain": [
       "array([[ 354500,  532500,  206000,  718500, 1260000]])"
      ]
     },
     "execution_count": 51,
     "metadata": {},
     "output_type": "execute_result"
    }
   ],
   "source": [
    "# dot product\n",
    "# 1 baris data matrix pertama dikalikan 1 kolom data matrix kedua\n",
    "\n",
    "arr_harga.dot(arr_penjualan)"
   ]
  },
  {
   "cell_type": "code",
   "execution_count": 52,
   "metadata": {},
   "outputs": [
    {
     "name": "stdout",
     "output_type": "stream",
     "text": [
      "[[ 12  10   9  20  50]\n",
      " [  1   3   5   1  10]\n",
      " [ 32  54  12  70 100]]\n"
     ]
    }
   ],
   "source": [
    "# selain aritmatik, numpy array juga bisa merangkum data\n",
    "# rata2 (mean)\n",
    "# median\n",
    "# total (sum)\n",
    "# max, min\n",
    "# std dev, dan angka2 statistik lainnya\n",
    "\n",
    "# mean, sum, max, min\n",
    "print(arr_penjualan)"
   ]
  },
  {
   "cell_type": "code",
   "execution_count": 53,
   "metadata": {},
   "outputs": [
    {
     "name": "stdout",
     "output_type": "stream",
     "text": [
      "25.933333333333334\n"
     ]
    }
   ],
   "source": [
    "# rata2 penjualan\n",
    "print(arr_penjualan.mean())"
   ]
  },
  {
   "cell_type": "code",
   "execution_count": 56,
   "metadata": {},
   "outputs": [
    {
     "name": "stdout",
     "output_type": "stream",
     "text": [
      "[ 45  67  26  91 160]\n"
     ]
    }
   ],
   "source": [
    "#jumlah penjualan per hari\n",
    "print(arr_penjualan.sum(axis=0))\n",
    "\n",
    "# menambahkan item item di dimensi pertama, axis 0\n",
    "# untuk numpy array 2 dimensi berarti kita jumlahkan baris 1 + baris 2 + baris 3 + ... sampai habis"
   ]
  },
  {
   "cell_type": "code",
   "execution_count": null,
   "metadata": {},
   "outputs": [],
   "source": [
    "# [ 12  10   9  20  50] + [  1   3   5   1  10] + [ 32  54  12  70 100]"
   ]
  },
  {
   "cell_type": "code",
   "execution_count": 57,
   "metadata": {},
   "outputs": [
    {
     "name": "stdout",
     "output_type": "stream",
     "text": [
      "[101  20 268]\n"
     ]
    }
   ],
   "source": [
    "#jumlah penjualan per rasa\n",
    "print(arr_penjualan.sum(axis=1))\n",
    "\n",
    "# menambahkan item item di dimensi kedua, axis 1\n",
    "# untuk numpy array 2 dimensi berarti kita jumlahkan kolom 1 + kolom 2 + kolom 3 + ... sampai habis"
   ]
  },
  {
   "cell_type": "code",
   "execution_count": 59,
   "metadata": {},
   "outputs": [
    {
     "name": "stdout",
     "output_type": "stream",
     "text": [
      "[ 50  10 100]\n",
      "[ 9  1 12]\n"
     ]
    }
   ],
   "source": [
    "#max penjualan 1 hari per rasa\n",
    "print(arr_penjualan.max(axis=1))\n",
    "\n",
    "#min penjualan 1 hari per rasa\n",
    "print(arr_penjualan.min(axis=1))"
   ]
  },
  {
   "cell_type": "code",
   "execution_count": 60,
   "metadata": {},
   "outputs": [
    {
     "name": "stdout",
     "output_type": "stream",
     "text": [
      "[[ 12  10   9  20  50]\n",
      " [  1   3   5   1  10]\n",
      " [ 32  54  12  70 100]]\n"
     ]
    }
   ],
   "source": [
    "# indexing dan slicing\n",
    "# mengambil 1 angka atau bbrp angka dari sebuah numpy array\n",
    "print(arr_penjualan)"
   ]
  },
  {
   "cell_type": "code",
   "execution_count": 64,
   "metadata": {},
   "outputs": [
    {
     "name": "stdout",
     "output_type": "stream",
     "text": [
      "12\n"
     ]
    }
   ],
   "source": [
    "# berapa penjualan roti kaya di hari rabu?\n",
    "print(arr_penjualan[2, 2])"
   ]
  },
  {
   "cell_type": "code",
   "execution_count": 61,
   "metadata": {},
   "outputs": [
    {
     "data": {
      "text/plain": [
       "array([12, 10,  9, 20, 50])"
      ]
     },
     "execution_count": 61,
     "metadata": {},
     "output_type": "execute_result"
    }
   ],
   "source": [
    "# ambil data rasa coklat saja\n",
    "arr_penjualan[0, :]"
   ]
  },
  {
   "cell_type": "code",
   "execution_count": 62,
   "metadata": {},
   "outputs": [
    {
     "data": {
      "text/plain": [
       "array([[12, 10,  9, 20, 50],\n",
       "       [ 1,  3,  5,  1, 10]])"
      ]
     },
     "execution_count": 62,
     "metadata": {},
     "output_type": "execute_result"
    }
   ],
   "source": [
    "# ambil data rasa coklat dan keju saja\n",
    "arr_penjualan[0:2, :]"
   ]
  },
  {
   "cell_type": "code",
   "execution_count": 63,
   "metadata": {},
   "outputs": [
    {
     "data": {
      "text/plain": [
       "array([50, 10])"
      ]
     },
     "execution_count": 63,
     "metadata": {},
     "output_type": "execute_result"
    }
   ],
   "source": [
    "# ambil data rasa coklat dan keju saja\n",
    "arr_penjualan[0:2, -1]"
   ]
  },
  {
   "cell_type": "code",
   "execution_count": 65,
   "metadata": {},
   "outputs": [],
   "source": [
    "# cobain indexing dan slicing untuk numpy array 2 dimensi\n"
   ]
  },
  {
   "cell_type": "code",
   "execution_count": 66,
   "metadata": {},
   "outputs": [
    {
     "name": "stdout",
     "output_type": "stream",
     "text": [
      "[[ 12  10   9  20  50]\n",
      " [  1   3   5   1  10]\n",
      " [ 32  54  12  70 100]]\n"
     ]
    }
   ],
   "source": [
    "# sort data di numpy array\n",
    "print(arr_penjualan)"
   ]
  },
  {
   "cell_type": "code",
   "execution_count": 69,
   "metadata": {},
   "outputs": [
    {
     "name": "stdout",
     "output_type": "stream",
     "text": [
      "[[  1   1   3   5  10]\n",
      " [  9  10  12  20  50]\n",
      " [ 12  32  54  70 100]]\n"
     ]
    }
   ],
   "source": [
    "print(np.sort(arr_penjualan))"
   ]
  },
  {
   "cell_type": "code",
   "execution_count": 76,
   "metadata": {},
   "outputs": [
    {
     "name": "stdout",
     "output_type": "stream",
     "text": [
      "[[ 12  10   9  20  50]\n",
      " [  1   3   5   1  10]\n",
      " [ 32  54  12  70 100]]\n"
     ]
    },
    {
     "data": {
      "text/plain": [
       "array([[ 12,  10,   9],\n",
       "       [ 20,  50,   1],\n",
       "       [  3,   5,   1],\n",
       "       [ 10,  32,  54],\n",
       "       [ 12,  70, 100]])"
      ]
     },
     "execution_count": 76,
     "metadata": {},
     "output_type": "execute_result"
    }
   ],
   "source": [
    "# shape dan reshape\n",
    "arr_penjualan = np.array([\n",
    "    [12,10,9,20,50],\n",
    "    [1,3,5,1,10],\n",
    "    [32,54,12,70,100],\n",
    "])\n",
    "\n",
    "print(arr_penjualan)\n",
    "\n",
    "arr_penjualan.reshape((5,3))"
   ]
  },
  {
   "cell_type": "code",
   "execution_count": 77,
   "metadata": {},
   "outputs": [
    {
     "data": {
      "text/plain": [
       "array([ 12,  10,   9,  20,  50,   1,   3,   5,   1,  10,  32,  54,  12,\n",
       "        70, 100])"
      ]
     },
     "execution_count": 77,
     "metadata": {},
     "output_type": "execute_result"
    }
   ],
   "source": [
    "arr_penjualan.reshape((15,))"
   ]
  },
  {
   "cell_type": "code",
   "execution_count": 78,
   "metadata": {},
   "outputs": [
    {
     "data": {
      "text/plain": [
       "array([[ 12,  10,   9,  20,  50,   1,   3,   5,   1,  10,  32,  54,  12,\n",
       "         70, 100]])"
      ]
     },
     "execution_count": 78,
     "metadata": {},
     "output_type": "execute_result"
    }
   ],
   "source": [
    "arr_penjualan.reshape((1,15))"
   ]
  },
  {
   "cell_type": "code",
   "execution_count": 79,
   "metadata": {},
   "outputs": [
    {
     "data": {
      "text/plain": [
       "array([[ 12],\n",
       "       [ 10],\n",
       "       [  9],\n",
       "       [ 20],\n",
       "       [ 50],\n",
       "       [  1],\n",
       "       [  3],\n",
       "       [  5],\n",
       "       [  1],\n",
       "       [ 10],\n",
       "       [ 32],\n",
       "       [ 54],\n",
       "       [ 12],\n",
       "       [ 70],\n",
       "       [100]])"
      ]
     },
     "execution_count": 79,
     "metadata": {},
     "output_type": "execute_result"
    }
   ],
   "source": [
    "arr_penjualan.reshape((15,1))"
   ]
  },
  {
   "cell_type": "code",
   "execution_count": 74,
   "metadata": {},
   "outputs": [],
   "source": [
    "# reshape menghilangkan hubungan antara baris dan kolom\n",
    "# data penjualan kita aslinya baris pertama untuk rasa coklat\n",
    "# kolom pertama untuk hari senin\n",
    "# kalau di reshape, datanya bercampur\n",
    "\n",
    "# misalnya mau tetap reshape bentuknya\n",
    "# tapi yang tadinya teman sebaris jadi teman sekolom\n",
    "# kita pakai transpose T"
   ]
  },
  {
   "cell_type": "code",
   "execution_count": 75,
   "metadata": {},
   "outputs": [
    {
     "data": {
      "text/plain": [
       "array([[ 12,   1,  32],\n",
       "       [ 10,   3,  54],\n",
       "       [  9,   5,  12],\n",
       "       [ 20,   1,  70],\n",
       "       [ 50,  10, 100]])"
      ]
     },
     "execution_count": 75,
     "metadata": {},
     "output_type": "execute_result"
    }
   ],
   "source": [
    "arr_penjualan.T"
   ]
  },
  {
   "cell_type": "code",
   "execution_count": 83,
   "metadata": {},
   "outputs": [
    {
     "name": "stdout",
     "output_type": "stream",
     "text": [
      "[ 12  20  50  32  54  12  70 100]\n"
     ]
    },
    {
     "data": {
      "text/plain": [
       "8"
      ]
     },
     "execution_count": 83,
     "metadata": {},
     "output_type": "execute_result"
    }
   ],
   "source": [
    "# query\n",
    "# kondisi untuk meminta data tertentu\n",
    "\n",
    "# misal untuk arr_penjualan\n",
    "# minta yang data penjualan > 10 roti saja\n",
    "\n",
    "kondisi = arr_penjualan > 10\n",
    "\n",
    "lebih_10 = arr_penjualan[kondisi]\n",
    "print(lebih_10)\n",
    "len(lebih_10)"
   ]
  },
  {
   "cell_type": "code",
   "execution_count": 84,
   "metadata": {},
   "outputs": [
    {
     "data": {
      "text/plain": [
       "array([[ True, False, False,  True,  True],\n",
       "       [False, False, False, False, False],\n",
       "       [ True,  True,  True,  True,  True]])"
      ]
     },
     "execution_count": 84,
     "metadata": {},
     "output_type": "execute_result"
    }
   ],
   "source": [
    "kondisi"
   ]
  },
  {
   "cell_type": "code",
   "execution_count": 85,
   "metadata": {},
   "outputs": [],
   "source": [
    "# teknik query\n",
    "# bikin kondisi, dengan numpy array yang mau di cek\n",
    "# kondisi ini akan menjadi index isi True dan False, jadi kita gunakan sebagai index untuk array kita\n",
    "# hasilnya array 1 dimensi untuk data yang True saja"
   ]
  },
  {
   "cell_type": "code",
   "execution_count": 86,
   "metadata": {},
   "outputs": [
    {
     "data": {
      "text/plain": [
       "array([ 12,  10,  20,  50,  10,  32,  54,  12,  70, 100])"
      ]
     },
     "execution_count": 86,
     "metadata": {},
     "output_type": "execute_result"
    }
   ],
   "source": [
    "# khusus yang penjualan angka genap\n",
    "arr_penjualan[arr_penjualan % 2 == 0]"
   ]
  },
  {
   "cell_type": "code",
   "execution_count": 91,
   "metadata": {},
   "outputs": [
    {
     "data": {
      "text/plain": [
       "array([12, 20, 32, 12])"
      ]
     },
     "execution_count": 91,
     "metadata": {},
     "output_type": "execute_result"
    }
   ],
   "source": [
    "# khusus yang < 50 dan > 10\n",
    "arr_penjualan[(arr_penjualan < 50) & (arr_penjualan > 10)]"
   ]
  },
  {
   "cell_type": "code",
   "execution_count": 102,
   "metadata": {},
   "outputs": [
    {
     "data": {
      "text/plain": [
       "array([100,   9,   1,   3,   5,   1,  54,  70, 100])"
      ]
     },
     "execution_count": 102,
     "metadata": {},
     "output_type": "execute_result"
    }
   ],
   "source": [
    "# khusus yang < 10 atau diatas 50\n",
    "arr_penjualan[(arr_penjualan < 10) | (arr_penjualan > 50)]"
   ]
  },
  {
   "cell_type": "code",
   "execution_count": 92,
   "metadata": {},
   "outputs": [
    {
     "data": {
      "text/plain": [
       "array([12, 20, 32, 12])"
      ]
     },
     "execution_count": 92,
     "metadata": {},
     "output_type": "execute_result"
    }
   ],
   "source": [
    "k1 = (arr_penjualan < 50)\n",
    "k2 = (arr_penjualan > 10)\n",
    "\n",
    "arr_penjualan[ k1 & k2 ]"
   ]
  },
  {
   "cell_type": "code",
   "execution_count": 93,
   "metadata": {},
   "outputs": [
    {
     "name": "stdout",
     "output_type": "stream",
     "text": [
      "[[100  10   9  20  50]\n",
      " [  1   3   5   1  10]\n",
      " [ 32  54  12  70 100]]\n"
     ]
    }
   ],
   "source": [
    "copy = arr_penjualan\n",
    "\n",
    "copy[0,0] = 100\n",
    "print(copy)"
   ]
  },
  {
   "cell_type": "code",
   "execution_count": 94,
   "metadata": {},
   "outputs": [
    {
     "name": "stdout",
     "output_type": "stream",
     "text": [
      "[[100  10   9  20  50]\n",
      " [  1   3   5   1  10]\n",
      " [ 32  54  12  70 100]]\n"
     ]
    }
   ],
   "source": [
    "print(arr_penjualan)"
   ]
  },
  {
   "cell_type": "code",
   "execution_count": 95,
   "metadata": {},
   "outputs": [
    {
     "name": "stdout",
     "output_type": "stream",
     "text": [
      "[[  0  10   9  20  50]\n",
      " [  1   3   5   1  10]\n",
      " [ 32  54  12  70 100]]\n"
     ]
    }
   ],
   "source": [
    "# dua nama untuk 1 data yang sama\n",
    "\n",
    "# untuk bikin duplikat datanya, gunakan .copy()\n",
    "\n",
    "copy = arr_penjualan.copy()\n",
    "\n",
    "copy[0,0] = 0\n",
    "print(copy)"
   ]
  },
  {
   "cell_type": "code",
   "execution_count": 96,
   "metadata": {},
   "outputs": [
    {
     "name": "stdout",
     "output_type": "stream",
     "text": [
      "[[100  10   9  20  50]\n",
      " [  1   3   5   1  10]\n",
      " [ 32  54  12  70 100]]\n"
     ]
    }
   ],
   "source": [
    "print(arr_penjualan)"
   ]
  },
  {
   "cell_type": "code",
   "execution_count": 104,
   "metadata": {},
   "outputs": [
    {
     "name": "stdout",
     "output_type": "stream",
     "text": [
      "[ 7  7  8 10  7  6 10  6  6  5 10 12  9 12  9  9  7  6  2  5  5  3  5  5\n",
      "  6  9  7  5  9 12  8 11  7 11  5  4 11  8  9 10  3  9  6  7  7  4  6  3\n",
      "  8  9  9  8  3  4  5  5  8  8  9 11 10  6  7  4  8  6  4  3  2 11  7  5\n",
      " 10  9 10  8 10  4  5  7  6  8 10  5  6  5  8  4 11 11 10  5  7  3  9  9\n",
      "  5 10 10  6]\n"
     ]
    }
   ],
   "source": [
    "# buat dummy data untuk hasil lempar dua dadu enam sisi\n",
    "dadu1 = (np.random.random(100) * 6 + 1).astype(int)\n",
    "dadu2 = (np.random.random(100) * 6 + 1).astype(int)\n",
    "\n",
    "hasil_dadu = dadu1 + dadu2\n",
    "print(hasil_dadu)"
   ]
  },
  {
   "cell_type": "code",
   "execution_count": 105,
   "metadata": {},
   "outputs": [
    {
     "name": "stdout",
     "output_type": "stream",
     "text": [
      "10\n",
      "46\n",
      "[6 6 6 5 6 2 5 5 3 5 5 6 5 5 4 3 6 4 6 3 3 4 5 5 6 4 6 4 3 2 5 4 5 6 5 6 5\n",
      " 4 5 3 5 6]\n",
      "[12 12  2 12  2]\n"
     ]
    }
   ],
   "source": [
    "# ada berapa kali hasil lempar dadunya lebih dari 10?\n",
    "kondisi = hasil_dadu > 10\n",
    "print(len(hasil_dadu[kondisi]))\n",
    "\n",
    "# ada berapa kali hasil lempar dadunya lebih dari 7?\n",
    "kondisi = hasil_dadu > 7\n",
    "print(len(hasil_dadu[kondisi]))\n",
    "\n",
    "# kumpulkan hasil lempar dadu yang ada di antara 1-6\n",
    "kondisi1 = hasil_dadu >= 1\n",
    "kondisi2 = hasil_dadu <= 6\n",
    "print(hasil_dadu[kondisi1 & kondisi2])\n",
    "\n",
    "# kumpulkan hasil lempar dadu yang nilainya 2 dan 12\n",
    "kondisi1 = hasil_dadu == 2\n",
    "kondisi2 = hasil_dadu == 12\n",
    "print(hasil_dadu[kondisi1 | kondisi2])"
   ]
  },
  {
   "cell_type": "code",
   "execution_count": 109,
   "metadata": {},
   "outputs": [
    {
     "data": {
      "text/plain": [
       "array([2, 3])"
      ]
     },
     "execution_count": 109,
     "metadata": {},
     "output_type": "execute_result"
    }
   ],
   "source": [
    "n = np.array([1,2,3])\n",
    "n[n > 1]"
   ]
  },
  {
   "cell_type": "code",
   "execution_count": null,
   "metadata": {},
   "outputs": [],
   "source": []
  }
 ],
 "metadata": {
  "interpreter": {
   "hash": "4f523f7c76dd18e7ed336217f32f6f704c23c323644912475b9d3570cf04b060"
  },
  "kernelspec": {
   "display_name": "Python 3.9.7 ('base')",
   "language": "python",
   "name": "python3"
  },
  "language_info": {
   "codemirror_mode": {
    "name": "ipython",
    "version": 3
   },
   "file_extension": ".py",
   "mimetype": "text/x-python",
   "name": "python",
   "nbconvert_exporter": "python",
   "pygments_lexer": "ipython3",
   "version": "3.9.7"
  },
  "orig_nbformat": 4
 },
 "nbformat": 4,
 "nbformat_minor": 2
}
