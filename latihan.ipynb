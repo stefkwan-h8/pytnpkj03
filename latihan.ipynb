{
 "cells": [
  {
   "cell_type": "code",
   "execution_count": 1,
   "metadata": {},
   "outputs": [],
   "source": [
    "# percabangan\n",
    "\n",
    "# input?\n",
    "\n",
    "# proses nya harus sedetil dan sekecil mungkin sampai bisa dilakukan oleh program\n",
    "# tipe data yang dimengerti program\n",
    "# percabangan, perulangan, variable, sampai bisa diselesaikan masalahnya\n",
    "\n",
    "# output?\n",
    "\n",
    "\n",
    "\n",
    "# contoh\n",
    "\n",
    "# input: lemari isi baju, kita mau cari ada nggak dress hitam kita?\n",
    "# lemari isi baju => list isi string\n",
    "# dress hitam => string\n",
    "\n",
    "# percabangan if ada \"dress hitam\" di dalam [list lemari isi baju]\n",
    "#   print \"ada\"\n",
    "# else\n",
    "#   print \"tidak ada\"\n",
    "\n",
    "# output: ada/nggak baju dress hitam di lemari\n",
    "# ada/nggak => boolean"
   ]
  },
  {
   "cell_type": "code",
   "execution_count": 13,
   "metadata": {},
   "outputs": [],
   "source": [
    "lemari = [\"celana panjang biru\", \"dress merah\", \"kemeja putih\",\n",
    "          \"celana pendek hitam\", \"kemeja merah\", \"kaos putih\",\n",
    "          \"dress hitam\", \"kaos merah\", \"celana pendek putih\",\n",
    "          ]\n"
   ]
  },
  {
   "cell_type": "code",
   "execution_count": 9,
   "metadata": {},
   "outputs": [
    {
     "name": "stdout",
     "output_type": "stream",
     "text": [
      "ada\n"
     ]
    }
   ],
   "source": [
    "if (\"dress hitam\" in lemari):\n",
    "    print(\"ada\")\n",
    "else:\n",
    "    print(\"tidak ada\")"
   ]
  },
  {
   "cell_type": "code",
   "execution_count": 4,
   "metadata": {},
   "outputs": [],
   "source": [
    "# persoalan bertambah, mau cari asal ada dress\n",
    "# dress apa saja yang ada di dalam lemaru\n",
    "\n",
    "# input: list isi string, lemari isi string baju\n",
    "\n",
    "# untuk setiap baju di dalam lemari => perulangan\n",
    "#   cek apakah sebuah dress => percabangan\n",
    "#       kalau dress, kita masukkan ke dalam list koleksi dress kita\n",
    "#   else\n",
    "#       tidak ngapa ngapain\n",
    "\n",
    "# output: list isi string, koleksi dress, bisa kosong kalau tidak ada dress, bisa lebih dari 1 dress"
   ]
  },
  {
   "cell_type": "code",
   "execution_count": 10,
   "metadata": {},
   "outputs": [
    {
     "name": "stdout",
     "output_type": "stream",
     "text": [
      "['dress merah', 'dress hitam']\n"
     ]
    }
   ],
   "source": [
    "dresses = []\n",
    "\n",
    "for baju in lemari:\n",
    "    if (\"dress\" in baju.lower()):\n",
    "        dresses.append(baju)\n",
    "    else:\n",
    "        pass\n",
    "\n",
    "print(dresses)"
   ]
  },
  {
   "cell_type": "code",
   "execution_count": 19,
   "metadata": {},
   "outputs": [
    {
     "name": "stdout",
     "output_type": "stream",
     "text": [
      "['celana pendek hitam', 'celana pendek putih']\n"
     ]
    }
   ],
   "source": [
    "# kita bisa ganti hal yang kita cari juga, tidak harus \"dress\"\n",
    "yang_dicari = \"celana pendek\"\n",
    "\n",
    "koleksi = []\n",
    "\n",
    "for baju in lemari:\n",
    "    if (yang_dicari in baju.lower()):\n",
    "        koleksi.append(baju)\n",
    "    else:\n",
    "        pass\n",
    "\n",
    "print(koleksi)"
   ]
  },
  {
   "cell_type": "code",
   "execution_count": 20,
   "metadata": {},
   "outputs": [],
   "source": [
    "# bisa dijadikan function untuk mencari baju\n",
    "# yang_dicari bisa berubah ubah => parameter/argumen/variable spesial milik function"
   ]
  },
  {
   "cell_type": "code",
   "execution_count": 24,
   "metadata": {},
   "outputs": [],
   "source": [
    "def cariBaju(yang_dicari):\n",
    "    koleksi = []\n",
    "\n",
    "    for baju in lemari:\n",
    "        if (yang_dicari in baju.lower()):\n",
    "            koleksi.append(baju)\n",
    "        else:\n",
    "            pass\n",
    "\n",
    "    # print(koleksi)\n",
    "    return koleksi"
   ]
  },
  {
   "cell_type": "code",
   "execution_count": 25,
   "metadata": {},
   "outputs": [],
   "source": [
    "hasil_hitam = cariBaju(\"hitam\")"
   ]
  },
  {
   "cell_type": "code",
   "execution_count": 26,
   "metadata": {},
   "outputs": [
    {
     "name": "stdout",
     "output_type": "stream",
     "text": [
      "['celana pendek hitam', 'dress hitam']\n"
     ]
    }
   ],
   "source": [
    "\n",
    "print(hasil_hitam)"
   ]
  },
  {
   "cell_type": "code",
   "execution_count": 28,
   "metadata": {},
   "outputs": [],
   "source": [
    "# latihan\n",
    "# buat function\n",
    "\n",
    "# banyak mobil yang lewat di daerah gatot subroto\n",
    "# hari ini, hanya boleh mobil dengan plat genap yang ada di jalan tersebut\n",
    "\n",
    "# input = banyak plat mobil = list isi integer nomor plat mobil\n",
    "\n",
    "\n",
    "# proses mobil yang melanggar\n",
    "# buat list koleksi_melanggar\n",
    "# untuk setiap nomor plat mobil => perulangan\n",
    "#   cek apakah plat nya genap => percabangan\n",
    "#       kalau genap, tidak melanggar\n",
    "#   else\n",
    "#       kalau ganjil, melanggar\n",
    "#       integer total mobil yang melanggar bertambah satu\n",
    "#       append nomor plat mobil ini ke koleksi_melanggar\n",
    "\n",
    "\n",
    "\n",
    "# ada berapa mobil yang melanggar?\n",
    "# coba print semua plat mobil yang melanggar tersebut\n",
    "\n",
    "# output = berpa mobil = integer total mobil yang melanggar\n",
    "#        = semua plat mobil yang melanggar = list isi integer plat mobil\n"
   ]
  },
  {
   "cell_type": "code",
   "execution_count": 30,
   "metadata": {},
   "outputs": [
    {
     "name": "stdout",
     "output_type": "stream",
     "text": [
      "total ada 2 mobil yang melanggar\n",
      "[235, 897]\n"
     ]
    }
   ],
   "source": [
    "plat_mobil = [12,9810,6578,4568,4512,235,4578,5430, 897]\n",
    "\n",
    "melanggar = []\n",
    "counter_melanggar = 0\n",
    "\n",
    "for plat in plat_mobil:\n",
    "    if (plat % 2 == 0):\n",
    "        pass\n",
    "    else:\n",
    "        counter_melanggar += 1\n",
    "        melanggar.append(plat)\n",
    "\n",
    "print(\"total ada\", counter_melanggar, \"mobil yang melanggar\")\n",
    "print(melanggar)\n"
   ]
  },
  {
   "cell_type": "code",
   "execution_count": null,
   "metadata": {},
   "outputs": [],
   "source": []
  }
 ],
 "metadata": {
  "interpreter": {
   "hash": "4f523f7c76dd18e7ed336217f32f6f704c23c323644912475b9d3570cf04b060"
  },
  "kernelspec": {
   "display_name": "Python 3.9.7 ('base')",
   "language": "python",
   "name": "python3"
  },
  "language_info": {
   "codemirror_mode": {
    "name": "ipython",
    "version": 3
   },
   "file_extension": ".py",
   "mimetype": "text/x-python",
   "name": "python",
   "nbconvert_exporter": "python",
   "pygments_lexer": "ipython3",
   "version": "3.9.7"
  },
  "orig_nbformat": 4
 },
 "nbformat": 4,
 "nbformat_minor": 2
}
