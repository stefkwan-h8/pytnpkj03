{
 "cells": [
  {
   "cell_type": "markdown",
   "metadata": {},
   "source": [
    "# Descriptive Statistics\n",
    "Deskriptif - kita mau merangkum data dengan angka statistik\n",
    "\n",
    "## population vs sample\n",
    "### population adalah keseluruhan data yang berkaitan denga yang kita cari\n",
    "misalkan kita mau cari tau berapa rata rata berat badan orang Indonesia, berarti, population\n",
    "adalah seluruh orang Indonesia, bayi sampe kakek, Jakarta, sabang, sorong, luar negri, wanita dan pria,\n",
    "dan semua semuanya asalkan orang Indonesia. kalau kita dapat seluruh data ini, barulah dinamakan kita punya\n",
    "data populasi Indonesia.\n",
    "\n",
    "### sample\n",
    "sample adalah sebagian dari populasi. contoh sample untuk orang Indonesia, kita ambil beberapa orang saja\n",
    "dari setiap kategori yang ada, misalakan: setiap umur 5 orang, setiap gender 5 orang, setiap lokasi2 propinsi berbeda 5 orang, total total ada 500 orang maka ini adalah sample data orang Indonesia.\n",
    "   \n",
    "kalau tidak diambil dari setiap kategori, data kita kurang tepat, data kita jadinya bukan orang Indonesia, tapi jadi\n",
    "data lain, misalkan hanya data \"wanita Indonesia di kampus untar di Jakarta\" kalau data cuman kita survey dari kampus\n",
    "untar dan cuma wanita saja.\n",
    "\n",
    "* sebagai data scientist, saat diberikan data, atau statement tentang data, kita bisa bertanya datanya darimana,\n",
    "population, atau sample\n",
    "\n",
    "## outlier\n",
    "data yang berbeda sendiri, jauh bedanya dari data yang lain\n",
    "- natural\n",
    "- salah input\n",
    "- karena sendang kita observasi, sistem jadi berubah\n",
    "\n",
    "## central tendency\n",
    "seberapa ke \"tengah\" datanya, \"tengah\" datanya dimana sih?\n",
    "- rata-rata (mean)\n",
    "- median\n",
    "    - angka tengah\n",
    "    - dari data kita, yang bersifat numerik\n",
    "    - urutkan dari kecil ke besar\n",
    "    - lihat angka yang ada di tengah itu berapa\n",
    "    - kalau angka tengah ada dua, maka kita jumlahkan dan bagi dua untuk dapat median\n",
    "    - kalau angka tengah ada satu, maka itu angka median\n",
    "    - dari data kita, 50% data ada di atas median, 50% data ada di bawah median\n",
    "    - rumah di Jakarta mediannya 500juta, 50% rumah di Jakarta harganya diatas 500jt, dan 50% di bawah 500jt\n",
    "- mode\n",
    "    - angka yang paling sering muncul\n",
    "    - contoh misal data nilai kelas [1,1,2,2,2,2,2,5,5,7,10]\n",
    "    - mode adalah 2\n",
    "\n",
    "## spread\n",
    "seberapa tersebar datanya dari tengah\n",
    "- standard deviation\n",
    "    - variance = stddev ** 2\n",
    "    - variance dihitung dengan menjumlahkan perbedaan jarak antara setiap titik data dengan rata-rata keseluruhan data. misalkan ada 100 orang yang kita timbang berat badannya untuk dapat rata-rata di 50kg, maka kita cari perbedaan berat badan orang pertama dengan 50kg + orang kedua dengan 50kg + orang ketiga dengan 50kg .... + orang ke-100 dengan 50kg\n",
    "    - gimana kalau orangnya 40kg, berarti perbedaannya -10kg --> di kuadrat jadi 100\n",
    "    - gimana kalau orangnya 60kg, berarti perbedaannya +10kg --> di kuadrat jadi 100\n",
    "    - total perbedaan kedua orang ini jadi 0 dong..? kita jadi tidak bisa dapat total perbedaan antara setiap orang dengan rata2... jadi para matematik yang membuat formula ini menentukan baiknya perbedaannya semua di kuadrat saja, jadi semuanya angka positif. sudah ditambah semua baru kita akar lagi.\n",
    "    - std dev dihitung dengan mengkar variance\n",
    "- range (perbedaan angka max dan min)\n",
    "- quartile dan percentile\n",
    "    - quartile 1 2 3 adalah percentile ke 25,50,75\n",
    "    - quartile 2 = percentile 50 = median\n",
    "    - misalkan data harga rumah jakarta Q1 250jt, Q2 500jt, Q3 20milyar\n",
    "\n",
    "## correlation\n",
    "dua set data ini apakah ada hubungannya?\n",
    "- kalau ada, apakah positif, negatif?\n",
    "- dihitung menggunakan correlation coefficient r\n",
    "- r nilai nya ada di antara -1 dan 1 \n",
    "- r = 0 artinya tidak ada korelasi antara dua set data ini\n",
    "- r = 1 artinya ada korelasi positif yang kuat antara dua set data ini\n",
    "- r = -1 artinya ada korelasi negatif yang kuat antara dua set data ini\n",
    "\n",
    "semakin r mendekati 0 semakin lemah korelasi antara dua set data"
   ]
  },
  {
   "cell_type": "code",
   "execution_count": 1,
   "metadata": {},
   "outputs": [],
   "source": [
    "import numpy as np\n",
    "import pandas as pd\n",
    "\n",
    "import scipy.stats\n",
    "import math\n",
    "import statistics"
   ]
  },
  {
   "cell_type": "code",
   "execution_count": 2,
   "metadata": {},
   "outputs": [
    {
     "data": {
      "text/html": [
       "<div>\n",
       "<style scoped>\n",
       "    .dataframe tbody tr th:only-of-type {\n",
       "        vertical-align: middle;\n",
       "    }\n",
       "\n",
       "    .dataframe tbody tr th {\n",
       "        vertical-align: top;\n",
       "    }\n",
       "\n",
       "    .dataframe thead th {\n",
       "        text-align: right;\n",
       "    }\n",
       "</style>\n",
       "<table border=\"1\" class=\"dataframe\">\n",
       "  <thead>\n",
       "    <tr style=\"text-align: right;\">\n",
       "      <th>Country</th>\n",
       "      <th>Indonesia</th>\n",
       "    </tr>\n",
       "  </thead>\n",
       "  <tbody>\n",
       "    <tr>\n",
       "      <th>1980</th>\n",
       "      <td>186</td>\n",
       "    </tr>\n",
       "    <tr>\n",
       "      <th>1981</th>\n",
       "      <td>178</td>\n",
       "    </tr>\n",
       "    <tr>\n",
       "      <th>1982</th>\n",
       "      <td>252</td>\n",
       "    </tr>\n",
       "    <tr>\n",
       "      <th>1983</th>\n",
       "      <td>115</td>\n",
       "    </tr>\n",
       "    <tr>\n",
       "      <th>1984</th>\n",
       "      <td>123</td>\n",
       "    </tr>\n",
       "    <tr>\n",
       "      <th>1985</th>\n",
       "      <td>100</td>\n",
       "    </tr>\n",
       "    <tr>\n",
       "      <th>1986</th>\n",
       "      <td>127</td>\n",
       "    </tr>\n",
       "    <tr>\n",
       "      <th>1987</th>\n",
       "      <td>213</td>\n",
       "    </tr>\n",
       "    <tr>\n",
       "      <th>1988</th>\n",
       "      <td>270</td>\n",
       "    </tr>\n",
       "    <tr>\n",
       "      <th>1989</th>\n",
       "      <td>260</td>\n",
       "    </tr>\n",
       "    <tr>\n",
       "      <th>1990</th>\n",
       "      <td>227</td>\n",
       "    </tr>\n",
       "    <tr>\n",
       "      <th>1991</th>\n",
       "      <td>252</td>\n",
       "    </tr>\n",
       "    <tr>\n",
       "      <th>1992</th>\n",
       "      <td>243</td>\n",
       "    </tr>\n",
       "    <tr>\n",
       "      <th>1993</th>\n",
       "      <td>278</td>\n",
       "    </tr>\n",
       "    <tr>\n",
       "      <th>1994</th>\n",
       "      <td>262</td>\n",
       "    </tr>\n",
       "    <tr>\n",
       "      <th>1995</th>\n",
       "      <td>205</td>\n",
       "    </tr>\n",
       "    <tr>\n",
       "      <th>1996</th>\n",
       "      <td>231</td>\n",
       "    </tr>\n",
       "    <tr>\n",
       "      <th>1997</th>\n",
       "      <td>166</td>\n",
       "    </tr>\n",
       "    <tr>\n",
       "      <th>1998</th>\n",
       "      <td>165</td>\n",
       "    </tr>\n",
       "    <tr>\n",
       "      <th>1999</th>\n",
       "      <td>525</td>\n",
       "    </tr>\n",
       "    <tr>\n",
       "      <th>2000</th>\n",
       "      <td>1138</td>\n",
       "    </tr>\n",
       "    <tr>\n",
       "      <th>2001</th>\n",
       "      <td>907</td>\n",
       "    </tr>\n",
       "    <tr>\n",
       "      <th>2002</th>\n",
       "      <td>709</td>\n",
       "    </tr>\n",
       "    <tr>\n",
       "      <th>2003</th>\n",
       "      <td>515</td>\n",
       "    </tr>\n",
       "    <tr>\n",
       "      <th>2004</th>\n",
       "      <td>552</td>\n",
       "    </tr>\n",
       "    <tr>\n",
       "      <th>2005</th>\n",
       "      <td>632</td>\n",
       "    </tr>\n",
       "    <tr>\n",
       "      <th>2006</th>\n",
       "      <td>613</td>\n",
       "    </tr>\n",
       "    <tr>\n",
       "      <th>2007</th>\n",
       "      <td>657</td>\n",
       "    </tr>\n",
       "    <tr>\n",
       "      <th>2008</th>\n",
       "      <td>661</td>\n",
       "    </tr>\n",
       "    <tr>\n",
       "      <th>2009</th>\n",
       "      <td>504</td>\n",
       "    </tr>\n",
       "    <tr>\n",
       "      <th>2010</th>\n",
       "      <td>712</td>\n",
       "    </tr>\n",
       "    <tr>\n",
       "      <th>2011</th>\n",
       "      <td>390</td>\n",
       "    </tr>\n",
       "    <tr>\n",
       "      <th>2012</th>\n",
       "      <td>395</td>\n",
       "    </tr>\n",
       "    <tr>\n",
       "      <th>2013</th>\n",
       "      <td>387</td>\n",
       "    </tr>\n",
       "  </tbody>\n",
       "</table>\n",
       "</div>"
      ],
      "text/plain": [
       "Country  Indonesia\n",
       "1980           186\n",
       "1981           178\n",
       "1982           252\n",
       "1983           115\n",
       "1984           123\n",
       "1985           100\n",
       "1986           127\n",
       "1987           213\n",
       "1988           270\n",
       "1989           260\n",
       "1990           227\n",
       "1991           252\n",
       "1992           243\n",
       "1993           278\n",
       "1994           262\n",
       "1995           205\n",
       "1996           231\n",
       "1997           166\n",
       "1998           165\n",
       "1999           525\n",
       "2000          1138\n",
       "2001           907\n",
       "2002           709\n",
       "2003           515\n",
       "2004           552\n",
       "2005           632\n",
       "2006           613\n",
       "2007           657\n",
       "2008           661\n",
       "2009           504\n",
       "2010           712\n",
       "2011           390\n",
       "2012           395\n",
       "2013           387"
      ]
     },
     "execution_count": 2,
     "metadata": {},
     "output_type": "execute_result"
    }
   ],
   "source": [
    "\n",
    "df_can = pd.read_excel(\"dataset/Canada.xlsx\",\n",
    "            sheet_name=\"Canada by Citizenship\",\n",
    "            skiprows=20,\n",
    "            skipfooter=2)\n",
    "\n",
    "df_can = df_can.drop(columns=['Type', 'Coverage',   'AREA', 'AreaName',      'REG',\n",
    "        'RegName',      'DEV',  'DevName'])\n",
    "df_can = df_can.rename(columns={\"OdName\":\"Country\"})\n",
    "df_can = df_can.set_index(\"Country\")\n",
    "\n",
    "# df_can\n",
    "\n",
    "df_indo = df_can.loc[[\"Indonesia\"]].T\n",
    "df_indo"
   ]
  },
  {
   "cell_type": "code",
   "execution_count": 3,
   "metadata": {},
   "outputs": [
    {
     "name": "stdout",
     "output_type": "stream",
     "text": [
      "Country\n",
      "Indonesia    386.764706\n",
      "dtype: float64\n"
     ]
    }
   ],
   "source": [
    "# mean median mode untuk total imigrasi Indonesia\n",
    "print(df_indo.mean())"
   ]
  },
  {
   "cell_type": "code",
   "execution_count": 4,
   "metadata": {},
   "outputs": [
    {
     "name": "stdout",
     "output_type": "stream",
     "text": [
      "Country\n",
      "Indonesia    266.0\n",
      "dtype: float64\n"
     ]
    }
   ],
   "source": [
    "print(df_indo.median())"
   ]
  },
  {
   "cell_type": "code",
   "execution_count": 5,
   "metadata": {},
   "outputs": [
    {
     "name": "stdout",
     "output_type": "stream",
     "text": [
      "Country  Indonesia\n",
      "0              252\n"
     ]
    }
   ],
   "source": [
    "print(df_indo.mode())"
   ]
  },
  {
   "cell_type": "code",
   "execution_count": 6,
   "metadata": {},
   "outputs": [
    {
     "data": {
      "text/plain": [
       "386.7647058823529"
      ]
     },
     "execution_count": 6,
     "metadata": {},
     "output_type": "execute_result"
    }
   ],
   "source": [
    "np.array(df_indo).mean()"
   ]
  },
  {
   "cell_type": "code",
   "execution_count": 7,
   "metadata": {},
   "outputs": [
    {
     "name": "stdout",
     "output_type": "stream",
     "text": [
      "std dev\n"
     ]
    },
    {
     "data": {
      "text/plain": [
       "Country\n",
       "Indonesia    251.233449\n",
       "dtype: float64"
      ]
     },
     "execution_count": 7,
     "metadata": {},
     "output_type": "execute_result"
    }
   ],
   "source": [
    "# std dev, variance, range, quartile, percentile\n",
    "print(\"std dev\")\n",
    "df_indo.std()"
   ]
  },
  {
   "cell_type": "code",
   "execution_count": 8,
   "metadata": {},
   "outputs": [
    {
     "data": {
      "text/plain": [
       "Country\n",
       "Indonesia    247.511266\n",
       "dtype: float64"
      ]
     },
     "execution_count": 8,
     "metadata": {},
     "output_type": "execute_result"
    }
   ],
   "source": [
    "df_indo.std(ddof=0) # kalau data population"
   ]
  },
  {
   "cell_type": "code",
   "execution_count": 9,
   "metadata": {},
   "outputs": [
    {
     "data": {
      "text/plain": [
       "Country\n",
       "Indonesia    251.233449\n",
       "dtype: float64"
      ]
     },
     "execution_count": 9,
     "metadata": {},
     "output_type": "execute_result"
    }
   ],
   "source": [
    "df_indo.std(ddof=1) # kalau data sample"
   ]
  },
  {
   "cell_type": "code",
   "execution_count": 10,
   "metadata": {},
   "outputs": [
    {
     "name": "stdout",
     "output_type": "stream",
     "text": [
      "variance\n"
     ]
    },
    {
     "data": {
      "text/plain": [
       "Country\n",
       "Indonesia    63118.245989\n",
       "dtype: float64"
      ]
     },
     "execution_count": 10,
     "metadata": {},
     "output_type": "execute_result"
    }
   ],
   "source": [
    "# variance, range, quartile, percentile\n",
    "print(\"variance\")\n",
    "df_indo.var()"
   ]
  },
  {
   "cell_type": "code",
   "execution_count": 11,
   "metadata": {},
   "outputs": [
    {
     "name": "stdout",
     "output_type": "stream",
     "text": [
      "range\n",
      "Country\n",
      "Indonesia    1038\n",
      "dtype: int64\n"
     ]
    }
   ],
   "source": [
    "# range, quartile, percentile\n",
    "print(\"range\")\n",
    "print(df_indo.max() - df_indo.min())"
   ]
  },
  {
   "cell_type": "code",
   "execution_count": 12,
   "metadata": {},
   "outputs": [
    {
     "data": {
      "text/html": [
       "<div>\n",
       "<style scoped>\n",
       "    .dataframe tbody tr th:only-of-type {\n",
       "        vertical-align: middle;\n",
       "    }\n",
       "\n",
       "    .dataframe tbody tr th {\n",
       "        vertical-align: top;\n",
       "    }\n",
       "\n",
       "    .dataframe thead th {\n",
       "        text-align: right;\n",
       "    }\n",
       "</style>\n",
       "<table border=\"1\" class=\"dataframe\">\n",
       "  <thead>\n",
       "    <tr style=\"text-align: right;\">\n",
       "      <th>Country</th>\n",
       "      <th>Indonesia</th>\n",
       "    </tr>\n",
       "  </thead>\n",
       "  <tbody>\n",
       "    <tr>\n",
       "      <th>0.25</th>\n",
       "      <td>207.00</td>\n",
       "    </tr>\n",
       "    <tr>\n",
       "      <th>0.50</th>\n",
       "      <td>266.00</td>\n",
       "    </tr>\n",
       "    <tr>\n",
       "      <th>0.75</th>\n",
       "      <td>545.25</td>\n",
       "    </tr>\n",
       "  </tbody>\n",
       "</table>\n",
       "</div>"
      ],
      "text/plain": [
       "Country  Indonesia\n",
       "0.25        207.00\n",
       "0.50        266.00\n",
       "0.75        545.25"
      ]
     },
     "execution_count": 12,
     "metadata": {},
     "output_type": "execute_result"
    }
   ],
   "source": [
    "# quartile, percentile\n",
    "df_indo.quantile([0.25,0.50,0.75])"
   ]
  },
  {
   "cell_type": "code",
   "execution_count": 13,
   "metadata": {},
   "outputs": [
    {
     "data": {
      "text/html": [
       "<div>\n",
       "<style scoped>\n",
       "    .dataframe tbody tr th:only-of-type {\n",
       "        vertical-align: middle;\n",
       "    }\n",
       "\n",
       "    .dataframe tbody tr th {\n",
       "        vertical-align: top;\n",
       "    }\n",
       "\n",
       "    .dataframe thead th {\n",
       "        text-align: right;\n",
       "    }\n",
       "</style>\n",
       "<table border=\"1\" class=\"dataframe\">\n",
       "  <thead>\n",
       "    <tr style=\"text-align: right;\">\n",
       "      <th>Country</th>\n",
       "      <th>Indonesia</th>\n",
       "    </tr>\n",
       "  </thead>\n",
       "  <tbody>\n",
       "    <tr>\n",
       "      <th>count</th>\n",
       "      <td>34.000000</td>\n",
       "    </tr>\n",
       "    <tr>\n",
       "      <th>mean</th>\n",
       "      <td>386.764706</td>\n",
       "    </tr>\n",
       "    <tr>\n",
       "      <th>std</th>\n",
       "      <td>251.233449</td>\n",
       "    </tr>\n",
       "    <tr>\n",
       "      <th>min</th>\n",
       "      <td>100.000000</td>\n",
       "    </tr>\n",
       "    <tr>\n",
       "      <th>25%</th>\n",
       "      <td>207.000000</td>\n",
       "    </tr>\n",
       "    <tr>\n",
       "      <th>50%</th>\n",
       "      <td>266.000000</td>\n",
       "    </tr>\n",
       "    <tr>\n",
       "      <th>75%</th>\n",
       "      <td>545.250000</td>\n",
       "    </tr>\n",
       "    <tr>\n",
       "      <th>max</th>\n",
       "      <td>1138.000000</td>\n",
       "    </tr>\n",
       "  </tbody>\n",
       "</table>\n",
       "</div>"
      ],
      "text/plain": [
       "Country    Indonesia\n",
       "count      34.000000\n",
       "mean      386.764706\n",
       "std       251.233449\n",
       "min       100.000000\n",
       "25%       207.000000\n",
       "50%       266.000000\n",
       "75%       545.250000\n",
       "max      1138.000000"
      ]
     },
     "execution_count": 13,
     "metadata": {},
     "output_type": "execute_result"
    }
   ],
   "source": [
    "df_indo.describe()"
   ]
  },
  {
   "cell_type": "code",
   "execution_count": 23,
   "metadata": {},
   "outputs": [
    {
     "name": "stdout",
     "output_type": "stream",
     "text": [
      "0.94316189731992\n"
     ]
    },
    {
     "data": {
      "text/plain": [
       "<AxesSubplot:xlabel='India', ylabel='China'>"
      ]
     },
     "execution_count": 23,
     "metadata": {},
     "output_type": "execute_result"
    },
    {
     "data": {
      "image/png": "[encoded data removed]",
      "text/plain": [
       "<Figure size 432x288 with 1 Axes>"
      ]
     },
     "metadata": {
      "needs_background": "light"
     },
     "output_type": "display_data"
    }
   ],
   "source": [
    "# correlation\n",
    "# misal kita mau cara korelasi antara jumlah imigran yang dikirim China dan India ke Canada\n",
    "df_india_china = df_can.loc[[\"India\", \"China\"]].T\n",
    "\n",
    "print(df_india_china[\"India\"].corr(df_india_china[\"China\"]))\n",
    "df_india_china.plot(kind=\"scatter\", x=\"India\", y=\"China\")"
   ]
  },
  {
   "cell_type": "code",
   "execution_count": 16,
   "metadata": {},
   "outputs": [],
   "source": [
    "# angka korelasi 0.94 mendekati 1 artinya korelasi antara jumlah imigran yang dikirim India dan China\n",
    "# punya korelasi positif yang kuat \"strong positive correlation\"\n",
    "# r mendekati 1"
   ]
  },
  {
   "cell_type": "code",
   "execution_count": 22,
   "metadata": {},
   "outputs": [
    {
     "name": "stdout",
     "output_type": "stream",
     "text": [
      "r antara Indonesia dan Singapore\n",
      "0.23829882620353515\n"
     ]
    },
    {
     "data": {
      "text/plain": [
       "<AxesSubplot:xlabel='Indonesia', ylabel='Singapore'>"
      ]
     },
     "execution_count": 22,
     "metadata": {},
     "output_type": "execute_result"
    },
    {
     "data": {
      "image/png": "[encoded data removed]",
      "text/plain": [
       "<Figure size 432x288 with 1 Axes>"
      ]
     },
     "metadata": {
      "needs_background": "light"
     },
     "output_type": "display_data"
    }
   ],
   "source": [
    "\n",
    "# misal kita mau cara korelasi antara jumlah imigran yang dikirim Singapore dan Indonesia ke Canada\n",
    "df = df_can.loc[[\"Indonesia\", \"Singapore\"]].T\n",
    "\n",
    "print(\"r antara Indonesia dan Singapore\")\n",
    "print(df[\"Indonesia\"].corr(df[\"Singapore\"]))\n",
    "\n",
    "df.plot(kind=\"scatter\", x=\"Indonesia\", y=\"Singapore\")"
   ]
  },
  {
   "cell_type": "code",
   "execution_count": 24,
   "metadata": {},
   "outputs": [
    {
     "name": "stdout",
     "output_type": "stream",
     "text": [
      "r antara Malaysia dan Singapore\n",
      "0.771549664108142\n"
     ]
    },
    {
     "data": {
      "text/plain": [
       "<AxesSubplot:xlabel='Malaysia', ylabel='Singapore'>"
      ]
     },
     "execution_count": 24,
     "metadata": {},
     "output_type": "execute_result"
    },
    {
     "data": {
      "image/png": "[encoded data removed]",
      "text/plain": [
       "<Figure size 432x288 with 1 Axes>"
      ]
     },
     "metadata": {
      "needs_background": "light"
     },
     "output_type": "display_data"
    }
   ],
   "source": [
    "# misal kita mau cara korelasi antara jumlah imigran yang dikirim Singapore dan Malaysia ke Canada\n",
    "df = df_can.loc[[\"Malaysia\", \"Singapore\"]].T\n",
    "\n",
    "print(\"r antara Malaysia dan Singapore\")\n",
    "print(df[\"Malaysia\"].corr(df[\"Singapore\"]))\n",
    "\n",
    "df.plot(kind=\"scatter\", x=\"Malaysia\", y=\"Singapore\")"
   ]
  },
  {
   "cell_type": "code",
   "execution_count": null,
   "metadata": {},
   "outputs": [],
   "source": []
  }
 ],
 "metadata": {
  "interpreter": {
   "hash": "4f523f7c76dd18e7ed336217f32f6f704c23c323644912475b9d3570cf04b060"
  },
  "kernelspec": {
   "display_name": "Python 3.9.7 ('base')",
   "language": "python",
   "name": "python3"
  },
  "language_info": {
   "codemirror_mode": {
    "name": "ipython",
    "version": 3
   },
   "file_extension": ".py",
   "mimetype": "text/x-python",
   "name": "python",
   "nbconvert_exporter": "python",
   "pygments_lexer": "ipython3",
   "version": "3.9.7"
  },
  "orig_nbformat": 4
 },
 "nbformat": 4,
 "nbformat_minor": 2
}
