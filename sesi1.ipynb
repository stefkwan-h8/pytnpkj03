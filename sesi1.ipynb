{
 "cells": [
  {
   "cell_type": "code",
   "execution_count": 1,
   "metadata": {},
   "outputs": [
    {
     "name": "stdout",
     "output_type": "stream",
     "text": [
      "aku file jupyter lab di vscode\n"
     ]
    }
   ],
   "source": [
    "print(\"aku file jupyter lab di vscode\")"
   ]
  },
  {
   "cell_type": "markdown",
   "metadata": {},
   "source": [
    "# Intro to Python\n",
    "- Tipe Data\n",
    "- Variable\n",
    "- Percabangan\n",
    "- Perulangan\n",
    "\n",
    "## Tipe Data\n",
    "1. integer int\n",
    "2. floating-point float\n",
    "3. string str\n",
    "4. boolean bool\n",
    "5. list\n",
    "6. tuple \n",
    "7. dictionary dict"
   ]
  },
  {
   "cell_type": "code",
   "execution_count": 3,
   "metadata": {},
   "outputs": [
    {
     "name": "stdout",
     "output_type": "stream",
     "text": [
      "100\n",
      "<class 'int'>\n"
     ]
    }
   ],
   "source": [
    "# integer\n",
    "# numerik\n",
    "# angka yang tidak ada koma nya\n",
    "1\n",
    "2\n",
    "3\n",
    "10\n",
    "100\n",
    "-13\n",
    "\n",
    "print(100)\n",
    "print(type(100))"
   ]
  },
  {
   "cell_type": "code",
   "execution_count": 5,
   "metadata": {},
   "outputs": [
    {
     "name": "stdout",
     "output_type": "stream",
     "text": [
      "12.5\n",
      "<class 'float'>\n"
     ]
    }
   ],
   "source": [
    "# float\n",
    "# numerik\n",
    "# angka yang ada koma nya\n",
    "12.5\n",
    "-7.8946567\n",
    "1.0\n",
    "0.0\n",
    "500.5\n",
    "\n",
    "print(12.5)\n",
    "print(type(12.5))"
   ]
  },
  {
   "cell_type": "code",
   "execution_count": 8,
   "metadata": {},
   "outputs": [
    {
     "name": "stdout",
     "output_type": "stream",
     "text": [
      "100.0\n",
      "12\n"
     ]
    }
   ],
   "source": [
    "# teknik untuk mengubah tipe data\n",
    "# int -> float\n",
    "print(float(100))\n",
    "\n",
    "# float -> int\n",
    "print(int(12.9))"
   ]
  },
  {
   "cell_type": "code",
   "execution_count": 9,
   "metadata": {},
   "outputs": [
    {
     "name": "stdout",
     "output_type": "stream",
     "text": [
      "halo\n",
      "<class 'str'>\n"
     ]
    }
   ],
   "source": [
    "# string\n",
    "# non-numerik\n",
    "# untuk text, digit, alfabet, simbol, spasi\n",
    "\n",
    "\"\"\n",
    "'halo'\n",
    "\"123 + 5 = 128 sudah benar kan ya?\"\n",
    "\"Python seru juga ya~~~\"\n",
    "\n",
    "print('halo')\n",
    "print(type('halo'))"
   ]
  },
  {
   "cell_type": "code",
   "execution_count": 13,
   "metadata": {},
   "outputs": [
    {
     "name": "stdout",
     "output_type": "stream",
     "text": [
      "100\n",
      "12.9\n",
      "50\n",
      "50.5\n"
     ]
    }
   ],
   "source": [
    "# teknik untuk mengubah tipe data\n",
    "# int -> str\n",
    "print(str(100))\n",
    "\n",
    "# float -> str\n",
    "print(str(12.9))\n",
    "\n",
    "# str -> int\n",
    "print(int(\"50\"))\n",
    "\n",
    "# str -> float\n",
    "print(float(\"50.5\"))"
   ]
  },
  {
   "cell_type": "code",
   "execution_count": 15,
   "metadata": {},
   "outputs": [
    {
     "name": "stdout",
     "output_type": "stream",
     "text": [
      "True\n",
      "False\n",
      "<class 'bool'>\n"
     ]
    }
   ],
   "source": [
    "# boolean\n",
    "# True False\n",
    "True\n",
    "False\n",
    "\n",
    "print(True)\n",
    "print(False)\n",
    "print(type(True))"
   ]
  },
  {
   "cell_type": "code",
   "execution_count": 20,
   "metadata": {},
   "outputs": [
    {
     "name": "stdout",
     "output_type": "stream",
     "text": [
      "True\n",
      "True\n",
      "True\n"
     ]
    }
   ],
   "source": [
    "# semua tipe data lain bisa dijadikan boolean\n",
    "# int -> bool\n",
    "print(bool(-100))\n",
    "\n",
    "# float -> bool\n",
    "print(bool(12.9))\n",
    "\n",
    "# str -> bool\n",
    "print(bool(\"50\"))"
   ]
  },
  {
   "cell_type": "code",
   "execution_count": 19,
   "metadata": {},
   "outputs": [
    {
     "name": "stdout",
     "output_type": "stream",
     "text": [
      "False\n",
      "False\n",
      "False\n",
      "False\n",
      "False\n",
      "False\n"
     ]
    }
   ],
   "source": [
    "# yang dianggap False oleh boolean hanya data kosong\n",
    "\n",
    "# konsep Falsy\n",
    "\n",
    "# int -> bool\n",
    "print(bool(0))\n",
    "\n",
    "# float -> bool\n",
    "print(bool(0.0))\n",
    "\n",
    "# str -> bool\n",
    "print(bool(\"\"))\n",
    "\n",
    "# list -> bool\n",
    "print(bool([]))\n",
    "\n",
    "# tuple -> bool\n",
    "print(bool(()))\n",
    "\n",
    "# dict -> bool\n",
    "print(bool({}))"
   ]
  },
  {
   "cell_type": "markdown",
   "metadata": {},
   "source": [
    "# Variable\n",
    "digunakan untuk menyimpan data, jadi datanya punya nama\n",
    "\n",
    "bisa dipanggil, di edit, di pakai ulang, bisa diganti isi datanya\n",
    "\n",
    "rules penamaan:\n",
    "- tidak dimulai dengan angka/simbol\n",
    "- selalu dimulai dengan alfabet\n",
    "- tidak ada spasi\n",
    "- spasi kita gantikan simbol _\n",
    "- semuanya huruf kecil\n",
    "\n",
    "snake_case -> variable\n",
    "\n",
    "camelCase -> function \n",
    "\n",
    "PascalCase -> class"
   ]
  },
  {
   "cell_type": "code",
   "execution_count": 21,
   "metadata": {},
   "outputs": [
    {
     "name": "stdout",
     "output_type": "stream",
     "text": [
      "100 90 80 70 60 50\n"
     ]
    }
   ],
   "source": [
    "nilai_andi = 100\n",
    "\n",
    "NilaiAndi = 90\n",
    "nilaiAndi = 80\n",
    "_nilai_andi_ = 70\n",
    "nilaiAndi_ = 60\n",
    "nilai_ANDI = 50\n",
    "\n",
    "print(nilai_andi, NilaiAndi, nilaiAndi, _nilai_andi_, nilaiAndi_, nilai_ANDI)"
   ]
  },
  {
   "cell_type": "code",
   "execution_count": 22,
   "metadata": {},
   "outputs": [
    {
     "name": "stdout",
     "output_type": "stream",
     "text": [
      "100\n"
     ]
    }
   ],
   "source": [
    "print(nilai_andi)"
   ]
  },
  {
   "cell_type": "code",
   "execution_count": 23,
   "metadata": {},
   "outputs": [],
   "source": [
    "nilai_andi = 110"
   ]
  },
  {
   "cell_type": "code",
   "execution_count": 24,
   "metadata": {},
   "outputs": [
    {
     "name": "stdout",
     "output_type": "stream",
     "text": [
      "110\n"
     ]
    }
   ],
   "source": [
    "print(nilai_andi)"
   ]
  },
  {
   "cell_type": "markdown",
   "metadata": {},
   "source": [
    "# Data Type\n",
    "- list\n",
    "- tuple\n",
    "- dictionary\n",
    "\n",
    "## List\n",
    "- [] isi banyak data, setiap data dipisah oleh ','\n",
    "- data di dalam list bisa di ubah\n",
    "- jumlah data dalam list bisa berubah, bisa tambah, bisa kurangin\n",
    "- cara baca datanya menggunakan \"index\" numerik integer\n",
    "- paling sering digunakan, untuk menyimpan banyak data di satu tempat, misalkan nama2 anak kelas, buah2 yang mau dibeli\n",
    "- bacaan tambahan: https://www.w3schools.com/python/python_lists.asp\n",
    "\n",
    "## Tuple\n",
    "- () isi banyak data, setiap data dipisah oleh ','\n",
    "- data di dalam tuple tidak boleh diubah\n",
    "- jumlah data dalam tuple tidak berubah\n",
    "- cara baca datanya menggunakan \"index\" numerik integer\n",
    "- sama dengan list, tapi digunakan kalau datanya tidak boleh berubah, kita menjaga supaya data tidak gk sengaja keubah\n",
    "\n",
    "## Dictionary\n",
    "- {} isi banyak data, setiap data dipisah olej ','\n",
    "- data di dalam list bisa di ubah\n",
    "- jumlah data dalam list bisa berubah, bisa tambah, bisa kurangin\n",
    "- cara baca datanya menggunakan \"key\" string\n",
    "- setiap datanya disimpan sepasang sepasang, kita isi \"key\": value, value bisa jenis data apapun, key harus string\n",
    "- untuk merepresentasikan objek dunia nyata, misalnya motor, motor punya warna \"hitam\", punya merk \"Honda\"\n"
   ]
  },
  {
   "cell_type": "code",
   "execution_count": 34,
   "metadata": {},
   "outputs": [
    {
     "name": "stdout",
     "output_type": "stream",
     "text": [
      "['anggur', 'stroberi', 'pisang']\n",
      "<class 'list'>\n"
     ]
    }
   ],
   "source": [
    "# list\n",
    "# create\n",
    "buah_buahan = [\"anggur\", \"stroberi\", \"pisang\"]\n",
    "\n",
    "print(buah_buahan)\n",
    "print(type(buah_buahan))"
   ]
  },
  {
   "cell_type": "code",
   "execution_count": 35,
   "metadata": {},
   "outputs": [
    {
     "name": "stdout",
     "output_type": "stream",
     "text": [
      "['str', True, 123, 2.45, {}, ['anggur', 'stroberi', 'pisang']]\n"
     ]
    }
   ],
   "source": [
    "list_campur = [\"str\", True, 123, 2.45, {}, buah_buahan]\n",
    "\n",
    "print(list_campur)"
   ]
  },
  {
   "cell_type": "code",
   "execution_count": 37,
   "metadata": {},
   "outputs": [
    {
     "name": "stdout",
     "output_type": "stream",
     "text": [
      "anggur\n",
      "3\n",
      "pisang\n",
      "stroberi\n",
      "False\n",
      "True\n"
     ]
    }
   ],
   "source": [
    "# read\n",
    "\n",
    "# ambil buah pertama\n",
    "print(buah_buahan[0])\n",
    "\n",
    "# cek panjang sebuah list\n",
    "print(len(buah_buahan))\n",
    "\n",
    "# ambil buah terakhir\n",
    "print(buah_buahan[-1])\n",
    "\n",
    "# ambil buah kedua\n",
    "print(buah_buahan[1])\n",
    "\n",
    "# cek apakah ada item tertentu di dalam list ini\n",
    "# apakah ada 'apel'?\n",
    "print(\"apel\" in buah_buahan)\n",
    "# apakah ada 'stroberi'?\n",
    "print(\"stroberi\" in buah_buahan)\n"
   ]
  },
  {
   "cell_type": "code",
   "execution_count": 45,
   "metadata": {},
   "outputs": [
    {
     "name": "stdout",
     "output_type": "stream",
     "text": [
      "['anggur', 'stroberi', 'pisang', 'melon']\n",
      "['stroberi', 'pisang', 'melon']\n"
     ]
    }
   ],
   "source": [
    "# edit\n",
    "buah_buahan = [\"anggur\", \"stroberi\", \"pisang\"]\n",
    "\n",
    "# nambah barang ke list\n",
    "buah_buahan.append(\"melon\")\n",
    "print(buah_buahan)\n",
    "\n",
    "# hapus barang dari list\n",
    "buah_buahan.remove(\"anggur\")\n",
    "print(buah_buahan)"
   ]
  },
  {
   "cell_type": "code",
   "execution_count": 46,
   "metadata": {},
   "outputs": [
    {
     "name": "stdout",
     "output_type": "stream",
     "text": [
      "['stroberi', 'manggis', 'melon']\n"
     ]
    }
   ],
   "source": [
    "# update satu item\n",
    "# misal ubah pisang jadi \"manggis\"\n",
    "buah_buahan[1] = \"manggis\"\n",
    "print(buah_buahan)"
   ]
  },
  {
   "cell_type": "code",
   "execution_count": 40,
   "metadata": {},
   "outputs": [
    {
     "name": "stdout",
     "output_type": "stream",
     "text": [
      "[]\n"
     ]
    }
   ],
   "source": [
    "# delete\n",
    "\n",
    "buah_buahan = []\n",
    "print(buah_buahan)\n",
    "\n",
    "# del buah_buahan\n",
    "# print(buah_buahan)"
   ]
  },
  {
   "cell_type": "code",
   "execution_count": 41,
   "metadata": {},
   "outputs": [
    {
     "name": "stdout",
     "output_type": "stream",
     "text": [
      "(60, 71, 89, 42, 100)\n",
      "<class 'tuple'>\n"
     ]
    }
   ],
   "source": [
    "# tuple\n",
    "\n",
    "# create\n",
    "nilai = (60,71,89,42,100)\n",
    "print(nilai)\n",
    "print(type(nilai))"
   ]
  },
  {
   "cell_type": "code",
   "execution_count": 43,
   "metadata": {},
   "outputs": [
    {
     "name": "stdout",
     "output_type": "stream",
     "text": [
      "(60, 71, 89)\n",
      "(42, 100)\n"
     ]
    }
   ],
   "source": [
    "# read\n",
    "# teknik indexing sama seperti list\n",
    "# teknik slicing (ambil bbrp item sekaligus) bisa dipakai di list juga\n",
    "\n",
    "# ambil nilai pertama sampai nilai ketiga\n",
    "print(nilai[0:3])\n",
    "\n",
    "# ambil dua nilai terakhir\n",
    "print(nilai[-2:])"
   ]
  },
  {
   "cell_type": "code",
   "execution_count": 44,
   "metadata": {},
   "outputs": [
    {
     "name": "stdout",
     "output_type": "stream",
     "text": [
      "(60, 71, 89, 42, 100, 90)\n"
     ]
    }
   ],
   "source": [
    "# update\n",
    "# tidak bisa, kecuali kita tukar jadi list, update, baru balikin jadi tuple\n",
    "nilai = list(nilai)\n",
    "nilai.append(90)\n",
    "nilai = tuple(nilai)\n",
    "print(nilai)"
   ]
  },
  {
   "cell_type": "code",
   "execution_count": 47,
   "metadata": {},
   "outputs": [
    {
     "name": "stdout",
     "output_type": "stream",
     "text": [
      "()\n"
     ]
    }
   ],
   "source": [
    "# delete\n",
    "\n",
    "nilai = ()\n",
    "\n",
    "# del nilai\n",
    "\n",
    "print(nilai)"
   ]
  },
  {
   "cell_type": "code",
   "execution_count": 48,
   "metadata": {},
   "outputs": [
    {
     "name": "stdout",
     "output_type": "stream",
     "text": [
      "{'warna': 'hitam', 'merk': 'Honda', 'tahun': 2010}\n",
      "<class 'dict'>\n"
     ]
    }
   ],
   "source": [
    "# dictionary\n",
    "# tipe data yang isinya sepasang sepasang\n",
    "# key string\n",
    "# value bebas tipe data apa\n",
    "\n",
    "# create\n",
    "motor = {\"warna\":\"hitam\", \"merk\":\"Honda\", \"tahun\":2010}\n",
    "\n",
    "print(motor)\n",
    "print(type(motor))"
   ]
  },
  {
   "cell_type": "code",
   "execution_count": 49,
   "metadata": {},
   "outputs": [
    {
     "name": "stdout",
     "output_type": "stream",
     "text": [
      "{'warna': 'hitam', 'merk': 'Honda', 'tahun': 2010, 'harga': 12000000, 'lokasi': 'Riau, Indonesia'}\n"
     ]
    }
   ],
   "source": [
    "# create bisa kita tambah key:value baru\n",
    "\n",
    "motor[\"harga\"] = 12000000\n",
    "motor[\"lokasi\"] = \"Riau, Indonesia\"\n",
    "print(motor)"
   ]
  },
  {
   "cell_type": "code",
   "execution_count": 56,
   "metadata": {},
   "outputs": [
    {
     "name": "stdout",
     "output_type": "stream",
     "text": [
      "hitam\n",
      "2010\n",
      "dict_keys(['warna', 'merk', 'tahun', 'harga', 'lokasi'])\n",
      "dict_values(['hitam', 'Honda', 2010, 12000000, 'Riau, Indonesia'])\n",
      "dict_items([('warna', 'hitam'), ('merk', 'Honda'), ('tahun', 2010), ('harga', 12000000), ('lokasi', 'Riau, Indonesia')])\n"
     ]
    }
   ],
   "source": [
    "# read\n",
    "\n",
    "# ambil warna motor\n",
    "print(motor[\"warna\"])\n",
    "\n",
    "# ambil tahun motor\n",
    "print(motor[\"tahun\"])\n",
    "\n",
    "# lihat semua keys yang ada di dictionary ini\n",
    "print(motor.keys())\n",
    "\n",
    "# lihat semua values yang ada di dictionary ini\n",
    "print(motor.values())\n",
    "\n",
    "# lihat semua items yang ada di dictionary ini\n",
    "print(motor.items())"
   ]
  },
  {
   "cell_type": "code",
   "execution_count": 60,
   "metadata": {},
   "outputs": [
    {
     "name": "stdout",
     "output_type": "stream",
     "text": [
      "11.0\n",
      "\n",
      "100\n",
      "282475249\n",
      "\n",
      "0\n",
      "1\n"
     ]
    }
   ],
   "source": [
    "# manipulasi data tipe numerik\n",
    "# aritmatik + - * / % **\n",
    "a = 10\n",
    "b = 7\n",
    "\n",
    "print(a + b - 10 * 3 / 5)\n",
    "print()\n",
    "\n",
    "print(a ** 2)\n",
    "print(b ** a)\n",
    "print()\n",
    "\n",
    "# ambil sisa dari pembagian, modulo, mod\n",
    "print(a % 2)\n",
    "print(b % 2)"
   ]
  },
  {
   "cell_type": "code",
   "execution_count": 64,
   "metadata": {},
   "outputs": [
    {
     "name": "stdout",
     "output_type": "stream",
     "text": [
      "True\n",
      "False\n",
      "True\n"
     ]
    }
   ],
   "source": [
    "# comparator > < >= <= != ==\n",
    "a = 10\n",
    "b = 7\n",
    "\n",
    "print(a > b)\n",
    "print(a < b)\n",
    "print(a < 20)"
   ]
  },
  {
   "cell_type": "code",
   "execution_count": 69,
   "metadata": {},
   "outputs": [
    {
     "name": "stdout",
     "output_type": "stream",
     "text": [
      "halo bandung\n",
      "halohalohalohalohalohalohalohalohalohalo\n",
      "Python Python coding coding coding \n"
     ]
    }
   ],
   "source": [
    "# manipulasi string\n",
    "# nambah ke string pakai + atau *\n",
    "msg = \"halo\"\n",
    "\n",
    "print(msg + \" bandung\")\n",
    "print(msg * 10)\n",
    "print(\"Python \" * 2 + \"coding \" * 3)"
   ]
  },
  {
   "cell_type": "code",
   "execution_count": 71,
   "metadata": {},
   "outputs": [
    {
     "name": "stdout",
     "output_type": "stream",
     "text": [
      "Hacktiv8 kelas Python 31 May 2022\n",
      "hacktiv8 kelas python 31 may 2022\n",
      "HACKTIV8 KELAS PYTHON 31 MAY 2022\n",
      "Hacktiv8 Kelas Python 31 May 2022\n"
     ]
    }
   ],
   "source": [
    "# ubah case jadi huruf kecil semua/ BESAR SEMUA/ Title Case\n",
    "msg = \"Hacktiv8 kelas Python 31 May 2022\"\n",
    "print(msg)\n",
    "print(msg.lower())\n",
    "print(msg.upper())\n",
    "print(msg.title())"
   ]
  },
  {
   "cell_type": "markdown",
   "metadata": {},
   "source": [
    "# percabangan, perulangan\n",
    "\n",
    "## Percabangan\n",
    "- pertanyaan yang bisa dijawab komputer jadi True atau False\n",
    "- kita bisa set, kalau True mau jalanin code yang mana, kalau False, mau jalanin code yang mana\n",
    "- if\n",
    "\n",
    "```python\n",
    "\n",
    "umur = 30\n",
    "kondisi = umur < 10 # kondisi bisa apapun asalkan hasilnya boolean\n",
    "\n",
    "if (kondisi):\n",
    "    # code kalau kondisi True\n",
    "    print(\"kondisi True ya\")\n",
    "else:\n",
    "    # code kalau kondisi False\n",
    "    # code bisa lebih dari 1 baris\n",
    "    print(\"kondisi False nih\")\n",
    "```\n",
    "\n",
    "## Perulangan\n",
    "melakukan satu set code yang sama berulang kali, sampai kondisi False\n",
    "\n",
    "```python\n",
    "counter = 0\n",
    "while (counter < 10):\n",
    "    # selama kondisi True, satu set code ini jalan lagi\n",
    "    print(\"kondisi True ya\")\n",
    "    # pastikan kondisi akan berubah jadi False karena code yang ada di dalam while loop ini\n",
    "    counter += 1\n",
    "\n",
    "ember = [\"red\", \"green\", \"red\", \"green\"]\n",
    "counter_merah = 0\n",
    "for bola in ember:\n",
    "    if (bola == \"red\"):\n",
    "        counter_merah += 1\n",
    "print(counter_merah)\n",
    "```\n"
   ]
  },
  {
   "cell_type": "code",
   "execution_count": 78,
   "metadata": {},
   "outputs": [
    {
     "name": "stdout",
     "output_type": "stream",
     "text": [
      "kondisi False nih\n",
      "umur cukup untuk naik roller coaster\n"
     ]
    }
   ],
   "source": [
    "# percabangan\n",
    "umur = 50\n",
    "if (umur < 10):\n",
    "    # code kalau kondisi True\n",
    "    print(\"kondisi True ya\")\n",
    "    print(\"tidak boleh naik roller coaster\")\n",
    "else:\n",
    "    # code kalau kondisi False\n",
    "    # code bisa lebih dari 1 baris\n",
    "    print(\"kondisi False nih\")\n",
    "    print(\"umur cukup untuk naik roller coaster\")"
   ]
  },
  {
   "cell_type": "code",
   "execution_count": 76,
   "metadata": {},
   "outputs": [],
   "source": [
    "umur = 15\n",
    "if (umur < 10):\n",
    "    # code kalau kondisi True\n",
    "    print(\"kondisi True ya\")\n",
    "    print(\"tidak boleh naik roller coaster\")"
   ]
  },
  {
   "cell_type": "code",
   "execution_count": 84,
   "metadata": {},
   "outputs": [
    {
     "name": "stdout",
     "output_type": "stream",
     "text": [
      "nilai Andi adalah 95\n",
      "grade yang didapat adalah A\n"
     ]
    }
   ],
   "source": [
    "# gimana kalau nilai  mau dikasih grade, tapi pertanyaan menumpuk\n",
    "#    100+ = A+\n",
    "# 90 - 99 = A\n",
    "# 80 - 89 = B\n",
    "# 70 - 79 = C\n",
    "# sisanya dapat nilai D\n",
    "\n",
    "nilai_andi = 95\n",
    "print(\"nilai Andi adalah\", nilai_andi)\n",
    "\n",
    "grade = \"\"\n",
    "if (nilai_andi >= 100):\n",
    "    grade = \"A+\"\n",
    "elif (nilai_andi >= 90):\n",
    "    grade = \"A\"        \n",
    "elif (nilai_andi >= 80):\n",
    "    grade = \"B\"        \n",
    "elif (nilai_andi >= 70):\n",
    "    grade = \"C\"        \n",
    "else:\n",
    "    grade = \"D\"\n",
    "\n",
    "\n",
    "print(\"grade yang didapat adalah \" + grade)"
   ]
  },
  {
   "cell_type": "code",
   "execution_count": 85,
   "metadata": {},
   "outputs": [
    {
     "name": "stdout",
     "output_type": "stream",
     "text": [
      "kondisi True ya 0\n",
      "kondisi True ya 1\n",
      "kondisi True ya 2\n",
      "kondisi True ya 3\n",
      "kondisi True ya 4\n",
      "kondisi True ya 5\n",
      "kondisi True ya 6\n",
      "kondisi True ya 7\n",
      "kondisi True ya 8\n",
      "kondisi True ya 9\n"
     ]
    }
   ],
   "source": [
    "# perulangan\n",
    "\n",
    "# while loop\n",
    "# loop yang berjalan selama kondisi True\n",
    "\n",
    "counter = 0\n",
    "while (counter < 10):\n",
    "    # selama kondisi True, satu set code ini jalan lagi\n",
    "    print(\"kondisi True ya\", counter)\n",
    "    # pastikan kondisi akan berubah jadi False karena code yang ada di dalam while loop ini\n",
    "    counter += 1"
   ]
  },
  {
   "cell_type": "code",
   "execution_count": 86,
   "metadata": {},
   "outputs": [
    {
     "name": "stdout",
     "output_type": "stream",
     "text": [
      "2\n"
     ]
    }
   ],
   "source": [
    "# for loop\n",
    "# loop yang membaca setiap item di sebuah koleksi\n",
    "# kalau ada 10 item, maka loop jalan 10 kali\n",
    "\n",
    "ember = [\"red\", \"green\", \"red\", \"green\"]\n",
    "counter_merah = 0\n",
    "\n",
    "for bola in ember:\n",
    "    if (bola == \"red\"):\n",
    "        counter_merah += 1\n",
    "print(counter_merah)\n",
    "\n",
    "# yang termasuk koleksi adalah: list, tuple, dictionary, string, range"
   ]
  },
  {
   "cell_type": "code",
   "execution_count": 89,
   "metadata": {},
   "outputs": [
    {
     "name": "stdout",
     "output_type": "stream",
     "text": [
      "10\n",
      "50\n",
      "88\n",
      "100\n"
     ]
    }
   ],
   "source": [
    "for n in (10,50,88,100):\n",
    "    print(n)"
   ]
  },
  {
   "cell_type": "code",
   "execution_count": 92,
   "metadata": {},
   "outputs": [
    {
     "name": "stdout",
     "output_type": "stream",
     "text": [
      "{'warna': 'hitam', 'merk': 'Honda', 'tahun': 2010, 'harga': 12000000, 'lokasi': 'Riau, Indonesia'}\n",
      "warna hitam\n",
      "merk Honda\n",
      "tahun 2010\n",
      "harga 12000000\n",
      "lokasi Riau, Indonesia\n"
     ]
    }
   ],
   "source": [
    "print(motor)\n",
    "\n",
    "for key in motor:\n",
    "    print(key, motor[key])"
   ]
  },
  {
   "cell_type": "code",
   "execution_count": 93,
   "metadata": {},
   "outputs": [
    {
     "name": "stdout",
     "output_type": "stream",
     "text": [
      "H\n",
      "a\n",
      "c\n",
      "k\n",
      "t\n",
      "i\n",
      "v\n",
      "8\n"
     ]
    }
   ],
   "source": [
    "for k in \"Hacktiv8\":\n",
    "    print(k)"
   ]
  },
  {
   "cell_type": "code",
   "execution_count": 94,
   "metadata": {},
   "outputs": [
    {
     "name": "stdout",
     "output_type": "stream",
     "text": [
      "0\n",
      "1\n",
      "2\n",
      "3\n",
      "4\n"
     ]
    }
   ],
   "source": [
    "for n in range(5):\n",
    "    print(n)"
   ]
  },
  {
   "cell_type": "code",
   "execution_count": 95,
   "metadata": {},
   "outputs": [
    {
     "name": "stdout",
     "output_type": "stream",
     "text": [
      "5\n",
      "6\n",
      "7\n",
      "8\n",
      "9\n",
      "10\n",
      "11\n"
     ]
    }
   ],
   "source": [
    "for n in range(5, 12):\n",
    "    print(n)"
   ]
  },
  {
   "cell_type": "code",
   "execution_count": 96,
   "metadata": {},
   "outputs": [
    {
     "name": "stdout",
     "output_type": "stream",
     "text": [
      "5\n",
      "80\n",
      "155\n",
      "230\n",
      "305\n",
      "380\n",
      "455\n"
     ]
    }
   ],
   "source": [
    "for n in range(5, 500, 75):\n",
    "    print(n)"
   ]
  },
  {
   "cell_type": "code",
   "execution_count": 99,
   "metadata": {},
   "outputs": [
    {
     "name": "stdout",
     "output_type": "stream",
     "text": [
      "1000\n",
      "900\n",
      "800\n",
      "700\n",
      "600\n",
      "500\n",
      "400\n",
      "300\n",
      "200\n",
      "100\n",
      "0\n"
     ]
    }
   ],
   "source": [
    "for n in range(1000, -1, -100):\n",
    "    print(n)"
   ]
  },
  {
   "cell_type": "code",
   "execution_count": null,
   "metadata": {},
   "outputs": [],
   "source": []
  }
 ],
 "metadata": {
  "interpreter": {
   "hash": "4f523f7c76dd18e7ed336217f32f6f704c23c323644912475b9d3570cf04b060"
  },
  "kernelspec": {
   "display_name": "Python 3.9.7 ('base')",
   "language": "python",
   "name": "python3"
  },
  "language_info": {
   "codemirror_mode": {
    "name": "ipython",
    "version": 3
   },
   "file_extension": ".py",
   "mimetype": "text/x-python",
   "name": "python",
   "nbconvert_exporter": "python",
   "pygments_lexer": "ipython3",
   "version": "3.9.7"
  },
  "orig_nbformat": 4
 },
 "nbformat": 4,
 "nbformat_minor": 2
}
